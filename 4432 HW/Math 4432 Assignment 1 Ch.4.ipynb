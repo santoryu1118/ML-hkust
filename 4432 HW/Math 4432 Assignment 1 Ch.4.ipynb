{
 "cells": [
  {
   "cell_type": "markdown",
   "metadata": {},
   "source": [
    "# Ch4 Q10\n",
    "(a) Produce some numerical and graphical summaries of the Weekly\n",
    "data. Do there appear to be any patterns?"
   ]
  },
  {
   "cell_type": "code",
   "execution_count": 19,
   "metadata": {},
   "outputs": [],
   "source": [
    "library(ISLR)\n",
    "library(MASS)\n",
    "data(Weekly)"
   ]
  },
  {
   "cell_type": "code",
   "execution_count": 20,
   "metadata": {},
   "outputs": [
    {
     "data": {
      "text/html": [
       "<ol class=list-inline>\n",
       "\t<li>1089</li>\n",
       "\t<li>9</li>\n",
       "</ol>\n"
      ],
      "text/latex": [
       "\\begin{enumerate*}\n",
       "\\item 1089\n",
       "\\item 9\n",
       "\\end{enumerate*}\n"
      ],
      "text/markdown": [
       "1. 1089\n",
       "2. 9\n",
       "\n",
       "\n"
      ],
      "text/plain": [
       "[1] 1089    9"
      ]
     },
     "metadata": {},
     "output_type": "display_data"
    },
    {
     "data": {
      "text/html": [
       "<table>\n",
       "<thead><tr><th scope=col>Year</th><th scope=col>Lag1</th><th scope=col>Lag2</th><th scope=col>Lag3</th><th scope=col>Lag4</th><th scope=col>Lag5</th><th scope=col>Volume</th><th scope=col>Today</th><th scope=col>Direction</th></tr></thead>\n",
       "<tbody>\n",
       "\t<tr><td>1990     </td><td> 0.816   </td><td> 1.572   </td><td>-3.936   </td><td>-0.229   </td><td>-3.484   </td><td>0.1549760</td><td>-0.270   </td><td>Down     </td></tr>\n",
       "\t<tr><td>1990     </td><td>-0.270   </td><td> 0.816   </td><td> 1.572   </td><td>-3.936   </td><td>-0.229   </td><td>0.1485740</td><td>-2.576   </td><td>Down     </td></tr>\n",
       "\t<tr><td>1990     </td><td>-2.576   </td><td>-0.270   </td><td> 0.816   </td><td> 1.572   </td><td>-3.936   </td><td>0.1598375</td><td> 3.514   </td><td>Up       </td></tr>\n",
       "\t<tr><td>1990     </td><td> 3.514   </td><td>-2.576   </td><td>-0.270   </td><td> 0.816   </td><td> 1.572   </td><td>0.1616300</td><td> 0.712   </td><td>Up       </td></tr>\n",
       "\t<tr><td>1990     </td><td> 0.712   </td><td> 3.514   </td><td>-2.576   </td><td>-0.270   </td><td> 0.816   </td><td>0.1537280</td><td> 1.178   </td><td>Up       </td></tr>\n",
       "\t<tr><td>1990     </td><td> 1.178   </td><td> 0.712   </td><td> 3.514   </td><td>-2.576   </td><td>-0.270   </td><td>0.1544440</td><td>-1.372   </td><td>Down     </td></tr>\n",
       "</tbody>\n",
       "</table>\n"
      ],
      "text/latex": [
       "\\begin{tabular}{r|lllllllll}\n",
       " Year & Lag1 & Lag2 & Lag3 & Lag4 & Lag5 & Volume & Today & Direction\\\\\n",
       "\\hline\n",
       "\t 1990      &  0.816    &  1.572    & -3.936    & -0.229    & -3.484    & 0.1549760 & -0.270    & Down     \\\\\n",
       "\t 1990      & -0.270    &  0.816    &  1.572    & -3.936    & -0.229    & 0.1485740 & -2.576    & Down     \\\\\n",
       "\t 1990      & -2.576    & -0.270    &  0.816    &  1.572    & -3.936    & 0.1598375 &  3.514    & Up       \\\\\n",
       "\t 1990      &  3.514    & -2.576    & -0.270    &  0.816    &  1.572    & 0.1616300 &  0.712    & Up       \\\\\n",
       "\t 1990      &  0.712    &  3.514    & -2.576    & -0.270    &  0.816    & 0.1537280 &  1.178    & Up       \\\\\n",
       "\t 1990      &  1.178    &  0.712    &  3.514    & -2.576    & -0.270    & 0.1544440 & -1.372    & Down     \\\\\n",
       "\\end{tabular}\n"
      ],
      "text/markdown": [
       "\n",
       "| Year | Lag1 | Lag2 | Lag3 | Lag4 | Lag5 | Volume | Today | Direction |\n",
       "|---|---|---|---|---|---|---|---|---|\n",
       "| 1990      |  0.816    |  1.572    | -3.936    | -0.229    | -3.484    | 0.1549760 | -0.270    | Down      |\n",
       "| 1990      | -0.270    |  0.816    |  1.572    | -3.936    | -0.229    | 0.1485740 | -2.576    | Down      |\n",
       "| 1990      | -2.576    | -0.270    |  0.816    |  1.572    | -3.936    | 0.1598375 |  3.514    | Up        |\n",
       "| 1990      |  3.514    | -2.576    | -0.270    |  0.816    |  1.572    | 0.1616300 |  0.712    | Up        |\n",
       "| 1990      |  0.712    |  3.514    | -2.576    | -0.270    |  0.816    | 0.1537280 |  1.178    | Up        |\n",
       "| 1990      |  1.178    |  0.712    |  3.514    | -2.576    | -0.270    | 0.1544440 | -1.372    | Down      |\n",
       "\n"
      ],
      "text/plain": [
       "  Year Lag1   Lag2   Lag3   Lag4   Lag5   Volume    Today  Direction\n",
       "1 1990  0.816  1.572 -3.936 -0.229 -3.484 0.1549760 -0.270 Down     \n",
       "2 1990 -0.270  0.816  1.572 -3.936 -0.229 0.1485740 -2.576 Down     \n",
       "3 1990 -2.576 -0.270  0.816  1.572 -3.936 0.1598375  3.514 Up       \n",
       "4 1990  3.514 -2.576 -0.270  0.816  1.572 0.1616300  0.712 Up       \n",
       "5 1990  0.712  3.514 -2.576 -0.270  0.816 0.1537280  1.178 Up       \n",
       "6 1990  1.178  0.712  3.514 -2.576 -0.270 0.1544440 -1.372 Down     "
      ]
     },
     "metadata": {},
     "output_type": "display_data"
    },
    {
     "data": {
      "text/plain": [
       "      Year           Lag1               Lag2               Lag3         \n",
       " Min.   :1990   Min.   :-18.1950   Min.   :-18.1950   Min.   :-18.1950  \n",
       " 1st Qu.:1995   1st Qu.: -1.1540   1st Qu.: -1.1540   1st Qu.: -1.1580  \n",
       " Median :2000   Median :  0.2410   Median :  0.2410   Median :  0.2410  \n",
       " Mean   :2000   Mean   :  0.1506   Mean   :  0.1511   Mean   :  0.1472  \n",
       " 3rd Qu.:2005   3rd Qu.:  1.4050   3rd Qu.:  1.4090   3rd Qu.:  1.4090  \n",
       " Max.   :2010   Max.   : 12.0260   Max.   : 12.0260   Max.   : 12.0260  \n",
       "      Lag4               Lag5              Volume            Today         \n",
       " Min.   :-18.1950   Min.   :-18.1950   Min.   :0.08747   Min.   :-18.1950  \n",
       " 1st Qu.: -1.1580   1st Qu.: -1.1660   1st Qu.:0.33202   1st Qu.: -1.1540  \n",
       " Median :  0.2380   Median :  0.2340   Median :1.00268   Median :  0.2410  \n",
       " Mean   :  0.1458   Mean   :  0.1399   Mean   :1.57462   Mean   :  0.1499  \n",
       " 3rd Qu.:  1.4090   3rd Qu.:  1.4050   3rd Qu.:2.05373   3rd Qu.:  1.4050  \n",
       " Max.   : 12.0260   Max.   : 12.0260   Max.   :9.32821   Max.   : 12.0260  \n",
       " Direction \n",
       " Down:484  \n",
       " Up  :605  \n",
       "           \n",
       "           \n",
       "           \n",
       "           "
      ]
     },
     "metadata": {},
     "output_type": "display_data"
    }
   ],
   "source": [
    "dim(Weekly)\n",
    "head(Weekly)\n",
    "summary(Weekly)"
   ]
  },
  {
   "cell_type": "code",
   "execution_count": 21,
   "metadata": {},
   "outputs": [
    {
     "data": {
      "image/png": "[encoded data removed]",
      "text/plain": [
       "plot without title"
      ]
     },
     "metadata": {},
     "output_type": "display_data"
    }
   ],
   "source": [
    "pairs(Weekly)"
   ]
  },
  {
   "cell_type": "code",
   "execution_count": 22,
   "metadata": {},
   "outputs": [
    {
     "data": {
      "text/html": [
       "<table>\n",
       "<thead><tr><th></th><th scope=col>Year</th><th scope=col>Lag1</th><th scope=col>Lag2</th><th scope=col>Lag3</th><th scope=col>Lag4</th><th scope=col>Lag5</th><th scope=col>Volume</th><th scope=col>Today</th></tr></thead>\n",
       "<tbody>\n",
       "\t<tr><th scope=row>Year</th><td> 1.00000000 </td><td>-0.032289274</td><td>-0.03339001 </td><td>-0.03000649 </td><td>-0.031127923</td><td>-0.030519101</td><td> 0.84194162 </td><td>-0.032459894</td></tr>\n",
       "\t<tr><th scope=row>Lag1</th><td>-0.03228927 </td><td> 1.000000000</td><td>-0.07485305 </td><td> 0.05863568 </td><td>-0.071273876</td><td>-0.008183096</td><td>-0.06495131 </td><td>-0.075031842</td></tr>\n",
       "\t<tr><th scope=row>Lag2</th><td>-0.03339001 </td><td>-0.074853051</td><td> 1.00000000 </td><td>-0.07572091 </td><td> 0.058381535</td><td>-0.072499482</td><td>-0.08551314 </td><td> 0.059166717</td></tr>\n",
       "\t<tr><th scope=row>Lag3</th><td>-0.03000649 </td><td> 0.058635682</td><td>-0.07572091 </td><td> 1.00000000 </td><td>-0.075395865</td><td> 0.060657175</td><td>-0.06928771 </td><td>-0.071243639</td></tr>\n",
       "\t<tr><th scope=row>Lag4</th><td>-0.03112792 </td><td>-0.071273876</td><td> 0.05838153 </td><td>-0.07539587 </td><td> 1.000000000</td><td>-0.075675027</td><td>-0.06107462 </td><td>-0.007825873</td></tr>\n",
       "\t<tr><th scope=row>Lag5</th><td>-0.03051910 </td><td>-0.008183096</td><td>-0.07249948 </td><td> 0.06065717 </td><td>-0.075675027</td><td> 1.000000000</td><td>-0.05851741 </td><td> 0.011012698</td></tr>\n",
       "\t<tr><th scope=row>Volume</th><td> 0.84194162 </td><td>-0.064951313</td><td>-0.08551314 </td><td>-0.06928771 </td><td>-0.061074617</td><td>-0.058517414</td><td> 1.00000000 </td><td>-0.033077783</td></tr>\n",
       "\t<tr><th scope=row>Today</th><td>-0.03245989 </td><td>-0.075031842</td><td> 0.05916672 </td><td>-0.07124364 </td><td>-0.007825873</td><td> 0.011012698</td><td>-0.03307778 </td><td> 1.000000000</td></tr>\n",
       "</tbody>\n",
       "</table>\n"
      ],
      "text/latex": [
       "\\begin{tabular}{r|llllllll}\n",
       "  & Year & Lag1 & Lag2 & Lag3 & Lag4 & Lag5 & Volume & Today\\\\\n",
       "\\hline\n",
       "\tYear &  1.00000000  & -0.032289274 & -0.03339001  & -0.03000649  & -0.031127923 & -0.030519101 &  0.84194162  & -0.032459894\\\\\n",
       "\tLag1 & -0.03228927  &  1.000000000 & -0.07485305  &  0.05863568  & -0.071273876 & -0.008183096 & -0.06495131  & -0.075031842\\\\\n",
       "\tLag2 & -0.03339001  & -0.074853051 &  1.00000000  & -0.07572091  &  0.058381535 & -0.072499482 & -0.08551314  &  0.059166717\\\\\n",
       "\tLag3 & -0.03000649  &  0.058635682 & -0.07572091  &  1.00000000  & -0.075395865 &  0.060657175 & -0.06928771  & -0.071243639\\\\\n",
       "\tLag4 & -0.03112792  & -0.071273876 &  0.05838153  & -0.07539587  &  1.000000000 & -0.075675027 & -0.06107462  & -0.007825873\\\\\n",
       "\tLag5 & -0.03051910  & -0.008183096 & -0.07249948  &  0.06065717  & -0.075675027 &  1.000000000 & -0.05851741  &  0.011012698\\\\\n",
       "\tVolume &  0.84194162  & -0.064951313 & -0.08551314  & -0.06928771  & -0.061074617 & -0.058517414 &  1.00000000  & -0.033077783\\\\\n",
       "\tToday & -0.03245989  & -0.075031842 &  0.05916672  & -0.07124364  & -0.007825873 &  0.011012698 & -0.03307778  &  1.000000000\\\\\n",
       "\\end{tabular}\n"
      ],
      "text/markdown": [
       "\n",
       "| <!--/--> | Year | Lag1 | Lag2 | Lag3 | Lag4 | Lag5 | Volume | Today |\n",
       "|---|---|---|---|---|---|---|---|---|\n",
       "| Year |  1.00000000  | -0.032289274 | -0.03339001  | -0.03000649  | -0.031127923 | -0.030519101 |  0.84194162  | -0.032459894 |\n",
       "| Lag1 | -0.03228927  |  1.000000000 | -0.07485305  |  0.05863568  | -0.071273876 | -0.008183096 | -0.06495131  | -0.075031842 |\n",
       "| Lag2 | -0.03339001  | -0.074853051 |  1.00000000  | -0.07572091  |  0.058381535 | -0.072499482 | -0.08551314  |  0.059166717 |\n",
       "| Lag3 | -0.03000649  |  0.058635682 | -0.07572091  |  1.00000000  | -0.075395865 |  0.060657175 | -0.06928771  | -0.071243639 |\n",
       "| Lag4 | -0.03112792  | -0.071273876 |  0.05838153  | -0.07539587  |  1.000000000 | -0.075675027 | -0.06107462  | -0.007825873 |\n",
       "| Lag5 | -0.03051910  | -0.008183096 | -0.07249948  |  0.06065717  | -0.075675027 |  1.000000000 | -0.05851741  |  0.011012698 |\n",
       "| Volume |  0.84194162  | -0.064951313 | -0.08551314  | -0.06928771  | -0.061074617 | -0.058517414 |  1.00000000  | -0.033077783 |\n",
       "| Today | -0.03245989  | -0.075031842 |  0.05916672  | -0.07124364  | -0.007825873 |  0.011012698 | -0.03307778  |  1.000000000 |\n",
       "\n"
      ],
      "text/plain": [
       "       Year        Lag1         Lag2        Lag3        Lag4        \n",
       "Year    1.00000000 -0.032289274 -0.03339001 -0.03000649 -0.031127923\n",
       "Lag1   -0.03228927  1.000000000 -0.07485305  0.05863568 -0.071273876\n",
       "Lag2   -0.03339001 -0.074853051  1.00000000 -0.07572091  0.058381535\n",
       "Lag3   -0.03000649  0.058635682 -0.07572091  1.00000000 -0.075395865\n",
       "Lag4   -0.03112792 -0.071273876  0.05838153 -0.07539587  1.000000000\n",
       "Lag5   -0.03051910 -0.008183096 -0.07249948  0.06065717 -0.075675027\n",
       "Volume  0.84194162 -0.064951313 -0.08551314 -0.06928771 -0.061074617\n",
       "Today  -0.03245989 -0.075031842  0.05916672 -0.07124364 -0.007825873\n",
       "       Lag5         Volume      Today       \n",
       "Year   -0.030519101  0.84194162 -0.032459894\n",
       "Lag1   -0.008183096 -0.06495131 -0.075031842\n",
       "Lag2   -0.072499482 -0.08551314  0.059166717\n",
       "Lag3    0.060657175 -0.06928771 -0.071243639\n",
       "Lag4   -0.075675027 -0.06107462 -0.007825873\n",
       "Lag5    1.000000000 -0.05851741  0.011012698\n",
       "Volume -0.058517414  1.00000000 -0.033077783\n",
       "Today   0.011012698 -0.03307778  1.000000000"
      ]
     },
     "metadata": {},
     "output_type": "display_data"
    }
   ],
   "source": [
    "cor(Weekly[1:8])"
   ]
  },
  {
   "cell_type": "markdown",
   "metadata": {},
   "source": [
    "There doesn't seem to be significant correlation between variables except for the pair volume and year which has a correlation of 0.8419. "
   ]
  },
  {
   "cell_type": "code",
   "execution_count": 23,
   "metadata": {},
   "outputs": [
    {
     "data": {
      "image/png": "[encoded data removed]",
      "text/plain": [
       "plot without title"
      ]
     },
     "metadata": {},
     "output_type": "display_data"
    }
   ],
   "source": [
    "plot(Weekly$Year, Weekly$Volume, xlab = \"Year\", ylab= \"Volume\")"
   ]
  },
  {
   "cell_type": "markdown",
   "metadata": {},
   "source": [
    "We can observe as time passes, the volume shows an increasing trend, especially after year 2005."
   ]
  },
  {
   "cell_type": "markdown",
   "metadata": {},
   "source": [
    "(b) Use the full data set to perform a logistic regression with\n",
    "Direction as the response and the five lag variables plus Volume\n",
    "as predictors. Use the summary function to print the results. Do\n",
    "any of the predictors appear to be statistically significant? If so,\n",
    "which ones?"
   ]
  },
  {
   "cell_type": "code",
   "execution_count": 27,
   "metadata": {},
   "outputs": [
    {
     "data": {
      "text/plain": [
       "\n",
       "Call:\n",
       "glm(formula = Direction ~ Lag1 + Lag2 + Lag3 + Lag4 + Lag5 + \n",
       "    Volume, family = binomial, data = Weekly)\n",
       "\n",
       "Deviance Residuals: \n",
       "    Min       1Q   Median       3Q      Max  \n",
       "-1.6949  -1.2565   0.9913   1.0849   1.4579  \n",
       "\n",
       "Coefficients:\n",
       "            Estimate Std. Error z value Pr(>|z|)   \n",
       "(Intercept)  0.26686    0.08593   3.106   0.0019 **\n",
       "Lag1        -0.04127    0.02641  -1.563   0.1181   \n",
       "Lag2         0.05844    0.02686   2.175   0.0296 * \n",
       "Lag3        -0.01606    0.02666  -0.602   0.5469   \n",
       "Lag4        -0.02779    0.02646  -1.050   0.2937   \n",
       "Lag5        -0.01447    0.02638  -0.549   0.5833   \n",
       "Volume      -0.02274    0.03690  -0.616   0.5377   \n",
       "---\n",
       "Signif. codes:  0 '***' 0.001 '**' 0.01 '*' 0.05 '.' 0.1 ' ' 1\n",
       "\n",
       "(Dispersion parameter for binomial family taken to be 1)\n",
       "\n",
       "    Null deviance: 1496.2  on 1088  degrees of freedom\n",
       "Residual deviance: 1486.4  on 1082  degrees of freedom\n",
       "AIC: 1500.4\n",
       "\n",
       "Number of Fisher Scoring iterations: 4\n"
      ]
     },
     "metadata": {},
     "output_type": "display_data"
    }
   ],
   "source": [
    "glm.fits = glm(Direction~Lag1+Lag2+Lag3+Lag4+Lag5+Volume, data=Weekly, family= binomial)\n",
    "summary(glm.fits)"
   ]
  },
  {
   "cell_type": "markdown",
   "metadata": {},
   "source": [
    "Observing the p-values for each variables, Lag2 is the only variable that has a significant p-value."
   ]
  },
  {
   "cell_type": "markdown",
   "metadata": {},
   "source": [
    "(c) Compute the confusion matrix and overall fraction of correct\n",
    "predictions. Explain what the confusion matrix is telling you\n",
    "about the types of mistakes made by logistic regression."
   ]
  },
  {
   "cell_type": "code",
   "execution_count": 32,
   "metadata": {},
   "outputs": [
    {
     "data": {
      "text/html": [
       "<dl class=dl-horizontal>\n",
       "\t<dt>1</dt>\n",
       "\t\t<dd>0.608624944335381</dd>\n",
       "\t<dt>2</dt>\n",
       "\t\t<dd>0.601031436565434</dd>\n",
       "\t<dt>3</dt>\n",
       "\t\t<dd>0.587569945934812</dd>\n",
       "\t<dt>4</dt>\n",
       "\t\t<dd>0.481641563622447</dd>\n",
       "\t<dt>5</dt>\n",
       "\t\t<dd>0.61690129222657</dd>\n",
       "\t<dt>6</dt>\n",
       "\t\t<dd>0.568419018945013</dd>\n",
       "\t<dt>7</dt>\n",
       "\t\t<dd>0.578609714614269</dd>\n",
       "\t<dt>8</dt>\n",
       "\t\t<dd>0.515197243692007</dd>\n",
       "\t<dt>9</dt>\n",
       "\t\t<dd>0.571519975294155</dd>\n",
       "\t<dt>10</dt>\n",
       "\t\t<dd>0.555428733703301</dd>\n",
       "</dl>\n"
      ],
      "text/latex": [
       "\\begin{description*}\n",
       "\\item[1] 0.608624944335381\n",
       "\\item[2] 0.601031436565434\n",
       "\\item[3] 0.587569945934812\n",
       "\\item[4] 0.481641563622447\n",
       "\\item[5] 0.61690129222657\n",
       "\\item[6] 0.568419018945013\n",
       "\\item[7] 0.578609714614269\n",
       "\\item[8] 0.515197243692007\n",
       "\\item[9] 0.571519975294155\n",
       "\\item[10] 0.555428733703301\n",
       "\\end{description*}\n"
      ],
      "text/markdown": [
       "1\n",
       ":   0.6086249443353812\n",
       ":   0.6010314365654343\n",
       ":   0.5875699459348124\n",
       ":   0.4816415636224475\n",
       ":   0.616901292226576\n",
       ":   0.5684190189450137\n",
       ":   0.5786097146142698\n",
       ":   0.5151972436920079\n",
       ":   0.57151997529415510\n",
       ":   0.555428733703301\n",
       "\n"
      ],
      "text/plain": [
       "        1         2         3         4         5         6         7         8 \n",
       "0.6086249 0.6010314 0.5875699 0.4816416 0.6169013 0.5684190 0.5786097 0.5151972 \n",
       "        9        10 \n",
       "0.5715200 0.5554287 "
      ]
     },
     "metadata": {},
     "output_type": "display_data"
    }
   ],
   "source": [
    "glm.probs = predict(glm.fits, type ='response')\n",
    "glm.probs[1:10]"
   ]
  },
  {
   "cell_type": "code",
   "execution_count": 60,
   "metadata": {},
   "outputs": [
    {
     "name": "stderr",
     "output_type": "stream",
     "text": [
      "The following objects are masked from Weekly (pos = 3):\n",
      "\n",
      "    Direction, Lag1, Lag2, Lag3, Lag4, Lag5, Today, Volume, Year\n",
      "\n",
      "The following objects are masked from Weekly (pos = 4):\n",
      "\n",
      "    Direction, Lag1, Lag2, Lag3, Lag4, Lag5, Today, Volume, Year\n",
      "\n",
      "The following objects are masked from Weekly (pos = 5):\n",
      "\n",
      "    Direction, Lag1, Lag2, Lag3, Lag4, Lag5, Today, Volume, Year\n",
      "\n",
      "The following objects are masked from Weekly (pos = 6):\n",
      "\n",
      "    Direction, Lag1, Lag2, Lag3, Lag4, Lag5, Today, Volume, Year\n",
      "\n",
      "The following objects are masked from Weekly (pos = 7):\n",
      "\n",
      "    Direction, Lag1, Lag2, Lag3, Lag4, Lag5, Today, Volume, Year\n",
      "\n",
      "The following objects are masked from Weekly (pos = 8):\n",
      "\n",
      "    Direction, Lag1, Lag2, Lag3, Lag4, Lag5, Today, Volume, Year\n",
      "\n",
      "The following objects are masked from Weekly (pos = 9):\n",
      "\n",
      "    Direction, Lag1, Lag2, Lag3, Lag4, Lag5, Today, Volume, Year\n",
      "\n",
      "The following objects are masked from Weekly (pos = 10):\n",
      "\n",
      "    Direction, Lag1, Lag2, Lag3, Lag4, Lag5, Today, Volume, Year\n",
      "\n",
      "The following objects are masked from Weekly (pos = 11):\n",
      "\n",
      "    Direction, Lag1, Lag2, Lag3, Lag4, Lag5, Today, Volume, Year\n",
      "\n",
      "The following objects are masked from Weekly (pos = 12):\n",
      "\n",
      "    Direction, Lag1, Lag2, Lag3, Lag4, Lag5, Today, Volume, Year\n",
      "\n",
      "The following objects are masked from Weekly (pos = 13):\n",
      "\n",
      "    Direction, Lag1, Lag2, Lag3, Lag4, Lag5, Today, Volume, Year\n",
      "\n",
      "The following objects are masked from Weekly (pos = 14):\n",
      "\n",
      "    Direction, Lag1, Lag2, Lag3, Lag4, Lag5, Today, Volume, Year\n",
      "\n",
      "The following objects are masked from Weekly (pos = 15):\n",
      "\n",
      "    Direction, Lag1, Lag2, Lag3, Lag4, Lag5, Today, Volume, Year\n",
      "\n",
      "The following objects are masked from Weekly (pos = 16):\n",
      "\n",
      "    Direction, Lag1, Lag2, Lag3, Lag4, Lag5, Today, Volume, Year\n",
      "\n",
      "The following objects are masked from Weekly (pos = 17):\n",
      "\n",
      "    Direction, Lag1, Lag2, Lag3, Lag4, Lag5, Today, Volume, Year\n",
      "\n",
      "The following objects are masked from Weekly (pos = 18):\n",
      "\n",
      "    Direction, Lag1, Lag2, Lag3, Lag4, Lag5, Today, Volume, Year\n",
      "\n",
      "The following objects are masked from Weekly (pos = 19):\n",
      "\n",
      "    Direction, Lag1, Lag2, Lag3, Lag4, Lag5, Today, Volume, Year\n",
      "\n",
      "The following objects are masked from Weekly (pos = 20):\n",
      "\n",
      "    Direction, Lag1, Lag2, Lag3, Lag4, Lag5, Today, Volume, Year\n",
      "\n",
      "The following objects are masked from Weekly (pos = 21):\n",
      "\n",
      "    Direction, Lag1, Lag2, Lag3, Lag4, Lag5, Today, Volume, Year\n",
      "\n",
      "The following objects are masked from Weekly (pos = 22):\n",
      "\n",
      "    Direction, Lag1, Lag2, Lag3, Lag4, Lag5, Today, Volume, Year\n",
      "\n",
      "The following objects are masked from Weekly (pos = 23):\n",
      "\n",
      "    Direction, Lag1, Lag2, Lag3, Lag4, Lag5, Today, Volume, Year\n",
      "\n"
     ]
    },
    {
     "data": {
      "text/html": [
       "<table>\n",
       "<thead><tr><th></th><th scope=col>Up</th></tr></thead>\n",
       "<tbody>\n",
       "\t<tr><th scope=row>Down</th><td>0</td></tr>\n",
       "\t<tr><th scope=row>Up</th><td>1</td></tr>\n",
       "</tbody>\n",
       "</table>\n"
      ],
      "text/latex": [
       "\\begin{tabular}{r|l}\n",
       "  & Up\\\\\n",
       "\\hline\n",
       "\tDown & 0\\\\\n",
       "\tUp & 1\\\\\n",
       "\\end{tabular}\n"
      ],
      "text/markdown": [
       "\n",
       "| <!--/--> | Up |\n",
       "|---|---|\n",
       "| Down | 0 |\n",
       "| Up | 1 |\n",
       "\n"
      ],
      "text/plain": [
       "     Up\n",
       "Down 0 \n",
       "Up   1 "
      ]
     },
     "metadata": {},
     "output_type": "display_data"
    }
   ],
   "source": [
    "attach(Weekly)\n",
    "contrasts(Direction)\n",
    "glm.pred=rep(\"Down\", length(glm.probs))\n",
    "glm.pred[glm.probs>0.5] = \"UP\"\n",
    "confusion_table = table(glm.pred,Direction)"
   ]
  },
  {
   "cell_type": "code",
   "execution_count": 78,
   "metadata": {},
   "outputs": [
    {
     "data": {
      "text/plain": [
       "        Direction\n",
       "glm.pred Down  Up\n",
       "    Down   54  48\n",
       "    UP    430 557"
      ]
     },
     "metadata": {},
     "output_type": "display_data"
    },
    {
     "data": {
      "text/html": [
       "0.561065197428834"
      ],
      "text/latex": [
       "0.561065197428834"
      ],
      "text/markdown": [
       "0.561065197428834"
      ],
      "text/plain": [
       "[1] 0.5610652"
      ]
     },
     "metadata": {},
     "output_type": "display_data"
    },
    {
     "data": {
      "text/html": [
       "0.470588235294118"
      ],
      "text/latex": [
       "0.470588235294118"
      ],
      "text/markdown": [
       "0.470588235294118"
      ],
      "text/plain": [
       "[1] 0.4705882"
      ]
     },
     "metadata": {},
     "output_type": "display_data"
    },
    {
     "data": {
      "text/html": [
       "0.564336372847011"
      ],
      "text/latex": [
       "0.564336372847011"
      ],
      "text/markdown": [
       "0.564336372847011"
      ],
      "text/plain": [
       "[1] 0.5643364"
      ]
     },
     "metadata": {},
     "output_type": "display_data"
    }
   ],
   "source": [
    "confusion_table\n",
    "accuracy = (confusion_table[1,1]+confusion_table[2,2])/length(Direction)\n",
    "fpr = confusion_table[1,2] / (confusion_table[1,1] + confusion_table[1,2])\n",
    "tpr = confusion_table[2,2] / (confusion_table[2,1]+ confusion_table[2,2])\n",
    "accuracy\n",
    "fpr \n",
    "tpr"
   ]
  },
  {
   "cell_type": "markdown",
   "metadata": {},
   "source": [
    "First, with threshold 0.5, the accuracy of the predictions is 56%. <br>\n",
    "Next, the false positive rate, the percentage of getting the up directions when it is actually down, is 47%.<br>\n",
    "Lastly, the true positive rate, getting the correct up days when it is actually up, is 56%."
   ]
  },
  {
   "cell_type": "markdown",
   "metadata": {},
   "source": [
    "(d) Now fit the logistic regression model using a training data period\n",
    "from 1990 to 2008, with Lag2 as the only predictor. Compute the\n",
    "confusion matrix and the overall fraction of correct predictions\n",
    "for the held out data (that is, the data from 2009 and 2010)."
   ]
  },
  {
   "cell_type": "code",
   "execution_count": 186,
   "metadata": {},
   "outputs": [
    {
     "data": {
      "text/html": [
       "<table>\n",
       "<thead><tr><th></th><th scope=col>Up</th></tr></thead>\n",
       "<tbody>\n",
       "\t<tr><th scope=row>Down</th><td>0</td></tr>\n",
       "\t<tr><th scope=row>Up</th><td>1</td></tr>\n",
       "</tbody>\n",
       "</table>\n"
      ],
      "text/latex": [
       "\\begin{tabular}{r|l}\n",
       "  & Up\\\\\n",
       "\\hline\n",
       "\tDown & 0\\\\\n",
       "\tUp & 1\\\\\n",
       "\\end{tabular}\n"
      ],
      "text/markdown": [
       "\n",
       "| <!--/--> | Up |\n",
       "|---|---|\n",
       "| Down | 0 |\n",
       "| Up | 1 |\n",
       "\n"
      ],
      "text/plain": [
       "     Up\n",
       "Down 0 \n",
       "Up   1 "
      ]
     },
     "metadata": {},
     "output_type": "display_data"
    },
    {
     "data": {
      "text/plain": [
       "        Direction.2009\n",
       "glm.pred Down Up\n",
       "    Down    9  5\n",
       "    Up     34 56"
      ]
     },
     "metadata": {},
     "output_type": "display_data"
    },
    {
     "data": {
      "text/html": [
       "0.625"
      ],
      "text/latex": [
       "0.625"
      ],
      "text/markdown": [
       "0.625"
      ],
      "text/plain": [
       "[1] 0.625"
      ]
     },
     "metadata": {},
     "output_type": "display_data"
    },
    {
     "data": {
      "text/html": [
       "0.622222222222222"
      ],
      "text/latex": [
       "0.622222222222222"
      ],
      "text/markdown": [
       "0.622222222222222"
      ],
      "text/plain": [
       "[1] 0.6222222"
      ]
     },
     "metadata": {},
     "output_type": "display_data"
    }
   ],
   "source": [
    "train = Year <=2008\n",
    "Weekly.2008 = Weekly[train,]\n",
    "Direction.2008 = Direction[train]\n",
    "Weekly.2009 = Weekly[!train,]\n",
    "Direction.2009 = Direction[!train]\n",
    "\n",
    "glm.fit= glm(Direction~Lag2, data= Weekly, family = binomial, subset= train)\n",
    "glm.prob = predict(glm.fit,Weekly.2009, type ='response')\n",
    "\n",
    "contrasts(Direction)\n",
    "glm.pred=rep(\"Down\", length(glm.prob))\n",
    "glm.pred[glm.prob>0.5] = \"Up\"\n",
    "confusion_table = table(glm.pred, Direction.2009)\n",
    "confusion_table\n",
    "(confusion_table[1,1]+confusion_table[2,2])/length(Direction.2009)\n",
    "confusion_table[2,2] / (confusion_table[2,1]+ confusion_table[2,2])"
   ]
  },
  {
   "cell_type": "markdown",
   "metadata": {},
   "source": [
    "(e) Repeat (d) using LDA."
   ]
  },
  {
   "cell_type": "code",
   "execution_count": 187,
   "metadata": {},
   "outputs": [
    {
     "data": {
      "text/html": [
       "<table>\n",
       "<thead><tr><th></th><th scope=col>Up</th></tr></thead>\n",
       "<tbody>\n",
       "\t<tr><th scope=row>Down</th><td>0</td></tr>\n",
       "\t<tr><th scope=row>Up</th><td>1</td></tr>\n",
       "</tbody>\n",
       "</table>\n"
      ],
      "text/latex": [
       "\\begin{tabular}{r|l}\n",
       "  & Up\\\\\n",
       "\\hline\n",
       "\tDown & 0\\\\\n",
       "\tUp & 1\\\\\n",
       "\\end{tabular}\n"
      ],
      "text/markdown": [
       "\n",
       "| <!--/--> | Up |\n",
       "|---|---|\n",
       "| Down | 0 |\n",
       "| Up | 1 |\n",
       "\n"
      ],
      "text/plain": [
       "     Up\n",
       "Down 0 \n",
       "Up   1 "
      ]
     },
     "metadata": {},
     "output_type": "display_data"
    },
    {
     "data": {
      "text/plain": [
       "      Direction.2009\n",
       "       Down Up\n",
       "  Down    9  5\n",
       "  Up     34 56"
      ]
     },
     "metadata": {},
     "output_type": "display_data"
    },
    {
     "data": {
      "text/html": [
       "0.625"
      ],
      "text/latex": [
       "0.625"
      ],
      "text/markdown": [
       "0.625"
      ],
      "text/plain": [
       "[1] 0.625"
      ]
     },
     "metadata": {},
     "output_type": "display_data"
    },
    {
     "data": {
      "text/html": [
       "0.622222222222222"
      ],
      "text/latex": [
       "0.622222222222222"
      ],
      "text/markdown": [
       "0.622222222222222"
      ],
      "text/plain": [
       "[1] 0.6222222"
      ]
     },
     "metadata": {},
     "output_type": "display_data"
    }
   ],
   "source": [
    "lda.fit = lda(Direction~Lag2, data = Weekly, subset = train)\n",
    "lda.pred = predict(lda.fit, Weekly.2009, type = \"response\")\n",
    "\n",
    "contrasts(Direction)\n",
    "confusion_table = table(lda.pred$class, Direction.2009)\n",
    "confusion_table\n",
    "(confusion_table[1,1]+confusion_table[2,2])/length(Direction.2009)\n",
    "confusion_table[2,2] / (confusion_table[2,1]+ confusion_table[2,2])"
   ]
  },
  {
   "cell_type": "markdown",
   "metadata": {},
   "source": [
    "(f) Repeat (d) using QDA."
   ]
  },
  {
   "cell_type": "code",
   "execution_count": 188,
   "metadata": {},
   "outputs": [
    {
     "data": {
      "text/html": [
       "<table>\n",
       "<thead><tr><th></th><th scope=col>Up</th></tr></thead>\n",
       "<tbody>\n",
       "\t<tr><th scope=row>Down</th><td>0</td></tr>\n",
       "\t<tr><th scope=row>Up</th><td>1</td></tr>\n",
       "</tbody>\n",
       "</table>\n"
      ],
      "text/latex": [
       "\\begin{tabular}{r|l}\n",
       "  & Up\\\\\n",
       "\\hline\n",
       "\tDown & 0\\\\\n",
       "\tUp & 1\\\\\n",
       "\\end{tabular}\n"
      ],
      "text/markdown": [
       "\n",
       "| <!--/--> | Up |\n",
       "|---|---|\n",
       "| Down | 0 |\n",
       "| Up | 1 |\n",
       "\n"
      ],
      "text/plain": [
       "     Up\n",
       "Down 0 \n",
       "Up   1 "
      ]
     },
     "metadata": {},
     "output_type": "display_data"
    },
    {
     "data": {
      "text/plain": [
       "      Direction.2009\n",
       "       Down Up\n",
       "  Down    0  0\n",
       "  Up     43 61"
      ]
     },
     "metadata": {},
     "output_type": "display_data"
    },
    {
     "data": {
      "text/html": [
       "0.586538461538462"
      ],
      "text/latex": [
       "0.586538461538462"
      ],
      "text/markdown": [
       "0.586538461538462"
      ],
      "text/plain": [
       "[1] 0.5865385"
      ]
     },
     "metadata": {},
     "output_type": "display_data"
    },
    {
     "data": {
      "text/html": [
       "0.586538461538462"
      ],
      "text/latex": [
       "0.586538461538462"
      ],
      "text/markdown": [
       "0.586538461538462"
      ],
      "text/plain": [
       "[1] 0.5865385"
      ]
     },
     "metadata": {},
     "output_type": "display_data"
    }
   ],
   "source": [
    "qda.fit = qda(Direction~Lag2, data = Weekly, subset = train)\n",
    "qda.pred = predict(qda.fit, Weekly.2009, type = \"response\")\n",
    "\n",
    "contrasts(Direction)\n",
    "confusion_table = table(qda.pred$class, Direction.2009)\n",
    "confusion_table\n",
    "(confusion_table[1,1]+confusion_table[2,2])/length(Direction.2009)\n",
    "confusion_table[2,2] / (confusion_table[2,1]+ confusion_table[2,2])"
   ]
  },
  {
   "cell_type": "markdown",
   "metadata": {},
   "source": [
    "(g) Repeat (d) using KNN with K = 1."
   ]
  },
  {
   "cell_type": "code",
   "execution_count": 189,
   "metadata": {},
   "outputs": [
    {
     "data": {
      "text/html": [
       "0.5"
      ],
      "text/latex": [
       "0.5"
      ],
      "text/markdown": [
       "0.5"
      ],
      "text/plain": [
       "[1] 0.5"
      ]
     },
     "metadata": {},
     "output_type": "display_data"
    },
    {
     "data": {
      "text/html": [
       "0.584905660377358"
      ],
      "text/latex": [
       "0.584905660377358"
      ],
      "text/markdown": [
       "0.584905660377358"
      ],
      "text/plain": [
       "[1] 0.5849057"
      ]
     },
     "metadata": {},
     "output_type": "display_data"
    }
   ],
   "source": [
    "library(class)\n",
    "train = Year <=2008\n",
    "train.X = cbind(Lag2[train])\n",
    "test.X = cbind(Lag2[!train])\n",
    "train.direction = Direction[train]\n",
    "set.seed(1)\n",
    "knn.pred = knn(train.X, test.X, train.direction, k =1)\n",
    "confusion_table = table(knn.pred, Direction[!train])\n",
    "(confusion_table[1,1]+confusion_table[2,2])/length(Direction.2009)\n",
    "confusion_table[2,2] / (confusion_table[2,1]+ confusion_table[2,2])"
   ]
  },
  {
   "cell_type": "markdown",
   "metadata": {},
   "source": [
    "(h) Which of these methods appears to provide the best results on\n",
    "this data?"
   ]
  },
  {
   "cell_type": "markdown",
   "metadata": {},
   "source": [
    "Comparing the accuracies, the logistic regression model and the linear discriminant model seems to provide the highest result with accuracy 0.625. and true positive ratio 0.6222.<br>\n",
    "Comparing the ACU, the quadratic discriminant model is highest with 0.49."
   ]
  },
  {
   "cell_type": "code",
   "execution_count": 155,
   "metadata": {},
   "outputs": [
    {
     "name": "stderr",
     "output_type": "stream",
     "text": [
      "Warning message:\n",
      "\"package 'pROC' is in use and will not be installed\"Setting levels: control = Down, case = Up\n",
      "Setting direction: controls > cases\n"
     ]
    },
    {
     "data": {
      "text/plain": [
       "\n",
       "Call:\n",
       "roc.default(response = Direction.2009, predictor = glm.prob,     plot = T)\n",
       "\n",
       "Data: glm.prob in 43 controls (Direction.2009 Down) > 61 cases (Direction.2009 Up).\n",
       "Area under the curve: 0.4537"
      ]
     },
     "metadata": {},
     "output_type": "display_data"
    },
    {
     "name": "stderr",
     "output_type": "stream",
     "text": [
      "Setting levels: control = Down, case = Up\n",
      "Setting direction: controls > cases\n"
     ]
    },
    {
     "data": {
      "text/plain": [
       "\n",
       "Call:\n",
       "roc.default(response = Direction.2009, predictor = lda.pred$posterior[,     \"Up\"], plot = T)\n",
       "\n",
       "Data: lda.pred$posterior[, \"Up\"] in 43 controls (Direction.2009 Down) > 61 cases (Direction.2009 Up).\n",
       "Area under the curve: 0.4537"
      ]
     },
     "metadata": {},
     "output_type": "display_data"
    },
    {
     "name": "stderr",
     "output_type": "stream",
     "text": [
      "Setting levels: control = Down, case = Up\n",
      "Setting direction: controls > cases\n"
     ]
    },
    {
     "data": {
      "text/plain": [
       "\n",
       "Call:\n",
       "roc.default(response = Direction.2009, predictor = qda.pred$posterior[,     \"Up\"], plot = T)\n",
       "\n",
       "Data: qda.pred$posterior[, \"Up\"] in 43 controls (Direction.2009 Down) > 61 cases (Direction.2009 Up).\n",
       "Area under the curve: 0.4914"
      ]
     },
     "metadata": {},
     "output_type": "display_data"
    },
    {
     "data": {
      "image/png": "[encoded data removed]",
      "text/plain": [
       "plot without title"
      ]
     },
     "metadata": {},
     "output_type": "display_data"
    }
   ],
   "source": [
    "install.packages(\"pROC\")\n",
    "library(pROC)\n",
    "par(mfrow = c(2, 2))\n",
    "roc(Direction.2009,glm.prob,plot = T)\n",
    "roc(Direction.2009,lda.pred$posterior[,\"Up\"],plot = T)\n",
    "roc(Direction.2009,qda.pred$posterior[,\"Up\"],plot = T)"
   ]
  },
  {
   "cell_type": "markdown",
   "metadata": {},
   "source": [
    "(i) Experiment with different combinations of predictors, including\n",
    "possible transformations and interactions, for each of the\n",
    "methods. Report the variables, method, and associated confusion\n",
    "matrix that appears to provide the best results on the held\n",
    "out data. Note that you should also experiment with values for\n",
    "K in the KNN classifier."
   ]
  },
  {
   "cell_type": "code",
   "execution_count": 200,
   "metadata": {},
   "outputs": [
    {
     "data": {
      "text/html": [
       "<table>\n",
       "<thead><tr><th></th><th scope=col>Up</th></tr></thead>\n",
       "<tbody>\n",
       "\t<tr><th scope=row>Down</th><td>0</td></tr>\n",
       "\t<tr><th scope=row>Up</th><td>1</td></tr>\n",
       "</tbody>\n",
       "</table>\n"
      ],
      "text/latex": [
       "\\begin{tabular}{r|l}\n",
       "  & Up\\\\\n",
       "\\hline\n",
       "\tDown & 0\\\\\n",
       "\tUp & 1\\\\\n",
       "\\end{tabular}\n"
      ],
      "text/markdown": [
       "\n",
       "| <!--/--> | Up |\n",
       "|---|---|\n",
       "| Down | 0 |\n",
       "| Up | 1 |\n",
       "\n"
      ],
      "text/plain": [
       "     Up\n",
       "Down 0 \n",
       "Up   1 "
      ]
     },
     "metadata": {},
     "output_type": "display_data"
    },
    {
     "data": {
      "text/plain": [
       "        Direction.2009\n",
       "glm.pred Down Up\n",
       "    Down   20 24\n",
       "    Up     23 37"
      ]
     },
     "metadata": {},
     "output_type": "display_data"
    },
    {
     "data": {
      "text/html": [
       "0.548076923076923"
      ],
      "text/latex": [
       "0.548076923076923"
      ],
      "text/markdown": [
       "0.548076923076923"
      ],
      "text/plain": [
       "[1] 0.5480769"
      ]
     },
     "metadata": {},
     "output_type": "display_data"
    },
    {
     "data": {
      "text/html": [
       "0.616666666666667"
      ],
      "text/latex": [
       "0.616666666666667"
      ],
      "text/markdown": [
       "0.616666666666667"
      ],
      "text/plain": [
       "[1] 0.6166667"
      ]
     },
     "metadata": {},
     "output_type": "display_data"
    }
   ],
   "source": [
    "#changing the threshold from 0.5 to 0.55\n",
    "glm.fit= glm(Direction~Lag2, data= Weekly, family = binomial, subset= train)\n",
    "glm.prob = predict(glm.fit,Weekly.2009, type ='response')\n",
    "\n",
    "contrasts(Direction)\n",
    "glm.pred=rep(\"Down\", length(glm.prob))\n",
    "glm.pred[glm.prob>0.55] = \"Up\"\n",
    "confusion_table = table(glm.pred, Direction.2009)\n",
    "confusion_table\n",
    "(confusion_table[1,1]+confusion_table[2,2])/length(Direction.2009)\n",
    "confusion_table[2,2] / (confusion_table[2,1]+ confusion_table[2,2])"
   ]
  },
  {
   "cell_type": "code",
   "execution_count": 285,
   "metadata": {},
   "outputs": [
    {
     "data": {
      "text/html": [
       "<table>\n",
       "<thead><tr><th></th><th scope=col>Up</th></tr></thead>\n",
       "<tbody>\n",
       "\t<tr><th scope=row>Down</th><td>0</td></tr>\n",
       "\t<tr><th scope=row>Up</th><td>1</td></tr>\n",
       "</tbody>\n",
       "</table>\n"
      ],
      "text/latex": [
       "\\begin{tabular}{r|l}\n",
       "  & Up\\\\\n",
       "\\hline\n",
       "\tDown & 0\\\\\n",
       "\tUp & 1\\\\\n",
       "\\end{tabular}\n"
      ],
      "text/markdown": [
       "\n",
       "| <!--/--> | Up |\n",
       "|---|---|\n",
       "| Down | 0 |\n",
       "| Up | 1 |\n",
       "\n"
      ],
      "text/plain": [
       "     Up\n",
       "Down 0 \n",
       "Up   1 "
      ]
     },
     "metadata": {},
     "output_type": "display_data"
    },
    {
     "data": {
      "text/plain": [
       "      Direction.2009\n",
       "       Down Up\n",
       "  Down    9  5\n",
       "  Up     34 56"
      ]
     },
     "metadata": {},
     "output_type": "display_data"
    },
    {
     "data": {
      "text/html": [
       "0.625"
      ],
      "text/latex": [
       "0.625"
      ],
      "text/markdown": [
       "0.625"
      ],
      "text/plain": [
       "[1] 0.625"
      ]
     },
     "metadata": {},
     "output_type": "display_data"
    },
    {
     "data": {
      "text/html": [
       "0.622222222222222"
      ],
      "text/latex": [
       "0.622222222222222"
      ],
      "text/markdown": [
       "0.622222222222222"
      ],
      "text/plain": [
       "[1] 0.6222222"
      ]
     },
     "metadata": {},
     "output_type": "display_data"
    }
   ],
   "source": [
    "#LDA fit with Lag2 and log of Lag2\n",
    "lda.fit = lda(Direction~Lag2 + log(abs(Lag2)), data = Weekly, subset = train)\n",
    "lda.pred = predict(lda.fit, Weekly.2009, type = \"response\")\n",
    "\n",
    "contrasts(Direction)\n",
    "confusion_table = table(lda.pred$class, Direction.2009)\n",
    "confusion_table\n",
    "(confusion_table[1,1]+confusion_table[2,2])/length(Direction.2009)\n",
    "confusion_table[2,2] / (confusion_table[2,1]+ confusion_table[2,2])"
   ]
  },
  {
   "cell_type": "code",
   "execution_count": 196,
   "metadata": {},
   "outputs": [
    {
     "data": {
      "text/html": [
       "<table>\n",
       "<thead><tr><th></th><th scope=col>Up</th></tr></thead>\n",
       "<tbody>\n",
       "\t<tr><th scope=row>Down</th><td>0</td></tr>\n",
       "\t<tr><th scope=row>Up</th><td>1</td></tr>\n",
       "</tbody>\n",
       "</table>\n"
      ],
      "text/latex": [
       "\\begin{tabular}{r|l}\n",
       "  & Up\\\\\n",
       "\\hline\n",
       "\tDown & 0\\\\\n",
       "\tUp & 1\\\\\n",
       "\\end{tabular}\n"
      ],
      "text/markdown": [
       "\n",
       "| <!--/--> | Up |\n",
       "|---|---|\n",
       "| Down | 0 |\n",
       "| Up | 1 |\n",
       "\n"
      ],
      "text/plain": [
       "     Up\n",
       "Down 0 \n",
       "Up   1 "
      ]
     },
     "metadata": {},
     "output_type": "display_data"
    },
    {
     "data": {
      "text/plain": [
       "      Direction.2009\n",
       "       Down Up\n",
       "  Down   24 28\n",
       "  Up     19 33"
      ]
     },
     "metadata": {},
     "output_type": "display_data"
    },
    {
     "data": {
      "text/html": [
       "0.548076923076923"
      ],
      "text/latex": [
       "0.548076923076923"
      ],
      "text/markdown": [
       "0.548076923076923"
      ],
      "text/plain": [
       "[1] 0.5480769"
      ]
     },
     "metadata": {},
     "output_type": "display_data"
    },
    {
     "data": {
      "text/html": [
       "0.634615384615385"
      ],
      "text/latex": [
       "0.634615384615385"
      ],
      "text/markdown": [
       "0.634615384615385"
      ],
      "text/plain": [
       "[1] 0.6346154"
      ]
     },
     "metadata": {},
     "output_type": "display_data"
    }
   ],
   "source": [
    "#QDA fit with Lag2 interaction with Volume\n",
    "qda.fit = qda(Direction~Lag2:Volume, data = Weekly, subset = train)\n",
    "qda.pred = predict(qda.fit, Weekly.2009, type = \"response\")\n",
    "\n",
    "contrasts(Direction)\n",
    "confusion_table = table(qda.pred$class, Direction.2009)\n",
    "confusion_table\n",
    "(confusion_table[1,1]+confusion_table[2,2])/length(Direction.2009)\n",
    "confusion_table[2,2] / (confusion_table[2,1]+ confusion_table[2,2])"
   ]
  },
  {
   "cell_type": "code",
   "execution_count": 197,
   "metadata": {},
   "outputs": [
    {
     "data": {
      "text/html": [
       "0.538461538461538"
      ],
      "text/latex": [
       "0.538461538461538"
      ],
      "text/markdown": [
       "0.538461538461538"
      ],
      "text/plain": [
       "[1] 0.5384615"
      ]
     },
     "metadata": {},
     "output_type": "display_data"
    },
    {
     "data": {
      "text/html": [
       "0.594202898550725"
      ],
      "text/latex": [
       "0.594202898550725"
      ],
      "text/markdown": [
       "0.594202898550725"
      ],
      "text/plain": [
       "[1] 0.5942029"
      ]
     },
     "metadata": {},
     "output_type": "display_data"
    }
   ],
   "source": [
    "#KNN with k = 7\n",
    "library(class)\n",
    "train = Year <=2008\n",
    "train.X = cbind(Lag2[train])\n",
    "test.X = cbind(Lag2[!train])\n",
    "train.direction = Direction[train]\n",
    "set.seed(1)\n",
    "knn.pred = knn(train.X, test.X, train.direction, k =7)\n",
    "confusion_table = table(knn.pred, Direction[!train])\n",
    "(confusion_table[1,1]+confusion_table[2,2])/length(Direction.2009)\n",
    "confusion_table[2,2] / (confusion_table[2,1]+ confusion_table[2,2])"
   ]
  },
  {
   "cell_type": "code",
   "execution_count": 198,
   "metadata": {},
   "outputs": [
    {
     "data": {
      "text/html": [
       "0.548076923076923"
      ],
      "text/latex": [
       "0.548076923076923"
      ],
      "text/markdown": [
       "0.548076923076923"
      ],
      "text/plain": [
       "[1] 0.5480769"
      ]
     },
     "metadata": {},
     "output_type": "display_data"
    },
    {
     "data": {
      "text/html": [
       "0.616666666666667"
      ],
      "text/latex": [
       "0.616666666666667"
      ],
      "text/markdown": [
       "0.616666666666667"
      ],
      "text/plain": [
       "[1] 0.6166667"
      ]
     },
     "metadata": {},
     "output_type": "display_data"
    }
   ],
   "source": [
    "#KNN with k = 30\n",
    "library(class)\n",
    "train = Year <=2008\n",
    "train.X = cbind(Lag2[train])\n",
    "test.X = cbind(Lag2[!train])\n",
    "train.direction = Direction[train]\n",
    "set.seed(1)\n",
    "knn.pred = knn(train.X, test.X, train.direction, k =30)\n",
    "confusion_table = table(knn.pred, Direction[!train])\n",
    "(confusion_table[1,1]+confusion_table[2,2])/length(Direction.2009)\n",
    "confusion_table[2,2] / (confusion_table[2,1]+ confusion_table[2,2])"
   ]
  },
  {
   "cell_type": "markdown",
   "metadata": {},
   "source": [
    "Quadratic Discriminant Analysis using Lag2 interaction with Volume came out with the highest TPR value till now. KNN also showed increase in accuracy and TPR with respect to bigger K values. Still, the logistic regression model and the linear discriminant model in the first part has the highest accuracy."
   ]
  },
  {
   "cell_type": "markdown",
   "metadata": {},
   "source": [
    "# Q.11"
   ]
  },
  {
   "cell_type": "markdown",
   "metadata": {},
   "source": [
    "(a) Create a binary variable, mpg01, that contains a 1 if mpg contains\n",
    "a value above its median, and a 0 if mpg contains a value below\n",
    "its median. You can compute the median using the median()\n",
    "function. Note you may find it helpful to use the data.frame()\n",
    "function to create a single data set containing both mpg01 and\n",
    "the other Auto variables."
   ]
  },
  {
   "cell_type": "code",
   "execution_count": 209,
   "metadata": {},
   "outputs": [
    {
     "name": "stderr",
     "output_type": "stream",
     "text": [
      "The following objects are masked from Auto (pos = 3):\n",
      "\n",
      "    acceleration, cylinders, displacement, horsepower, mpg, name,\n",
      "    origin, weight, year\n",
      "\n",
      "The following objects are masked from Auto (pos = 4):\n",
      "\n",
      "    acceleration, cylinders, displacement, horsepower, mpg, name,\n",
      "    origin, weight, year\n",
      "\n",
      "The following objects are masked from Auto (pos = 5):\n",
      "\n",
      "    acceleration, cylinders, displacement, horsepower, mpg, name,\n",
      "    origin, weight, year\n",
      "\n",
      "The following objects are masked from Auto (pos = 6):\n",
      "\n",
      "    acceleration, cylinders, displacement, horsepower, mpg, name,\n",
      "    origin, weight, year\n",
      "\n",
      "The following objects are masked from Auto (pos = 7):\n",
      "\n",
      "    acceleration, cylinders, displacement, horsepower, mpg, name,\n",
      "    origin, weight, year\n",
      "\n"
     ]
    },
    {
     "data": {
      "text/html": [
       "22.75"
      ],
      "text/latex": [
       "22.75"
      ],
      "text/markdown": [
       "22.75"
      ],
      "text/plain": [
       "[1] 22.75"
      ]
     },
     "metadata": {},
     "output_type": "display_data"
    },
    {
     "data": {
      "text/html": [
       "<table>\n",
       "<thead><tr><th scope=col>mpg</th><th scope=col>cylinders</th><th scope=col>displacement</th><th scope=col>horsepower</th><th scope=col>weight</th><th scope=col>acceleration</th><th scope=col>year</th><th scope=col>origin</th><th scope=col>name</th><th scope=col>mpg01</th></tr></thead>\n",
       "<tbody>\n",
       "\t<tr><td>18                          </td><td>8                           </td><td>307                         </td><td>130                         </td><td>3504                        </td><td>12.0                        </td><td>70                          </td><td>1                           </td><td>chevrolet chevelle malibu   </td><td>0                           </td></tr>\n",
       "\t<tr><td>15                          </td><td>8                           </td><td>350                         </td><td>165                         </td><td>3693                        </td><td>11.5                        </td><td>70                          </td><td>1                           </td><td>buick skylark 320           </td><td>0                           </td></tr>\n",
       "\t<tr><td>18                          </td><td>8                           </td><td>318                         </td><td>150                         </td><td>3436                        </td><td>11.0                        </td><td>70                          </td><td>1                           </td><td>plymouth satellite          </td><td>0                           </td></tr>\n",
       "\t<tr><td>16                          </td><td>8                           </td><td>304                         </td><td>150                         </td><td>3433                        </td><td>12.0                        </td><td>70                          </td><td>1                           </td><td>amc rebel sst               </td><td>0                           </td></tr>\n",
       "\t<tr><td>17                          </td><td>8                           </td><td>302                         </td><td>140                         </td><td>3449                        </td><td>10.5                        </td><td>70                          </td><td>1                           </td><td>ford torino                 </td><td>0                           </td></tr>\n",
       "\t<tr><td>15                          </td><td>8                           </td><td>429                         </td><td>198                         </td><td>4341                        </td><td>10.0                        </td><td>70                          </td><td>1                           </td><td>ford galaxie 500            </td><td>0                           </td></tr>\n",
       "\t<tr><td>14                          </td><td>8                           </td><td>454                         </td><td>220                         </td><td>4354                        </td><td> 9.0                        </td><td>70                          </td><td>1                           </td><td>chevrolet impala            </td><td>0                           </td></tr>\n",
       "\t<tr><td>14                          </td><td>8                           </td><td>440                         </td><td>215                         </td><td>4312                        </td><td> 8.5                        </td><td>70                          </td><td>1                           </td><td>plymouth fury iii           </td><td>0                           </td></tr>\n",
       "\t<tr><td>14                          </td><td>8                           </td><td>455                         </td><td>225                         </td><td>4425                        </td><td>10.0                        </td><td>70                          </td><td>1                           </td><td>pontiac catalina            </td><td>0                           </td></tr>\n",
       "\t<tr><td>15                          </td><td>8                           </td><td>390                         </td><td>190                         </td><td>3850                        </td><td> 8.5                        </td><td>70                          </td><td>1                           </td><td>amc ambassador dpl          </td><td>0                           </td></tr>\n",
       "\t<tr><td>15                          </td><td>8                           </td><td>383                         </td><td>170                         </td><td>3563                        </td><td>10.0                        </td><td>70                          </td><td>1                           </td><td>dodge challenger se         </td><td>0                           </td></tr>\n",
       "\t<tr><td>14                          </td><td>8                           </td><td>340                         </td><td>160                         </td><td>3609                        </td><td> 8.0                        </td><td>70                          </td><td>1                           </td><td>plymouth 'cuda 340          </td><td>0                           </td></tr>\n",
       "\t<tr><td>15                          </td><td>8                           </td><td>400                         </td><td>150                         </td><td>3761                        </td><td> 9.5                        </td><td>70                          </td><td>1                           </td><td>chevrolet monte carlo       </td><td>0                           </td></tr>\n",
       "\t<tr><td>14                          </td><td>8                           </td><td>455                         </td><td>225                         </td><td>3086                        </td><td>10.0                        </td><td>70                          </td><td>1                           </td><td>buick estate wagon (sw)     </td><td>0                           </td></tr>\n",
       "\t<tr><td>24                          </td><td>4                           </td><td>113                         </td><td> 95                         </td><td>2372                        </td><td>15.0                        </td><td>70                          </td><td>3                           </td><td>toyota corona mark ii       </td><td>1                           </td></tr>\n",
       "\t<tr><td>22                          </td><td>6                           </td><td>198                         </td><td> 95                         </td><td>2833                        </td><td>15.5                        </td><td>70                          </td><td>1                           </td><td>plymouth duster             </td><td>0                           </td></tr>\n",
       "\t<tr><td>18                          </td><td>6                           </td><td>199                         </td><td> 97                         </td><td>2774                        </td><td>15.5                        </td><td>70                          </td><td>1                           </td><td>amc hornet                  </td><td>0                           </td></tr>\n",
       "\t<tr><td>21                          </td><td>6                           </td><td>200                         </td><td> 85                         </td><td>2587                        </td><td>16.0                        </td><td>70                          </td><td>1                           </td><td>ford maverick               </td><td>0                           </td></tr>\n",
       "\t<tr><td>27                          </td><td>4                           </td><td> 97                         </td><td> 88                         </td><td>2130                        </td><td>14.5                        </td><td>70                          </td><td>3                           </td><td>datsun pl510                </td><td>1                           </td></tr>\n",
       "\t<tr><td>26                          </td><td>4                           </td><td> 97                         </td><td> 46                         </td><td>1835                        </td><td>20.5                        </td><td>70                          </td><td>2                           </td><td>volkswagen 1131 deluxe sedan</td><td>1                           </td></tr>\n",
       "\t<tr><td>25                          </td><td>4                           </td><td>110                         </td><td> 87                         </td><td>2672                        </td><td>17.5                        </td><td>70                          </td><td>2                           </td><td>peugeot 504                 </td><td>1                           </td></tr>\n",
       "\t<tr><td>24                          </td><td>4                           </td><td>107                         </td><td> 90                         </td><td>2430                        </td><td>14.5                        </td><td>70                          </td><td>2                           </td><td>audi 100 ls                 </td><td>1                           </td></tr>\n",
       "\t<tr><td>25                          </td><td>4                           </td><td>104                         </td><td> 95                         </td><td>2375                        </td><td>17.5                        </td><td>70                          </td><td>2                           </td><td>saab 99e                    </td><td>1                           </td></tr>\n",
       "\t<tr><td>26                          </td><td>4                           </td><td>121                         </td><td>113                         </td><td>2234                        </td><td>12.5                        </td><td>70                          </td><td>2                           </td><td>bmw 2002                    </td><td>1                           </td></tr>\n",
       "\t<tr><td>21                          </td><td>6                           </td><td>199                         </td><td> 90                         </td><td>2648                        </td><td>15.0                        </td><td>70                          </td><td>1                           </td><td>amc gremlin                 </td><td>0                           </td></tr>\n",
       "\t<tr><td>10                          </td><td>8                           </td><td>360                         </td><td>215                         </td><td>4615                        </td><td>14.0                        </td><td>70                          </td><td>1                           </td><td>ford f250                   </td><td>0                           </td></tr>\n",
       "\t<tr><td>10                          </td><td>8                           </td><td>307                         </td><td>200                         </td><td>4376                        </td><td>15.0                        </td><td>70                          </td><td>1                           </td><td>chevy c20                   </td><td>0                           </td></tr>\n",
       "\t<tr><td>11                          </td><td>8                           </td><td>318                         </td><td>210                         </td><td>4382                        </td><td>13.5                        </td><td>70                          </td><td>1                           </td><td>dodge d200                  </td><td>0                           </td></tr>\n",
       "\t<tr><td> 9                          </td><td>8                           </td><td>304                         </td><td>193                         </td><td>4732                        </td><td>18.5                        </td><td>70                          </td><td>1                           </td><td>hi 1200d                    </td><td>0                           </td></tr>\n",
       "\t<tr><td>27                          </td><td>4                           </td><td> 97                         </td><td> 88                         </td><td>2130                        </td><td>14.5                        </td><td>71                          </td><td>3                           </td><td>datsun pl510                </td><td>1                           </td></tr>\n",
       "</tbody>\n",
       "</table>\n"
      ],
      "text/latex": [
       "\\begin{tabular}{r|llllllllll}\n",
       " mpg & cylinders & displacement & horsepower & weight & acceleration & year & origin & name & mpg01\\\\\n",
       "\\hline\n",
       "\t 18                           & 8                            & 307                          & 130                          & 3504                         & 12.0                         & 70                           & 1                            & chevrolet chevelle malibu    & 0                           \\\\\n",
       "\t 15                           & 8                            & 350                          & 165                          & 3693                         & 11.5                         & 70                           & 1                            & buick skylark 320            & 0                           \\\\\n",
       "\t 18                           & 8                            & 318                          & 150                          & 3436                         & 11.0                         & 70                           & 1                            & plymouth satellite           & 0                           \\\\\n",
       "\t 16                           & 8                            & 304                          & 150                          & 3433                         & 12.0                         & 70                           & 1                            & amc rebel sst                & 0                           \\\\\n",
       "\t 17                           & 8                            & 302                          & 140                          & 3449                         & 10.5                         & 70                           & 1                            & ford torino                  & 0                           \\\\\n",
       "\t 15                           & 8                            & 429                          & 198                          & 4341                         & 10.0                         & 70                           & 1                            & ford galaxie 500             & 0                           \\\\\n",
       "\t 14                           & 8                            & 454                          & 220                          & 4354                         &  9.0                         & 70                           & 1                            & chevrolet impala             & 0                           \\\\\n",
       "\t 14                           & 8                            & 440                          & 215                          & 4312                         &  8.5                         & 70                           & 1                            & plymouth fury iii            & 0                           \\\\\n",
       "\t 14                           & 8                            & 455                          & 225                          & 4425                         & 10.0                         & 70                           & 1                            & pontiac catalina             & 0                           \\\\\n",
       "\t 15                           & 8                            & 390                          & 190                          & 3850                         &  8.5                         & 70                           & 1                            & amc ambassador dpl           & 0                           \\\\\n",
       "\t 15                           & 8                            & 383                          & 170                          & 3563                         & 10.0                         & 70                           & 1                            & dodge challenger se          & 0                           \\\\\n",
       "\t 14                           & 8                            & 340                          & 160                          & 3609                         &  8.0                         & 70                           & 1                            & plymouth 'cuda 340           & 0                           \\\\\n",
       "\t 15                           & 8                            & 400                          & 150                          & 3761                         &  9.5                         & 70                           & 1                            & chevrolet monte carlo        & 0                           \\\\\n",
       "\t 14                           & 8                            & 455                          & 225                          & 3086                         & 10.0                         & 70                           & 1                            & buick estate wagon (sw)      & 0                           \\\\\n",
       "\t 24                           & 4                            & 113                          &  95                          & 2372                         & 15.0                         & 70                           & 3                            & toyota corona mark ii        & 1                           \\\\\n",
       "\t 22                           & 6                            & 198                          &  95                          & 2833                         & 15.5                         & 70                           & 1                            & plymouth duster              & 0                           \\\\\n",
       "\t 18                           & 6                            & 199                          &  97                          & 2774                         & 15.5                         & 70                           & 1                            & amc hornet                   & 0                           \\\\\n",
       "\t 21                           & 6                            & 200                          &  85                          & 2587                         & 16.0                         & 70                           & 1                            & ford maverick                & 0                           \\\\\n",
       "\t 27                           & 4                            &  97                          &  88                          & 2130                         & 14.5                         & 70                           & 3                            & datsun pl510                 & 1                           \\\\\n",
       "\t 26                           & 4                            &  97                          &  46                          & 1835                         & 20.5                         & 70                           & 2                            & volkswagen 1131 deluxe sedan & 1                           \\\\\n",
       "\t 25                           & 4                            & 110                          &  87                          & 2672                         & 17.5                         & 70                           & 2                            & peugeot 504                  & 1                           \\\\\n",
       "\t 24                           & 4                            & 107                          &  90                          & 2430                         & 14.5                         & 70                           & 2                            & audi 100 ls                  & 1                           \\\\\n",
       "\t 25                           & 4                            & 104                          &  95                          & 2375                         & 17.5                         & 70                           & 2                            & saab 99e                     & 1                           \\\\\n",
       "\t 26                           & 4                            & 121                          & 113                          & 2234                         & 12.5                         & 70                           & 2                            & bmw 2002                     & 1                           \\\\\n",
       "\t 21                           & 6                            & 199                          &  90                          & 2648                         & 15.0                         & 70                           & 1                            & amc gremlin                  & 0                           \\\\\n",
       "\t 10                           & 8                            & 360                          & 215                          & 4615                         & 14.0                         & 70                           & 1                            & ford f250                    & 0                           \\\\\n",
       "\t 10                           & 8                            & 307                          & 200                          & 4376                         & 15.0                         & 70                           & 1                            & chevy c20                    & 0                           \\\\\n",
       "\t 11                           & 8                            & 318                          & 210                          & 4382                         & 13.5                         & 70                           & 1                            & dodge d200                   & 0                           \\\\\n",
       "\t  9                           & 8                            & 304                          & 193                          & 4732                         & 18.5                         & 70                           & 1                            & hi 1200d                     & 0                           \\\\\n",
       "\t 27                           & 4                            &  97                          &  88                          & 2130                         & 14.5                         & 71                           & 3                            & datsun pl510                 & 1                           \\\\\n",
       "\\end{tabular}\n"
      ],
      "text/markdown": [
       "\n",
       "| mpg | cylinders | displacement | horsepower | weight | acceleration | year | origin | name | mpg01 |\n",
       "|---|---|---|---|---|---|---|---|---|---|\n",
       "| 18                           | 8                            | 307                          | 130                          | 3504                         | 12.0                         | 70                           | 1                            | chevrolet chevelle malibu    | 0                            |\n",
       "| 15                           | 8                            | 350                          | 165                          | 3693                         | 11.5                         | 70                           | 1                            | buick skylark 320            | 0                            |\n",
       "| 18                           | 8                            | 318                          | 150                          | 3436                         | 11.0                         | 70                           | 1                            | plymouth satellite           | 0                            |\n",
       "| 16                           | 8                            | 304                          | 150                          | 3433                         | 12.0                         | 70                           | 1                            | amc rebel sst                | 0                            |\n",
       "| 17                           | 8                            | 302                          | 140                          | 3449                         | 10.5                         | 70                           | 1                            | ford torino                  | 0                            |\n",
       "| 15                           | 8                            | 429                          | 198                          | 4341                         | 10.0                         | 70                           | 1                            | ford galaxie 500             | 0                            |\n",
       "| 14                           | 8                            | 454                          | 220                          | 4354                         |  9.0                         | 70                           | 1                            | chevrolet impala             | 0                            |\n",
       "| 14                           | 8                            | 440                          | 215                          | 4312                         |  8.5                         | 70                           | 1                            | plymouth fury iii            | 0                            |\n",
       "| 14                           | 8                            | 455                          | 225                          | 4425                         | 10.0                         | 70                           | 1                            | pontiac catalina             | 0                            |\n",
       "| 15                           | 8                            | 390                          | 190                          | 3850                         |  8.5                         | 70                           | 1                            | amc ambassador dpl           | 0                            |\n",
       "| 15                           | 8                            | 383                          | 170                          | 3563                         | 10.0                         | 70                           | 1                            | dodge challenger se          | 0                            |\n",
       "| 14                           | 8                            | 340                          | 160                          | 3609                         |  8.0                         | 70                           | 1                            | plymouth 'cuda 340           | 0                            |\n",
       "| 15                           | 8                            | 400                          | 150                          | 3761                         |  9.5                         | 70                           | 1                            | chevrolet monte carlo        | 0                            |\n",
       "| 14                           | 8                            | 455                          | 225                          | 3086                         | 10.0                         | 70                           | 1                            | buick estate wagon (sw)      | 0                            |\n",
       "| 24                           | 4                            | 113                          |  95                          | 2372                         | 15.0                         | 70                           | 3                            | toyota corona mark ii        | 1                            |\n",
       "| 22                           | 6                            | 198                          |  95                          | 2833                         | 15.5                         | 70                           | 1                            | plymouth duster              | 0                            |\n",
       "| 18                           | 6                            | 199                          |  97                          | 2774                         | 15.5                         | 70                           | 1                            | amc hornet                   | 0                            |\n",
       "| 21                           | 6                            | 200                          |  85                          | 2587                         | 16.0                         | 70                           | 1                            | ford maverick                | 0                            |\n",
       "| 27                           | 4                            |  97                          |  88                          | 2130                         | 14.5                         | 70                           | 3                            | datsun pl510                 | 1                            |\n",
       "| 26                           | 4                            |  97                          |  46                          | 1835                         | 20.5                         | 70                           | 2                            | volkswagen 1131 deluxe sedan | 1                            |\n",
       "| 25                           | 4                            | 110                          |  87                          | 2672                         | 17.5                         | 70                           | 2                            | peugeot 504                  | 1                            |\n",
       "| 24                           | 4                            | 107                          |  90                          | 2430                         | 14.5                         | 70                           | 2                            | audi 100 ls                  | 1                            |\n",
       "| 25                           | 4                            | 104                          |  95                          | 2375                         | 17.5                         | 70                           | 2                            | saab 99e                     | 1                            |\n",
       "| 26                           | 4                            | 121                          | 113                          | 2234                         | 12.5                         | 70                           | 2                            | bmw 2002                     | 1                            |\n",
       "| 21                           | 6                            | 199                          |  90                          | 2648                         | 15.0                         | 70                           | 1                            | amc gremlin                  | 0                            |\n",
       "| 10                           | 8                            | 360                          | 215                          | 4615                         | 14.0                         | 70                           | 1                            | ford f250                    | 0                            |\n",
       "| 10                           | 8                            | 307                          | 200                          | 4376                         | 15.0                         | 70                           | 1                            | chevy c20                    | 0                            |\n",
       "| 11                           | 8                            | 318                          | 210                          | 4382                         | 13.5                         | 70                           | 1                            | dodge d200                   | 0                            |\n",
       "|  9                           | 8                            | 304                          | 193                          | 4732                         | 18.5                         | 70                           | 1                            | hi 1200d                     | 0                            |\n",
       "| 27                           | 4                            |  97                          |  88                          | 2130                         | 14.5                         | 71                           | 3                            | datsun pl510                 | 1                            |\n",
       "\n"
      ],
      "text/plain": [
       "   mpg cylinders displacement horsepower weight acceleration year origin\n",
       "1  18  8         307          130        3504   12.0         70   1     \n",
       "2  15  8         350          165        3693   11.5         70   1     \n",
       "3  18  8         318          150        3436   11.0         70   1     \n",
       "4  16  8         304          150        3433   12.0         70   1     \n",
       "5  17  8         302          140        3449   10.5         70   1     \n",
       "6  15  8         429          198        4341   10.0         70   1     \n",
       "7  14  8         454          220        4354    9.0         70   1     \n",
       "8  14  8         440          215        4312    8.5         70   1     \n",
       "9  14  8         455          225        4425   10.0         70   1     \n",
       "10 15  8         390          190        3850    8.5         70   1     \n",
       "11 15  8         383          170        3563   10.0         70   1     \n",
       "12 14  8         340          160        3609    8.0         70   1     \n",
       "13 15  8         400          150        3761    9.5         70   1     \n",
       "14 14  8         455          225        3086   10.0         70   1     \n",
       "15 24  4         113           95        2372   15.0         70   3     \n",
       "16 22  6         198           95        2833   15.5         70   1     \n",
       "17 18  6         199           97        2774   15.5         70   1     \n",
       "18 21  6         200           85        2587   16.0         70   1     \n",
       "19 27  4          97           88        2130   14.5         70   3     \n",
       "20 26  4          97           46        1835   20.5         70   2     \n",
       "21 25  4         110           87        2672   17.5         70   2     \n",
       "22 24  4         107           90        2430   14.5         70   2     \n",
       "23 25  4         104           95        2375   17.5         70   2     \n",
       "24 26  4         121          113        2234   12.5         70   2     \n",
       "25 21  6         199           90        2648   15.0         70   1     \n",
       "26 10  8         360          215        4615   14.0         70   1     \n",
       "27 10  8         307          200        4376   15.0         70   1     \n",
       "28 11  8         318          210        4382   13.5         70   1     \n",
       "29  9  8         304          193        4732   18.5         70   1     \n",
       "30 27  4          97           88        2130   14.5         71   3     \n",
       "   name                         mpg01\n",
       "1  chevrolet chevelle malibu    0    \n",
       "2  buick skylark 320            0    \n",
       "3  plymouth satellite           0    \n",
       "4  amc rebel sst                0    \n",
       "5  ford torino                  0    \n",
       "6  ford galaxie 500             0    \n",
       "7  chevrolet impala             0    \n",
       "8  plymouth fury iii            0    \n",
       "9  pontiac catalina             0    \n",
       "10 amc ambassador dpl           0    \n",
       "11 dodge challenger se          0    \n",
       "12 plymouth 'cuda 340           0    \n",
       "13 chevrolet monte carlo        0    \n",
       "14 buick estate wagon (sw)      0    \n",
       "15 toyota corona mark ii        1    \n",
       "16 plymouth duster              0    \n",
       "17 amc hornet                   0    \n",
       "18 ford maverick                0    \n",
       "19 datsun pl510                 1    \n",
       "20 volkswagen 1131 deluxe sedan 1    \n",
       "21 peugeot 504                  1    \n",
       "22 audi 100 ls                  1    \n",
       "23 saab 99e                     1    \n",
       "24 bmw 2002                     1    \n",
       "25 amc gremlin                  0    \n",
       "26 ford f250                    0    \n",
       "27 chevy c20                    0    \n",
       "28 dodge d200                   0    \n",
       "29 hi 1200d                     0    \n",
       "30 datsun pl510                 1    "
      ]
     },
     "metadata": {},
     "output_type": "display_data"
    }
   ],
   "source": [
    "data(Auto)\n",
    "attach(Auto)\n",
    "median(mpg)\n",
    "mpg01 = rep(0, length(mpg))\n",
    "mpg01[mpg>median(mpg)] = 1\n",
    "Auto = data.frame(Auto, mpg01)\n",
    "head(Auto,30)"
   ]
  },
  {
   "cell_type": "markdown",
   "metadata": {},
   "source": [
    "(b) Explore the data graphically in order to investigate the association\n",
    "between mpg01 and the other features. Which of the other\n",
    "features seem most likely to be useful in predicting mpg01? Scatterplots\n",
    "and boxplots may be useful tools to answer this question.\n",
    "Describe your findings."
   ]
  },
  {
   "cell_type": "code",
   "execution_count": 216,
   "metadata": {},
   "outputs": [
    {
     "data": {
      "image/png": "[encoded data removed]",
      "text/plain": [
       "plot without title"
      ]
     },
     "metadata": {},
     "output_type": "display_data"
    }
   ],
   "source": [
    "pairs(Auto)"
   ]
  },
  {
   "cell_type": "code",
   "execution_count": 218,
   "metadata": {},
   "outputs": [
    {
     "data": {
      "image/png": "[encoded data removed]",
      "text/plain": [
       "Plot with title \"Year & mpg01\""
      ]
     },
     "metadata": {},
     "output_type": "display_data"
    }
   ],
   "source": [
    "par(mfrow = c(2, 3))\n",
    "boxplot(cylinders ~ mpg01, data = Auto, main = \"Cylinders & mpg01\")\n",
    "boxplot(displacement ~ mpg01, data = Auto, main = \"Displacement & mpg01\")\n",
    "boxplot(horsepower ~ mpg01, data = Auto, main = \"Horsepower & mpg01\")\n",
    "boxplot(weight ~ mpg01, data = Auto, main = \"Weight & mpg01\")\n",
    "boxplot(acceleration ~ mpg01, data = Auto, main = \"Acceleration & mpg01\")\n",
    "boxplot(year ~ mpg01, data = Auto, main = \"Year & mpg01\")"
   ]
  },
  {
   "cell_type": "markdown",
   "metadata": {},
   "source": [
    "Except for the variable \"acceleration\", all the other variables are showing associations with \"mpg01\". \"Cylinder\" seems to distinguish the values of mpg01 most efficiently since the boxplot are far away for the different classes of mpg01."
   ]
  },
  {
   "cell_type": "markdown",
   "metadata": {},
   "source": [
    "(c) Split the data into a training set and a test set."
   ]
  },
  {
   "cell_type": "code",
   "execution_count": 276,
   "metadata": {},
   "outputs": [
    {
     "data": {
      "text/html": [
       "<ol class=list-inline>\n",
       "\t<li>392</li>\n",
       "\t<li>10</li>\n",
       "</ol>\n"
      ],
      "text/latex": [
       "\\begin{enumerate*}\n",
       "\\item 392\n",
       "\\item 10\n",
       "\\end{enumerate*}\n"
      ],
      "text/markdown": [
       "1. 392\n",
       "2. 10\n",
       "\n",
       "\n"
      ],
      "text/plain": [
       "[1] 392  10"
      ]
     },
     "metadata": {},
     "output_type": "display_data"
    },
    {
     "data": {
      "text/html": [
       "<ol class=list-inline>\n",
       "\t<li>270</li>\n",
       "\t<li>10</li>\n",
       "</ol>\n"
      ],
      "text/latex": [
       "\\begin{enumerate*}\n",
       "\\item 270\n",
       "\\item 10\n",
       "\\end{enumerate*}\n"
      ],
      "text/markdown": [
       "1. 270\n",
       "2. 10\n",
       "\n",
       "\n"
      ],
      "text/plain": [
       "[1] 270  10"
      ]
     },
     "metadata": {},
     "output_type": "display_data"
    },
    {
     "data": {
      "text/html": [
       "<ol class=list-inline>\n",
       "\t<li>122</li>\n",
       "\t<li>10</li>\n",
       "</ol>\n"
      ],
      "text/latex": [
       "\\begin{enumerate*}\n",
       "\\item 122\n",
       "\\item 10\n",
       "\\end{enumerate*}\n"
      ],
      "text/markdown": [
       "1. 122\n",
       "2. 10\n",
       "\n",
       "\n"
      ],
      "text/plain": [
       "[1] 122  10"
      ]
     },
     "metadata": {},
     "output_type": "display_data"
    },
    {
     "data": {
      "text/html": [
       "122"
      ],
      "text/latex": [
       "122"
      ],
      "text/markdown": [
       "122"
      ],
      "text/plain": [
       "[1] 122"
      ]
     },
     "metadata": {},
     "output_type": "display_data"
    }
   ],
   "source": [
    "train = (year %%3 !=0)\n",
    "Auto.train = Auto[train,]\n",
    "Auto.test = Auto[!train,]\n",
    "dim(Auto)\n",
    "dim(Auto.train)\n",
    "dim(Auto.test)\n",
    "mpg01.test = Auto.test$mpg01\n",
    "length(mpg01.test)"
   ]
  },
  {
   "cell_type": "markdown",
   "metadata": {},
   "source": [
    "(d) Perform LDA on the training data in order to predict mpg01\n",
    "using the variables that seemed most associated with mpg01 in\n",
    "(b). What is the test error of the model obtained?"
   ]
  },
  {
   "cell_type": "code",
   "execution_count": 277,
   "metadata": {},
   "outputs": [
    {
     "data": {
      "text/plain": [
       "Call:\n",
       "lda(mpg01 ~ cylinders + displacement + horsepower + weight + \n",
       "    year, data = Auto, subset = train)\n",
       "\n",
       "Prior probabilities of groups:\n",
       "        0         1 \n",
       "0.4925926 0.5074074 \n",
       "\n",
       "Group means:\n",
       "  cylinders displacement horsepower   weight     year\n",
       "0  6.917293     285.1504  134.99248 3678.496 73.95489\n",
       "1  4.167883     115.1752   78.41606 2322.212 77.41606\n",
       "\n",
       "Coefficients of linear discriminants:\n",
       "                      LD1\n",
       "cylinders    -0.479506848\n",
       "displacement -0.002100060\n",
       "horsepower    0.011146816\n",
       "weight       -0.001064244\n",
       "year          0.124216390"
      ]
     },
     "metadata": {},
     "output_type": "display_data"
    }
   ],
   "source": [
    "lda.fit = lda(mpg01~cylinders + displacement + horsepower + weight + year,\n",
    "             data= Auto, subset=train)\n",
    "lda.fit"
   ]
  },
  {
   "cell_type": "markdown",
   "metadata": {},
   "source": [
    "Looking through the coefficients, it seems that the variables displacement, horsepower and weight have a minor impact on mpg01 so we remove those variables."
   ]
  },
  {
   "cell_type": "code",
   "execution_count": 300,
   "metadata": {},
   "outputs": [
    {
     "data": {
      "text/plain": [
       "Call:\n",
       "lda(mpg01 ~ cylinders + year, data = Auto, subset = train)\n",
       "\n",
       "Prior probabilities of groups:\n",
       "        0         1 \n",
       "0.4925926 0.5074074 \n",
       "\n",
       "Group means:\n",
       "  cylinders     year\n",
       "0  6.917293 73.95489\n",
       "1  4.167883 77.41606\n",
       "\n",
       "Coefficients of linear discriminants:\n",
       "                  LD1\n",
       "cylinders -0.86502414\n",
       "year       0.09831994"
      ]
     },
     "metadata": {},
     "output_type": "display_data"
    },
    {
     "data": {
      "text/html": [
       "<ol class=list-inline>\n",
       "\t<li>'class'</li>\n",
       "\t<li>'posterior'</li>\n",
       "\t<li>'x'</li>\n",
       "</ol>\n"
      ],
      "text/latex": [
       "\\begin{enumerate*}\n",
       "\\item 'class'\n",
       "\\item 'posterior'\n",
       "\\item 'x'\n",
       "\\end{enumerate*}\n"
      ],
      "text/markdown": [
       "1. 'class'\n",
       "2. 'posterior'\n",
       "3. 'x'\n",
       "\n",
       "\n"
      ],
      "text/plain": [
       "[1] \"class\"     \"posterior\" \"x\"        "
      ]
     },
     "metadata": {},
     "output_type": "display_data"
    },
    {
     "data": {
      "text/plain": [
       "   mpg01.test\n",
       "     0  1\n",
       "  0 49  1\n",
       "  1 14 58"
      ]
     },
     "metadata": {},
     "output_type": "display_data"
    },
    {
     "data": {
      "text/html": [
       "0.877049180327869"
      ],
      "text/latex": [
       "0.877049180327869"
      ],
      "text/markdown": [
       "0.877049180327869"
      ],
      "text/plain": [
       "[1] 0.8770492"
      ]
     },
     "metadata": {},
     "output_type": "display_data"
    },
    {
     "data": {
      "text/html": [
       "0.122950819672131"
      ],
      "text/latex": [
       "0.122950819672131"
      ],
      "text/markdown": [
       "0.122950819672131"
      ],
      "text/plain": [
       "[1] 0.1229508"
      ]
     },
     "metadata": {},
     "output_type": "display_data"
    }
   ],
   "source": [
    "lda.fitted = lda(mpg01~cylinders + year, data= Auto, subset=train)\n",
    "lda.fitted\n",
    "Ida.prediction = predict(lda.fitted, Auto.test)\n",
    "names(Ida.prediction)\n",
    "table(Ida.prediction$class, mpg01.test)\n",
    "mean(Ida.prediction$class == mpg01.test)\n",
    "mean(Ida.prediction$class != mpg01.test)"
   ]
  },
  {
   "cell_type": "markdown",
   "metadata": {},
   "source": [
    "Test error rate is 12.3%."
   ]
  },
  {
   "cell_type": "markdown",
   "metadata": {},
   "source": [
    "(e) Perform QDA on the training data in order to predict mpg01\n",
    "using the variables that seemed most associated with mpg01 in\n",
    "(b). What is the test error of the model obtained?"
   ]
  },
  {
   "cell_type": "code",
   "execution_count": 301,
   "metadata": {},
   "outputs": [
    {
     "data": {
      "text/plain": [
       "Call:\n",
       "qda(mpg01 ~ cylinders + year, data = Auto, subset = train)\n",
       "\n",
       "Prior probabilities of groups:\n",
       "        0         1 \n",
       "0.4925926 0.5074074 \n",
       "\n",
       "Group means:\n",
       "  cylinders     year\n",
       "0  6.917293 73.95489\n",
       "1  4.167883 77.41606"
      ]
     },
     "metadata": {},
     "output_type": "display_data"
    },
    {
     "data": {
      "text/plain": [
       "   mpg01.test\n",
       "     0  1\n",
       "  0 52  5\n",
       "  1 11 54"
      ]
     },
     "metadata": {},
     "output_type": "display_data"
    },
    {
     "data": {
      "text/html": [
       "0.868852459016393"
      ],
      "text/latex": [
       "0.868852459016393"
      ],
      "text/markdown": [
       "0.868852459016393"
      ],
      "text/plain": [
       "[1] 0.8688525"
      ]
     },
     "metadata": {},
     "output_type": "display_data"
    },
    {
     "data": {
      "text/html": [
       "0.131147540983607"
      ],
      "text/latex": [
       "0.131147540983607"
      ],
      "text/markdown": [
       "0.131147540983607"
      ],
      "text/plain": [
       "[1] 0.1311475"
      ]
     },
     "metadata": {},
     "output_type": "display_data"
    }
   ],
   "source": [
    "qda.fitted = qda(mpg01~cylinders + year, data= Auto, subset=train)\n",
    "qda.fitted\n",
    "qda.prediction = predict(qda.fitted, Auto.test)\n",
    "table(qda.prediction$class, mpg01.test)\n",
    "mean(qda.prediction$class == mpg01.test)\n",
    "mean(qda.prediction$class != mpg01.test)"
   ]
  },
  {
   "cell_type": "markdown",
   "metadata": {},
   "source": [
    "Error rate is 13.1%."
   ]
  },
  {
   "cell_type": "markdown",
   "metadata": {},
   "source": [
    "(f) Perform logistic regression on the training data in order to predict\n",
    "mpg01 using the variables that seemed most associated with\n",
    "mpg01 in (b). What is the test error of the model obtained?"
   ]
  },
  {
   "cell_type": "code",
   "execution_count": 307,
   "metadata": {},
   "outputs": [
    {
     "data": {
      "text/html": [
       "<table>\n",
       "<thead><tr><th></th><th scope=col>Up</th></tr></thead>\n",
       "<tbody>\n",
       "\t<tr><th scope=row>Down</th><td>0</td></tr>\n",
       "\t<tr><th scope=row>Up</th><td>1</td></tr>\n",
       "</tbody>\n",
       "</table>\n"
      ],
      "text/latex": [
       "\\begin{tabular}{r|l}\n",
       "  & Up\\\\\n",
       "\\hline\n",
       "\tDown & 0\\\\\n",
       "\tUp & 1\\\\\n",
       "\\end{tabular}\n"
      ],
      "text/markdown": [
       "\n",
       "| <!--/--> | Up |\n",
       "|---|---|\n",
       "| Down | 0 |\n",
       "| Up | 1 |\n",
       "\n"
      ],
      "text/plain": [
       "     Up\n",
       "Down 0 \n",
       "Up   1 "
      ]
     },
     "metadata": {},
     "output_type": "display_data"
    },
    {
     "data": {
      "text/plain": [
       "        mpg01.test\n",
       "glm.pred  0  1\n",
       "       0 49  1\n",
       "       1 14 58"
      ]
     },
     "metadata": {},
     "output_type": "display_data"
    },
    {
     "data": {
      "text/html": [
       "0.877049180327869"
      ],
      "text/latex": [
       "0.877049180327869"
      ],
      "text/markdown": [
       "0.877049180327869"
      ],
      "text/plain": [
       "[1] 0.8770492"
      ]
     },
     "metadata": {},
     "output_type": "display_data"
    },
    {
     "data": {
      "text/html": [
       "0.122950819672131"
      ],
      "text/latex": [
       "0.122950819672131"
      ],
      "text/markdown": [
       "0.122950819672131"
      ],
      "text/plain": [
       "[1] 0.1229508"
      ]
     },
     "metadata": {},
     "output_type": "display_data"
    }
   ],
   "source": [
    "glm.fit= glm(mpg01~cylinders + year, data= Auto, family = binomial, subset= train)\n",
    "glm.prob = predict(glm.fit, Auto.test, type ='response')\n",
    "\n",
    "contrasts(Direction)\n",
    "glm.pred=rep(0, length(glm.prob))\n",
    "glm.pred[glm.prob>0.5] = 1\n",
    "table(glm.pred, mpg01.test)\n",
    "mean(glm.pred == mpg01.test)\n",
    "mean(glm.pred!= mpg01.test)"
   ]
  },
  {
   "cell_type": "markdown",
   "metadata": {},
   "source": [
    "The error rate is 12.3%."
   ]
  },
  {
   "cell_type": "markdown",
   "metadata": {},
   "source": [
    "(g) Perform KNN on the training data, with several values of K, in\n",
    "order to predict mpg01. Use only the variables that seemed most\n",
    "associated with mpg01 in (b). What test errors do you obtain?\n",
    "Which value of K seems to perform the best on this data set?"
   ]
  },
  {
   "cell_type": "code",
   "execution_count": 312,
   "metadata": {},
   "outputs": [
    {
     "data": {
      "text/plain": [
       "        mpg01.test\n",
       "knn.pred  0  1\n",
       "       0 49  1\n",
       "       1 14 58"
      ]
     },
     "metadata": {},
     "output_type": "display_data"
    },
    {
     "data": {
      "text/html": [
       "0.877049180327869"
      ],
      "text/latex": [
       "0.877049180327869"
      ],
      "text/markdown": [
       "0.877049180327869"
      ],
      "text/plain": [
       "[1] 0.8770492"
      ]
     },
     "metadata": {},
     "output_type": "display_data"
    },
    {
     "data": {
      "text/html": [
       "0.122950819672131"
      ],
      "text/latex": [
       "0.122950819672131"
      ],
      "text/markdown": [
       "0.122950819672131"
      ],
      "text/plain": [
       "[1] 0.1229508"
      ]
     },
     "metadata": {},
     "output_type": "display_data"
    }
   ],
   "source": [
    "#KNN with k =1\n",
    "train.X = cbind(cylinders, year)[train,]\n",
    "test.X = cbind(cylinders, year)[!train,]\n",
    "set.seed(1)\n",
    "knn.pred = knn(train.X, test.X, Auto.train$mpg01, k =1)\n",
    "table(knn.pred, mpg01.test)\n",
    "mean(glm.pred == mpg01.test)\n",
    "mean(glm.pred!= mpg01.test)"
   ]
  },
  {
   "cell_type": "code",
   "execution_count": 317,
   "metadata": {},
   "outputs": [
    {
     "data": {
      "text/plain": [
       "        mpg01.test\n",
       "knn.pred  0  1\n",
       "       0 49  0\n",
       "       1 14 59"
      ]
     },
     "metadata": {},
     "output_type": "display_data"
    },
    {
     "data": {
      "text/html": [
       "0.877049180327869"
      ],
      "text/latex": [
       "0.877049180327869"
      ],
      "text/markdown": [
       "0.877049180327869"
      ],
      "text/plain": [
       "[1] 0.8770492"
      ]
     },
     "metadata": {},
     "output_type": "display_data"
    },
    {
     "data": {
      "text/html": [
       "0.122950819672131"
      ],
      "text/latex": [
       "0.122950819672131"
      ],
      "text/markdown": [
       "0.122950819672131"
      ],
      "text/plain": [
       "[1] 0.1229508"
      ]
     },
     "metadata": {},
     "output_type": "display_data"
    }
   ],
   "source": [
    "#KNN with k =50\n",
    "train.X = cbind(cylinders, year)[train,]\n",
    "test.X = cbind(cylinders, year)[!train,]\n",
    "set.seed(1)\n",
    "knn.pred = knn(train.X, test.X, Auto.train$mpg01, k =50)\n",
    "table(knn.pred, mpg01.test)\n",
    "mean(glm.pred == mpg01.test)\n",
    "mean(glm.pred!= mpg01.test)"
   ]
  },
  {
   "cell_type": "markdown",
   "metadata": {},
   "source": [
    "The error rate for KNN for various values of K is 12.3%."
   ]
  },
  {
   "cell_type": "code",
   "execution_count": null,
   "metadata": {},
   "outputs": [],
   "source": []
  }
 ],
 "metadata": {
  "kernelspec": {
   "display_name": "R",
   "language": "R",
   "name": "ir"
  },
  "language_info": {
   "codemirror_mode": "r",
   "file_extension": ".r",
   "mimetype": "text/x-r-source",
   "name": "R",
   "pygments_lexer": "r",
   "version": "3.6.1"
  }
 },
 "nbformat": 4,
 "nbformat_minor": 4
}
