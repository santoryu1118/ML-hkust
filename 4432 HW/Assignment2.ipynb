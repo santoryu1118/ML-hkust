{
 "cells": [
  {
   "cell_type": "markdown",
   "metadata": {},
   "source": [
    "## Lee Jae Yeol\n",
    "## 20308109\n",
    "## Math 4432 Assignment 2"
   ]
  },
  {
   "cell_type": "markdown",
   "metadata": {},
   "source": [
    "## CH 5. Question 5"
   ]
  },
  {
   "cell_type": "code",
   "execution_count": 1,
   "metadata": {},
   "outputs": [
    {
     "name": "stderr",
     "output_type": "stream",
     "text": [
      "Warning message:\n",
      "\"package 'ISLR' was built under R version 3.6.3\""
     ]
    }
   ],
   "source": [
    "library(ISLR)\n",
    "data(Default)\n",
    "Default = na.omit(Default)"
   ]
  },
  {
   "cell_type": "code",
   "execution_count": 14,
   "metadata": {},
   "outputs": [
    {
     "data": {
      "text/html": [
       "<table>\n",
       "<thead><tr><th scope=col>default</th><th scope=col>student</th><th scope=col>balance</th><th scope=col>income</th></tr></thead>\n",
       "<tbody>\n",
       "\t<tr><td>No       </td><td>No       </td><td> 729.5265</td><td>44361.625</td></tr>\n",
       "\t<tr><td>No       </td><td>Yes      </td><td> 817.1804</td><td>12106.135</td></tr>\n",
       "\t<tr><td>No       </td><td>No       </td><td>1073.5492</td><td>31767.139</td></tr>\n",
       "\t<tr><td>No       </td><td>No       </td><td> 529.2506</td><td>35704.494</td></tr>\n",
       "\t<tr><td>No       </td><td>No       </td><td> 785.6559</td><td>38463.496</td></tr>\n",
       "\t<tr><td>No       </td><td>Yes      </td><td> 919.5885</td><td> 7491.559</td></tr>\n",
       "</tbody>\n",
       "</table>\n"
      ],
      "text/latex": [
       "\\begin{tabular}{r|llll}\n",
       " default & student & balance & income\\\\\n",
       "\\hline\n",
       "\t No        & No        &  729.5265 & 44361.625\\\\\n",
       "\t No        & Yes       &  817.1804 & 12106.135\\\\\n",
       "\t No        & No        & 1073.5492 & 31767.139\\\\\n",
       "\t No        & No        &  529.2506 & 35704.494\\\\\n",
       "\t No        & No        &  785.6559 & 38463.496\\\\\n",
       "\t No        & Yes       &  919.5885 &  7491.559\\\\\n",
       "\\end{tabular}\n"
      ],
      "text/markdown": [
       "\n",
       "| default | student | balance | income |\n",
       "|---|---|---|---|\n",
       "| No        | No        |  729.5265 | 44361.625 |\n",
       "| No        | Yes       |  817.1804 | 12106.135 |\n",
       "| No        | No        | 1073.5492 | 31767.139 |\n",
       "| No        | No        |  529.2506 | 35704.494 |\n",
       "| No        | No        |  785.6559 | 38463.496 |\n",
       "| No        | Yes       |  919.5885 |  7491.559 |\n",
       "\n"
      ],
      "text/plain": [
       "  default student balance   income   \n",
       "1 No      No       729.5265 44361.625\n",
       "2 No      Yes      817.1804 12106.135\n",
       "3 No      No      1073.5492 31767.139\n",
       "4 No      No       529.2506 35704.494\n",
       "5 No      No       785.6559 38463.496\n",
       "6 No      Yes      919.5885  7491.559"
      ]
     },
     "metadata": {},
     "output_type": "display_data"
    },
    {
     "name": "stderr",
     "output_type": "stream",
     "text": [
      "The following objects are masked from Default (pos = 3):\n",
      "\n",
      "    balance, default, income, student\n",
      "\n"
     ]
    }
   ],
   "source": [
    "head(Default)\n",
    "## attach 는 colname 바로바로 쓸 수 있게 해줌\n",
    "attach(Default)"
   ]
  },
  {
   "cell_type": "markdown",
   "metadata": {},
   "source": [
    "### a) Fit a logistic regression model that uses income and balance to predict default."
   ]
  },
  {
   "cell_type": "code",
   "execution_count": 13,
   "metadata": {},
   "outputs": [
    {
     "data": {
      "text/plain": [
       "\n",
       "Call:\n",
       "glm(formula = default ~ balance + income, family = binomial, \n",
       "    data = Default)\n",
       "\n",
       "Deviance Residuals: \n",
       "    Min       1Q   Median       3Q      Max  \n",
       "-2.4725  -0.1444  -0.0574  -0.0211   3.7245  \n",
       "\n",
       "Coefficients:\n",
       "              Estimate Std. Error z value Pr(>|z|)    \n",
       "(Intercept) -1.154e+01  4.348e-01 -26.545  < 2e-16 ***\n",
       "balance      5.647e-03  2.274e-04  24.836  < 2e-16 ***\n",
       "income       2.081e-05  4.985e-06   4.174 2.99e-05 ***\n",
       "---\n",
       "Signif. codes:  0 '***' 0.001 '**' 0.01 '*' 0.05 '.' 0.1 ' ' 1\n",
       "\n",
       "(Dispersion parameter for binomial family taken to be 1)\n",
       "\n",
       "    Null deviance: 2920.6  on 9999  degrees of freedom\n",
       "Residual deviance: 1579.0  on 9997  degrees of freedom\n",
       "AIC: 1585\n",
       "\n",
       "Number of Fisher Scoring iterations: 8\n"
      ]
     },
     "metadata": {},
     "output_type": "display_data"
    }
   ],
   "source": [
    "## family = binomial 은 '1' ,'0' 이런거 나눠주는거임\n",
    "glm.fits = glm(default~ balance + income, data = Default, family = binomial)\n",
    "summary(glm.fits)"
   ]
  },
  {
   "cell_type": "markdown",
   "metadata": {},
   "source": [
    "### (b) Using the validation set approach, estimate the test error of this model. In order to do this, you must perform the following steps:"
   ]
  },
  {
   "cell_type": "markdown",
   "metadata": {},
   "source": [
    "i. Split the sample set into a training set and a validation set."
   ]
  },
  {
   "cell_type": "code",
   "execution_count": 54,
   "metadata": {},
   "outputs": [],
   "source": [
    "##sample(x, size, replace = FALSE, prob = NULL)\n",
    "## replace = True 면 같은거 또 나올수 있음\n",
    "set.seed(0)\n",
    "train = sample(dim(Default)[1], dim(Default)[1]*4/5)"
   ]
  },
  {
   "cell_type": "markdown",
   "metadata": {},
   "source": [
    "ii. Fit a multiple logistic regression model using only the training\n",
    "observations."
   ]
  },
  {
   "cell_type": "code",
   "execution_count": 55,
   "metadata": {},
   "outputs": [
    {
     "data": {
      "text/plain": [
       "\n",
       "Call:\n",
       "glm(formula = default ~ balance + income, family = binomial, \n",
       "    subset = train)\n",
       "\n",
       "Deviance Residuals: \n",
       "    Min       1Q   Median       3Q      Max  \n",
       "-2.4750  -0.1489  -0.0594  -0.0219   3.7089  \n",
       "\n",
       "Coefficients:\n",
       "              Estimate Std. Error z value Pr(>|z|)    \n",
       "(Intercept) -1.149e+01  4.792e-01 -23.982  < 2e-16 ***\n",
       "balance      5.603e-03  2.498e-04  22.431  < 2e-16 ***\n",
       "income       2.208e-05  5.583e-06   3.954 7.67e-05 ***\n",
       "---\n",
       "Signif. codes:  0 '***' 0.001 '**' 0.01 '*' 0.05 '.' 0.1 ' ' 1\n",
       "\n",
       "(Dispersion parameter for binomial family taken to be 1)\n",
       "\n",
       "    Null deviance: 2374.1  on 7999  degrees of freedom\n",
       "Residual deviance: 1285.4  on 7997  degrees of freedom\n",
       "AIC: 1291.4\n",
       "\n",
       "Number of Fisher Scoring iterations: 8\n"
      ]
     },
     "metadata": {},
     "output_type": "display_data"
    }
   ],
   "source": [
    "glm.fit = glm(default~ balance + income, family = binomial, subset = train)\n",
    "summary(glm.fit)"
   ]
  },
  {
   "cell_type": "markdown",
   "metadata": {},
   "source": [
    "iii. Obtain a prediction of default status for each individual in\n",
    "the validation set by computing the posterior probability of\n",
    "default for that individual, and classifying the individual to\n",
    "the default category if the posterior probability is greater\n",
    "than 0.5."
   ]
  },
  {
   "cell_type": "code",
   "execution_count": 56,
   "metadata": {},
   "outputs": [
    {
     "data": {
      "text/plain": [
       "     Min.   1st Qu.    Median      Mean   3rd Qu.      Max. \n",
       "0.0000128 0.0002985 0.0020966 0.0324881 0.0126465 0.9108939 "
      ]
     },
     "metadata": {},
     "output_type": "display_data"
    },
    {
     "data": {
      "text/html": [
       "2000"
      ],
      "text/latex": [
       "2000"
      ],
      "text/markdown": [
       "2000"
      ],
      "text/plain": [
       "[1] 2000"
      ]
     },
     "metadata": {},
     "output_type": "display_data"
    },
    {
     "data": {
      "text/html": [
       "26"
      ],
      "text/latex": [
       "26"
      ],
      "text/markdown": [
       "26"
      ],
      "text/plain": [
       "[1] 26"
      ]
     },
     "metadata": {},
     "output_type": "display_data"
    },
    {
     "data": {
      "text/html": [
       "1974"
      ],
      "text/latex": [
       "1974"
      ],
      "text/markdown": [
       "1974"
      ],
      "text/plain": [
       "[1] 1974"
      ]
     },
     "metadata": {},
     "output_type": "display_data"
    }
   ],
   "source": [
    "## validation set은 Default[-train,]으로 구하면됨\n",
    "prob = predict(glm.fit, Default[-train,], type = 'response')\n",
    "summary(prob)\n",
    "prediction = rep(\"No\", length(prob))\n",
    "prediction[prob > 0.5] = \"Yes\"\n",
    "length(prediction)\n",
    "length(which(prediction == \"Yes\"))\n",
    "length(which(prediction == \"No\"))"
   ]
  },
  {
   "cell_type": "markdown",
   "metadata": {},
   "source": [
    "iv. Compute the validation set error, which is the fraction of\n",
    "the observations in the validation set that are misclassified."
   ]
  },
  {
   "cell_type": "code",
   "execution_count": 57,
   "metadata": {},
   "outputs": [
    {
     "data": {
      "text/html": [
       "0.0255"
      ],
      "text/latex": [
       "0.0255"
      ],
      "text/markdown": [
       "0.0255"
      ],
      "text/plain": [
       "[1] 0.0255"
      ]
     },
     "metadata": {},
     "output_type": "display_data"
    }
   ],
   "source": [
    "## 둘이 다른거의 mean 을 구해주면 되는데 validation set 으로만 해야되니 train set 제거\n",
    "mean(prediction != Default[-train,]$default)"
   ]
  },
  {
   "cell_type": "markdown",
   "metadata": {},
   "source": [
    "(c) Repeat the process in (b) three times, using three different splits\n",
    "of the observations into a training set and a validation set. Comment\n",
    "on the results obtained."
   ]
  },
  {
   "cell_type": "code",
   "execution_count": 59,
   "metadata": {},
   "outputs": [
    {
     "data": {
      "text/html": [
       "0.0305"
      ],
      "text/latex": [
       "0.0305"
      ],
      "text/markdown": [
       "0.0305"
      ],
      "text/plain": [
       "[1] 0.0305"
      ]
     },
     "metadata": {},
     "output_type": "display_data"
    }
   ],
   "source": [
    "train = sample(dim(Default)[1], dim(Default)[1]*4/5)\n",
    "glm.fit = glm(default~ balance + income, family = binomial, subset = train)\n",
    "prob = predict(glm.fit, Default[-train,], type = 'response')\n",
    "prediction = rep(\"No\", length(prob))\n",
    "prediction[prob > 0.5] = \"Yes\"\n",
    "mean(prediction != Default[-train,]$default)"
   ]
  },
  {
   "cell_type": "code",
   "execution_count": 60,
   "metadata": {},
   "outputs": [
    {
     "data": {
      "text/html": [
       "0.032"
      ],
      "text/latex": [
       "0.032"
      ],
      "text/markdown": [
       "0.032"
      ],
      "text/plain": [
       "[1] 0.032"
      ]
     },
     "metadata": {},
     "output_type": "display_data"
    }
   ],
   "source": [
    "train = sample(dim(Default)[1], dim(Default)[1]*4/5)\n",
    "glm.fit = glm(default~ balance + income, family = binomial, subset = train)\n",
    "prob = predict(glm.fit, Default[-train,], type = 'response')\n",
    "prediction = rep(\"No\", length(prob))\n",
    "prediction[prob > 0.5] = \"Yes\"\n",
    "mean(prediction != Default[-train,]$default)"
   ]
  },
  {
   "cell_type": "code",
   "execution_count": 62,
   "metadata": {},
   "outputs": [
    {
     "data": {
      "text/html": [
       "0.027"
      ],
      "text/latex": [
       "0.027"
      ],
      "text/markdown": [
       "0.027"
      ],
      "text/plain": [
       "[1] 0.027"
      ]
     },
     "metadata": {},
     "output_type": "display_data"
    }
   ],
   "source": [
    "train = sample(dim(Default)[1], dim(Default)[1]*4/5)\n",
    "glm.fit = glm(default~ balance + income, family = binomial, subset = train)\n",
    "prob = predict(glm.fit, Default[-train,], type = 'response')\n",
    "prediction = rep(\"No\", length(prob))\n",
    "prediction[prob > 0.5] = \"Yes\"\n",
    "mean(prediction != Default[-train,]$default)"
   ]
  },
  {
   "cell_type": "markdown",
   "metadata": {},
   "source": [
    "comment :The test errors for different validation sets differ with a slight amount. "
   ]
  },
  {
   "cell_type": "markdown",
   "metadata": {},
   "source": [
    "(d) Now consider a logistic regression model that predicts the probability\n",
    "of default using income, balance, and a dummy variable\n",
    "for student. Estimate the test error for this model using the validation\n",
    "set approach. Comment on whether or not including a\n",
    "dummy variable for student leads to a reduction in the test error\n",
    "rate."
   ]
  },
  {
   "cell_type": "code",
   "execution_count": 63,
   "metadata": {},
   "outputs": [
    {
     "data": {
      "text/html": [
       "0.0265"
      ],
      "text/latex": [
       "0.0265"
      ],
      "text/markdown": [
       "0.0265"
      ],
      "text/plain": [
       "[1] 0.0265"
      ]
     },
     "metadata": {},
     "output_type": "display_data"
    }
   ],
   "source": [
    "train = sample(dim(Default)[1], dim(Default)[1]*4/5)\n",
    "glm.fit = glm(default~ balance + income + student, family = binomial, subset = train)\n",
    "prob = predict(glm.fit, Default[-train,], type = 'response')\n",
    "prediction = rep(\"No\", length(prob))\n",
    "prediction[prob > 0.5] = \"Yes\"\n",
    "mean(prediction != Default[-train,]$default)"
   ]
  },
  {
   "cell_type": "code",
   "execution_count": 64,
   "metadata": {},
   "outputs": [
    {
     "data": {
      "text/html": [
       "0.03"
      ],
      "text/latex": [
       "0.03"
      ],
      "text/markdown": [
       "0.03"
      ],
      "text/plain": [
       "[1] 0.03"
      ]
     },
     "metadata": {},
     "output_type": "display_data"
    }
   ],
   "source": [
    "train = sample(dim(Default)[1], dim(Default)[1]*4/5)\n",
    "glm.fit = glm(default~ balance + income + student, family = binomial, subset = train)\n",
    "prob = predict(glm.fit, Default[-train,], type = 'response')\n",
    "prediction = rep(\"No\", length(prob))\n",
    "prediction[prob > 0.5] = \"Yes\"\n",
    "mean(prediction != Default[-train,]$default)"
   ]
  },
  {
   "cell_type": "markdown",
   "metadata": {},
   "source": [
    "There doesn't seem to be much of a difference with the variable student included."
   ]
  },
  {
   "cell_type": "markdown",
   "metadata": {},
   "source": [
    "## Question 6"
   ]
  },
  {
   "cell_type": "markdown",
   "metadata": {},
   "source": [
    "We will now compute estimates for the standard errors of the income and balance logistic regression coefficients in two different ways: (1) using the bootstrap, and (2) using the standard formula for computing the standard errors in the glm()\n",
    "function.\n",
    "\n",
    "(a) Using the summary() and glm() functions, determine the estimated\n",
    "standard errors for the coefficients associated with income\n",
    "and balance in a multiple logistic regression model that uses\n",
    "both predictors."
   ]
  },
  {
   "cell_type": "code",
   "execution_count": 82,
   "metadata": {},
   "outputs": [
    {
     "data": {
      "text/plain": [
       "\n",
       "Call:\n",
       "glm(formula = default ~ balance * income, family = binomial)\n",
       "\n",
       "Deviance Residuals: \n",
       "    Min       1Q   Median       3Q      Max  \n",
       "-2.5415  -0.1441  -0.0570  -0.0207   3.7546  \n",
       "\n",
       "Coefficients:\n",
       "                 Estimate Std. Error z value Pr(>|z|)    \n",
       "(Intercept)    -1.092e+01  9.489e-01 -11.504   <2e-16 ***\n",
       "balance         5.265e-03  5.648e-04   9.323   <2e-16 ***\n",
       "income          1.600e-06  2.683e-05   0.060    0.952    \n",
       "balance:income  1.193e-08  1.638e-08   0.728    0.466    \n",
       "---\n",
       "Signif. codes:  0 '***' 0.001 '**' 0.01 '*' 0.05 '.' 0.1 ' ' 1\n",
       "\n",
       "(Dispersion parameter for binomial family taken to be 1)\n",
       "\n",
       "    Null deviance: 2920.6  on 9999  degrees of freedom\n",
       "Residual deviance: 1578.4  on 9996  degrees of freedom\n",
       "AIC: 1586.4\n",
       "\n",
       "Number of Fisher Scoring iterations: 8\n"
      ]
     },
     "metadata": {},
     "output_type": "display_data"
    },
    {
     "data": {
      "text/html": [
       "<dl class=dl-horizontal>\n",
       "\t<dt>(Intercept)</dt>\n",
       "\t\t<dd>0.948886004407089</dd>\n",
       "\t<dt>balance</dt>\n",
       "\t\t<dd>0.000564770641307534</dd>\n",
       "\t<dt>income</dt>\n",
       "\t\t<dd>2.68292147080246e-05</dd>\n",
       "\t<dt>balance:income</dt>\n",
       "\t\t<dd>1.63806612365936e-08</dd>\n",
       "</dl>\n"
      ],
      "text/latex": [
       "\\begin{description*}\n",
       "\\item[(Intercept)] 0.948886004407089\n",
       "\\item[balance] 0.000564770641307534\n",
       "\\item[income] 2.68292147080246e-05\n",
       "\\item[balance:income] 1.63806612365936e-08\n",
       "\\end{description*}\n"
      ],
      "text/markdown": [
       "(Intercept)\n",
       ":   0.948886004407089balance\n",
       ":   0.000564770641307534income\n",
       ":   2.68292147080246e-05balance:income\n",
       ":   1.63806612365936e-08\n",
       "\n"
      ],
      "text/plain": [
       "   (Intercept)        balance         income balance:income \n",
       "  9.488860e-01   5.647706e-04   2.682921e-05   1.638066e-08 "
      ]
     },
     "metadata": {},
     "output_type": "display_data"
    }
   ],
   "source": [
    "glm.fit = glm(default ~ balance * income, family = binomial)\n",
    "summary(glm.fit)\n",
    "summary(glm.fit)$coef[,2]"
   ]
  },
  {
   "cell_type": "markdown",
   "metadata": {},
   "source": [
    "(b) Write a function, boot.fn(), that takes as input the Default data\n",
    "set as well as an index of the observations, and that outputs\n",
    "the coefficient estimates for income and balance in the multiple\n",
    "logistic regression model."
   ]
  },
  {
   "cell_type": "code",
   "execution_count": 93,
   "metadata": {},
   "outputs": [],
   "source": [
    "boot.fn = function(data_set, index){\n",
    "    glm.fit = glm(default ~ income * balance, data = data_set, family = binomial, subset =index)\n",
    "    return (summary(glm.fit)$coef)\n",
    "}"
   ]
  },
  {
   "cell_type": "markdown",
   "metadata": {},
   "source": [
    "(c) Use the boot() function together with your boot.fn() function to\n",
    "estimate the standard errors of the logistic regression coefficients\n",
    "for income and balance."
   ]
  },
  {
   "cell_type": "code",
   "execution_count": 98,
   "metadata": {},
   "outputs": [
    {
     "data": {
      "text/plain": [
       "\n",
       "ORDINARY NONPARAMETRIC BOOTSTRAP\n",
       "\n",
       "\n",
       "Call:\n",
       "boot(data = Default, statistic = boot.fn, R = length(default))\n",
       "\n",
       "\n",
       "Bootstrap Statistics :\n",
       "          original        bias     std. error\n",
       "t1*  -1.091573e+01 -2.665591e-02 9.101886e-01\n",
       "t2*   1.599661e-06 -6.730464e-07 2.675604e-05\n",
       "t3*   5.265278e-03  1.313658e-05 5.475786e-04\n",
       "t4*   1.193329e-08  4.381578e-10 1.651719e-08\n",
       "t5*   9.488860e-01  5.892249e-03 5.479820e-02\n",
       "t6*   2.682921e-05  2.008576e-07 1.603578e-06\n",
       "t7*   5.647706e-04  3.436732e-06 2.995845e-05\n",
       "t8*   1.638066e-08  1.185582e-10 9.166057e-10\n",
       "t9*  -1.150373e+01  4.068361e-02 7.283660e-01\n",
       "t10*  5.962384e-02 -4.520425e-03 9.850170e-01\n",
       "t11*  9.322861e+00 -3.635160e-02 7.934964e-01\n",
       "t12*  7.284990e-01  1.908045e-03 9.808492e-01\n",
       "t13*  1.263369e-30  5.835938e-21 4.098999e-19\n",
       "t14*  9.524552e-01 -4.485126e-01 2.880121e-01\n",
       "t15*  1.132450e-20  2.361668e-13 1.384839e-11\n",
       "t16*  4.663082e-01 -3.953219e-02 3.012526e-01"
      ]
     },
     "metadata": {},
     "output_type": "display_data"
    }
   ],
   "source": [
    "library(boot)\n",
    "boot(Default, boot.fn, length(default))"
   ]
  },
  {
   "cell_type": "markdown",
   "metadata": {},
   "source": [
    "(d) Comment on the estimated standard errors obtained using the\n",
    "glm() function and using your bootstrap function."
   ]
  },
  {
   "cell_type": "markdown",
   "metadata": {},
   "source": [
    "The standard errors for the coefficients are small in difference."
   ]
  }
 ],
 "metadata": {
  "kernelspec": {
   "display_name": "R",
   "language": "R",
   "name": "ir"
  },
  "language_info": {
   "codemirror_mode": "r",
   "file_extension": ".r",
   "mimetype": "text/x-r-source",
   "name": "R",
   "pygments_lexer": "r",
   "version": "3.6.1"
  }
 },
 "nbformat": 4,
 "nbformat_minor": 4
}
