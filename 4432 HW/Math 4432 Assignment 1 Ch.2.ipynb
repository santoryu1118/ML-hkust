{
 "cells": [
  {
   "cell_type": "markdown",
   "metadata": {},
   "source": [
    "# CH2 Q8"
   ]
  },
  {
   "cell_type": "code",
   "execution_count": 80,
   "metadata": {},
   "outputs": [],
   "source": [
    "college = read.csv('C:/Users/capjo/Desktop/4학년 1학기/Math 4432/HW/College.csv')"
   ]
  },
  {
   "cell_type": "markdown",
   "metadata": {},
   "source": [
    "## (a) "
   ]
  },
  {
   "cell_type": "code",
   "execution_count": 81,
   "metadata": {
    "scrolled": true
   },
   "outputs": [
    {
     "name": "stderr",
     "output_type": "stream",
     "text": [
      "The following objects are masked from college (pos = 4):\n",
      "\n",
      "    Accept, Apps, Books, Enroll, Expend, F.Undergrad, Grad.Rate,\n",
      "    Outstate, P.Undergrad, perc.alumni, Personal, PhD, Private,\n",
      "    Room.Board, S.F.Ratio, Terminal, Top10perc, Top25perc, X\n",
      "\n",
      "The following objects are masked from college (pos = 5):\n",
      "\n",
      "    Accept, Apps, Books, Enroll, Expend, F.Undergrad, Grad.Rate,\n",
      "    Outstate, P.Undergrad, perc.alumni, Personal, PhD, Private,\n",
      "    Room.Board, S.F.Ratio, Terminal, Top10perc, Top25perc, X\n",
      "\n",
      "The following objects are masked from df (pos = 6):\n",
      "\n",
      "    Accept, Apps, Books, Enroll, Expend, F.Undergrad, Grad.Rate,\n",
      "    Outstate, P.Undergrad, perc.alumni, Personal, PhD, Private,\n",
      "    Room.Board, S.F.Ratio, Terminal, Top10perc, Top25perc, X\n",
      "\n",
      "The following objects are masked from df (pos = 7):\n",
      "\n",
      "    Accept, Apps, Books, Enroll, Expend, F.Undergrad, Grad.Rate,\n",
      "    Outstate, P.Undergrad, perc.alumni, Personal, PhD, Private,\n",
      "    Room.Board, S.F.Ratio, Terminal, Top10perc, Top25perc, X\n",
      "\n",
      "The following objects are masked from df (pos = 8):\n",
      "\n",
      "    Accept, Apps, Books, Enroll, Expend, F.Undergrad, Grad.Rate,\n",
      "    Outstate, P.Undergrad, perc.alumni, Personal, PhD, Private,\n",
      "    Room.Board, S.F.Ratio, Terminal, Top10perc, Top25perc, X\n",
      "\n",
      "The following objects are masked from df (pos = 9):\n",
      "\n",
      "    Accept, Apps, Books, Enroll, Expend, F.Undergrad, Grad.Rate,\n",
      "    Outstate, P.Undergrad, perc.alumni, Personal, PhD, Private,\n",
      "    Room.Board, S.F.Ratio, Terminal, Top10perc, Top25perc, X\n",
      "\n",
      "The following objects are masked from df (pos = 10):\n",
      "\n",
      "    Accept, Apps, Books, Enroll, Expend, F.Undergrad, Grad.Rate,\n",
      "    Outstate, P.Undergrad, perc.alumni, Personal, PhD, Private,\n",
      "    Room.Board, S.F.Ratio, Terminal, Top10perc, Top25perc, X\n",
      "\n"
     ]
    },
    {
     "data": {
      "text/html": [
       "<table>\n",
       "<thead><tr><th scope=col>X</th><th scope=col>Private</th><th scope=col>Apps</th><th scope=col>Accept</th><th scope=col>Enroll</th><th scope=col>Top10perc</th><th scope=col>Top25perc</th><th scope=col>F.Undergrad</th><th scope=col>P.Undergrad</th><th scope=col>Outstate</th><th scope=col>Room.Board</th><th scope=col>Books</th><th scope=col>Personal</th><th scope=col>PhD</th><th scope=col>Terminal</th><th scope=col>S.F.Ratio</th><th scope=col>perc.alumni</th><th scope=col>Expend</th><th scope=col>Grad.Rate</th></tr></thead>\n",
       "<tbody>\n",
       "\t<tr><td>Abilene Christian University</td><td>Yes                         </td><td>1660                        </td><td>1232                        </td><td>721                         </td><td>23                          </td><td>52                          </td><td>2885                        </td><td> 537                        </td><td> 7440                       </td><td>3300                        </td><td>450                         </td><td>2200                        </td><td>70                          </td><td>78                          </td><td>18.1                        </td><td>12                          </td><td> 7041                       </td><td>60                          </td></tr>\n",
       "\t<tr><td>Adelphi University          </td><td>Yes                         </td><td>2186                        </td><td>1924                        </td><td>512                         </td><td>16                          </td><td>29                          </td><td>2683                        </td><td>1227                        </td><td>12280                       </td><td>6450                        </td><td>750                         </td><td>1500                        </td><td>29                          </td><td>30                          </td><td>12.2                        </td><td>16                          </td><td>10527                       </td><td>56                          </td></tr>\n",
       "\t<tr><td>Adrian College              </td><td>Yes                         </td><td>1428                        </td><td>1097                        </td><td>336                         </td><td>22                          </td><td>50                          </td><td>1036                        </td><td>  99                        </td><td>11250                       </td><td>3750                        </td><td>400                         </td><td>1165                        </td><td>53                          </td><td>66                          </td><td>12.9                        </td><td>30                          </td><td> 8735                       </td><td>54                          </td></tr>\n",
       "\t<tr><td>Agnes Scott College         </td><td>Yes                         </td><td> 417                        </td><td> 349                        </td><td>137                         </td><td>60                          </td><td>89                          </td><td> 510                        </td><td>  63                        </td><td>12960                       </td><td>5450                        </td><td>450                         </td><td> 875                        </td><td>92                          </td><td>97                          </td><td> 7.7                        </td><td>37                          </td><td>19016                       </td><td>59                          </td></tr>\n",
       "\t<tr><td>Alaska Pacific University   </td><td>Yes                         </td><td> 193                        </td><td> 146                        </td><td> 55                         </td><td>16                          </td><td>44                          </td><td> 249                        </td><td> 869                        </td><td> 7560                       </td><td>4120                        </td><td>800                         </td><td>1500                        </td><td>76                          </td><td>72                          </td><td>11.9                        </td><td> 2                          </td><td>10922                       </td><td>15                          </td></tr>\n",
       "\t<tr><td>Albertson College           </td><td>Yes                         </td><td> 587                        </td><td> 479                        </td><td>158                         </td><td>38                          </td><td>62                          </td><td> 678                        </td><td>  41                        </td><td>13500                       </td><td>3335                        </td><td>500                         </td><td> 675                        </td><td>67                          </td><td>73                          </td><td> 9.4                        </td><td>11                          </td><td> 9727                       </td><td>55                          </td></tr>\n",
       "</tbody>\n",
       "</table>\n"
      ],
      "text/latex": [
       "\\begin{tabular}{r|lllllllllllllllllll}\n",
       " X & Private & Apps & Accept & Enroll & Top10perc & Top25perc & F.Undergrad & P.Undergrad & Outstate & Room.Board & Books & Personal & PhD & Terminal & S.F.Ratio & perc.alumni & Expend & Grad.Rate\\\\\n",
       "\\hline\n",
       "\t Abilene Christian University & Yes                          & 1660                         & 1232                         & 721                          & 23                           & 52                           & 2885                         &  537                         &  7440                        & 3300                         & 450                          & 2200                         & 70                           & 78                           & 18.1                         & 12                           &  7041                        & 60                          \\\\\n",
       "\t Adelphi University           & Yes                          & 2186                         & 1924                         & 512                          & 16                           & 29                           & 2683                         & 1227                         & 12280                        & 6450                         & 750                          & 1500                         & 29                           & 30                           & 12.2                         & 16                           & 10527                        & 56                          \\\\\n",
       "\t Adrian College               & Yes                          & 1428                         & 1097                         & 336                          & 22                           & 50                           & 1036                         &   99                         & 11250                        & 3750                         & 400                          & 1165                         & 53                           & 66                           & 12.9                         & 30                           &  8735                        & 54                          \\\\\n",
       "\t Agnes Scott College          & Yes                          &  417                         &  349                         & 137                          & 60                           & 89                           &  510                         &   63                         & 12960                        & 5450                         & 450                          &  875                         & 92                           & 97                           &  7.7                         & 37                           & 19016                        & 59                          \\\\\n",
       "\t Alaska Pacific University    & Yes                          &  193                         &  146                         &  55                          & 16                           & 44                           &  249                         &  869                         &  7560                        & 4120                         & 800                          & 1500                         & 76                           & 72                           & 11.9                         &  2                           & 10922                        & 15                          \\\\\n",
       "\t Albertson College            & Yes                          &  587                         &  479                         & 158                          & 38                           & 62                           &  678                         &   41                         & 13500                        & 3335                         & 500                          &  675                         & 67                           & 73                           &  9.4                         & 11                           &  9727                        & 55                          \\\\\n",
       "\\end{tabular}\n"
      ],
      "text/markdown": [
       "\n",
       "| X | Private | Apps | Accept | Enroll | Top10perc | Top25perc | F.Undergrad | P.Undergrad | Outstate | Room.Board | Books | Personal | PhD | Terminal | S.F.Ratio | perc.alumni | Expend | Grad.Rate |\n",
       "|---|---|---|---|---|---|---|---|---|---|---|---|---|---|---|---|---|---|---|\n",
       "| Abilene Christian University | Yes                          | 1660                         | 1232                         | 721                          | 23                           | 52                           | 2885                         |  537                         |  7440                        | 3300                         | 450                          | 2200                         | 70                           | 78                           | 18.1                         | 12                           |  7041                        | 60                           |\n",
       "| Adelphi University           | Yes                          | 2186                         | 1924                         | 512                          | 16                           | 29                           | 2683                         | 1227                         | 12280                        | 6450                         | 750                          | 1500                         | 29                           | 30                           | 12.2                         | 16                           | 10527                        | 56                           |\n",
       "| Adrian College               | Yes                          | 1428                         | 1097                         | 336                          | 22                           | 50                           | 1036                         |   99                         | 11250                        | 3750                         | 400                          | 1165                         | 53                           | 66                           | 12.9                         | 30                           |  8735                        | 54                           |\n",
       "| Agnes Scott College          | Yes                          |  417                         |  349                         | 137                          | 60                           | 89                           |  510                         |   63                         | 12960                        | 5450                         | 450                          |  875                         | 92                           | 97                           |  7.7                         | 37                           | 19016                        | 59                           |\n",
       "| Alaska Pacific University    | Yes                          |  193                         |  146                         |  55                          | 16                           | 44                           |  249                         |  869                         |  7560                        | 4120                         | 800                          | 1500                         | 76                           | 72                           | 11.9                         |  2                           | 10922                        | 15                           |\n",
       "| Albertson College            | Yes                          |  587                         |  479                         | 158                          | 38                           | 62                           |  678                         |   41                         | 13500                        | 3335                         | 500                          |  675                         | 67                           | 73                           |  9.4                         | 11                           |  9727                        | 55                           |\n",
       "\n"
      ],
      "text/plain": [
       "  X                            Private Apps Accept Enroll Top10perc Top25perc\n",
       "1 Abilene Christian University Yes     1660 1232   721    23        52       \n",
       "2 Adelphi University           Yes     2186 1924   512    16        29       \n",
       "3 Adrian College               Yes     1428 1097   336    22        50       \n",
       "4 Agnes Scott College          Yes      417  349   137    60        89       \n",
       "5 Alaska Pacific University    Yes      193  146    55    16        44       \n",
       "6 Albertson College            Yes      587  479   158    38        62       \n",
       "  F.Undergrad P.Undergrad Outstate Room.Board Books Personal PhD Terminal\n",
       "1 2885         537         7440    3300       450   2200     70  78      \n",
       "2 2683        1227        12280    6450       750   1500     29  30      \n",
       "3 1036          99        11250    3750       400   1165     53  66      \n",
       "4  510          63        12960    5450       450    875     92  97      \n",
       "5  249         869         7560    4120       800   1500     76  72      \n",
       "6  678          41        13500    3335       500    675     67  73      \n",
       "  S.F.Ratio perc.alumni Expend Grad.Rate\n",
       "1 18.1      12           7041  60       \n",
       "2 12.2      16          10527  56       \n",
       "3 12.9      30           8735  54       \n",
       "4  7.7      37          19016  59       \n",
       "5 11.9       2          10922  15       \n",
       "6  9.4      11           9727  55       "
      ]
     },
     "metadata": {},
     "output_type": "display_data"
    }
   ],
   "source": [
    "attach(college)\n",
    "head(college)"
   ]
  },
  {
   "cell_type": "markdown",
   "metadata": {},
   "source": [
    "## (b)"
   ]
  },
  {
   "cell_type": "code",
   "execution_count": 82,
   "metadata": {},
   "outputs": [],
   "source": [
    "rownames(college) = college[,1]\n",
    "fix(college)\n",
    "college = college[,-1]\n",
    "fix(college)"
   ]
  },
  {
   "cell_type": "markdown",
   "metadata": {},
   "source": [
    "## (c) "
   ]
  },
  {
   "cell_type": "code",
   "execution_count": 83,
   "metadata": {},
   "outputs": [
    {
     "data": {
      "text/plain": [
       " Private        Apps           Accept          Enroll       Top10perc    \n",
       " No :212   Min.   :   81   Min.   :   72   Min.   :  35   Min.   : 1.00  \n",
       " Yes:565   1st Qu.:  776   1st Qu.:  604   1st Qu.: 242   1st Qu.:15.00  \n",
       "           Median : 1558   Median : 1110   Median : 434   Median :23.00  \n",
       "           Mean   : 3002   Mean   : 2019   Mean   : 780   Mean   :27.56  \n",
       "           3rd Qu.: 3624   3rd Qu.: 2424   3rd Qu.: 902   3rd Qu.:35.00  \n",
       "           Max.   :48094   Max.   :26330   Max.   :6392   Max.   :96.00  \n",
       "   Top25perc      F.Undergrad     P.Undergrad         Outstate    \n",
       " Min.   :  9.0   Min.   :  139   Min.   :    1.0   Min.   : 2340  \n",
       " 1st Qu.: 41.0   1st Qu.:  992   1st Qu.:   95.0   1st Qu.: 7320  \n",
       " Median : 54.0   Median : 1707   Median :  353.0   Median : 9990  \n",
       " Mean   : 55.8   Mean   : 3700   Mean   :  855.3   Mean   :10441  \n",
       " 3rd Qu.: 69.0   3rd Qu.: 4005   3rd Qu.:  967.0   3rd Qu.:12925  \n",
       " Max.   :100.0   Max.   :31643   Max.   :21836.0   Max.   :21700  \n",
       "   Room.Board       Books           Personal         PhD        \n",
       " Min.   :1780   Min.   :  96.0   Min.   : 250   Min.   :  8.00  \n",
       " 1st Qu.:3597   1st Qu.: 470.0   1st Qu.: 850   1st Qu.: 62.00  \n",
       " Median :4200   Median : 500.0   Median :1200   Median : 75.00  \n",
       " Mean   :4358   Mean   : 549.4   Mean   :1341   Mean   : 72.66  \n",
       " 3rd Qu.:5050   3rd Qu.: 600.0   3rd Qu.:1700   3rd Qu.: 85.00  \n",
       " Max.   :8124   Max.   :2340.0   Max.   :6800   Max.   :103.00  \n",
       "    Terminal       S.F.Ratio      perc.alumni        Expend     \n",
       " Min.   : 24.0   Min.   : 2.50   Min.   : 0.00   Min.   : 3186  \n",
       " 1st Qu.: 71.0   1st Qu.:11.50   1st Qu.:13.00   1st Qu.: 6751  \n",
       " Median : 82.0   Median :13.60   Median :21.00   Median : 8377  \n",
       " Mean   : 79.7   Mean   :14.09   Mean   :22.74   Mean   : 9660  \n",
       " 3rd Qu.: 92.0   3rd Qu.:16.50   3rd Qu.:31.00   3rd Qu.:10830  \n",
       " Max.   :100.0   Max.   :39.80   Max.   :64.00   Max.   :56233  \n",
       "   Grad.Rate     \n",
       " Min.   : 10.00  \n",
       " 1st Qu.: 53.00  \n",
       " Median : 65.00  \n",
       " Mean   : 65.46  \n",
       " 3rd Qu.: 78.00  \n",
       " Max.   :118.00  "
      ]
     },
     "metadata": {},
     "output_type": "display_data"
    }
   ],
   "source": [
    "summary(college)"
   ]
  },
  {
   "cell_type": "code",
   "execution_count": 84,
   "metadata": {},
   "outputs": [
    {
     "data": {
      "image/png": "[encoded data removed]",
      "text/plain": [
       "plot without title"
      ]
     },
     "metadata": {},
     "output_type": "display_data"
    }
   ],
   "source": [
    "pairs(college[,1:10])"
   ]
  },
  {
   "cell_type": "code",
   "execution_count": 85,
   "metadata": {},
   "outputs": [
    {
     "data": {
      "image/png": "[encoded data removed]",
      "text/plain": [
       "plot without title"
      ]
     },
     "metadata": {},
     "output_type": "display_data"
    }
   ],
   "source": [
    "plot(Private, Outstate, xlab = \"Private\" , ylab =\"Outstate tuition\")"
   ]
  },
  {
   "cell_type": "code",
   "execution_count": 86,
   "metadata": {},
   "outputs": [
    {
     "data": {
      "text/html": [
       "<table>\n",
       "<thead><tr><th></th><th scope=col>Private</th><th scope=col>Apps</th><th scope=col>Accept</th><th scope=col>Enroll</th><th scope=col>Top10perc</th><th scope=col>Top25perc</th><th scope=col>F.Undergrad</th><th scope=col>P.Undergrad</th><th scope=col>Outstate</th><th scope=col>Room.Board</th><th scope=col>Books</th><th scope=col>Personal</th><th scope=col>PhD</th><th scope=col>Terminal</th><th scope=col>S.F.Ratio</th><th scope=col>perc.alumni</th><th scope=col>Expend</th><th scope=col>Grad.Rate</th><th scope=col>Elite</th></tr></thead>\n",
       "<tbody>\n",
       "\t<tr><th scope=row>Abilene Christian University</th><td>Yes  </td><td>1660 </td><td>1232 </td><td>721  </td><td>23   </td><td>52   </td><td>2885 </td><td> 537 </td><td> 7440</td><td>3300 </td><td>450  </td><td>2200 </td><td>70   </td><td>78   </td><td>18.1 </td><td>12   </td><td> 7041</td><td>60   </td><td>No   </td></tr>\n",
       "\t<tr><th scope=row>Adelphi University</th><td>Yes  </td><td>2186 </td><td>1924 </td><td>512  </td><td>16   </td><td>29   </td><td>2683 </td><td>1227 </td><td>12280</td><td>6450 </td><td>750  </td><td>1500 </td><td>29   </td><td>30   </td><td>12.2 </td><td>16   </td><td>10527</td><td>56   </td><td>No   </td></tr>\n",
       "\t<tr><th scope=row>Adrian College</th><td>Yes  </td><td>1428 </td><td>1097 </td><td>336  </td><td>22   </td><td>50   </td><td>1036 </td><td>  99 </td><td>11250</td><td>3750 </td><td>400  </td><td>1165 </td><td>53   </td><td>66   </td><td>12.9 </td><td>30   </td><td> 8735</td><td>54   </td><td>No   </td></tr>\n",
       "\t<tr><th scope=row>Agnes Scott College</th><td>Yes  </td><td> 417 </td><td> 349 </td><td>137  </td><td>60   </td><td>89   </td><td> 510 </td><td>  63 </td><td>12960</td><td>5450 </td><td>450  </td><td> 875 </td><td>92   </td><td>97   </td><td> 7.7 </td><td>37   </td><td>19016</td><td>59   </td><td> Yes </td></tr>\n",
       "\t<tr><th scope=row>Alaska Pacific University</th><td>Yes  </td><td> 193 </td><td> 146 </td><td> 55  </td><td>16   </td><td>44   </td><td> 249 </td><td> 869 </td><td> 7560</td><td>4120 </td><td>800  </td><td>1500 </td><td>76   </td><td>72   </td><td>11.9 </td><td> 2   </td><td>10922</td><td>15   </td><td>No   </td></tr>\n",
       "\t<tr><th scope=row>Albertson College</th><td>Yes  </td><td> 587 </td><td> 479 </td><td>158  </td><td>38   </td><td>62   </td><td> 678 </td><td>  41 </td><td>13500</td><td>3335 </td><td>500  </td><td> 675 </td><td>67   </td><td>73   </td><td> 9.4 </td><td>11   </td><td> 9727</td><td>55   </td><td>No   </td></tr>\n",
       "</tbody>\n",
       "</table>\n"
      ],
      "text/latex": [
       "\\begin{tabular}{r|lllllllllllllllllll}\n",
       "  & Private & Apps & Accept & Enroll & Top10perc & Top25perc & F.Undergrad & P.Undergrad & Outstate & Room.Board & Books & Personal & PhD & Terminal & S.F.Ratio & perc.alumni & Expend & Grad.Rate & Elite\\\\\n",
       "\\hline\n",
       "\tAbilene Christian University & Yes   & 1660  & 1232  & 721   & 23    & 52    & 2885  &  537  &  7440 & 3300  & 450   & 2200  & 70    & 78    & 18.1  & 12    &  7041 & 60    & No   \\\\\n",
       "\tAdelphi University & Yes   & 2186  & 1924  & 512   & 16    & 29    & 2683  & 1227  & 12280 & 6450  & 750   & 1500  & 29    & 30    & 12.2  & 16    & 10527 & 56    & No   \\\\\n",
       "\tAdrian College & Yes   & 1428  & 1097  & 336   & 22    & 50    & 1036  &   99  & 11250 & 3750  & 400   & 1165  & 53    & 66    & 12.9  & 30    &  8735 & 54    & No   \\\\\n",
       "\tAgnes Scott College & Yes   &  417  &  349  & 137   & 60    & 89    &  510  &   63  & 12960 & 5450  & 450   &  875  & 92    & 97    &  7.7  & 37    & 19016 & 59    &  Yes \\\\\n",
       "\tAlaska Pacific University & Yes   &  193  &  146  &  55   & 16    & 44    &  249  &  869  &  7560 & 4120  & 800   & 1500  & 76    & 72    & 11.9  &  2    & 10922 & 15    & No   \\\\\n",
       "\tAlbertson College & Yes   &  587  &  479  & 158   & 38    & 62    &  678  &   41  & 13500 & 3335  & 500   &  675  & 67    & 73    &  9.4  & 11    &  9727 & 55    & No   \\\\\n",
       "\\end{tabular}\n"
      ],
      "text/markdown": [
       "\n",
       "| <!--/--> | Private | Apps | Accept | Enroll | Top10perc | Top25perc | F.Undergrad | P.Undergrad | Outstate | Room.Board | Books | Personal | PhD | Terminal | S.F.Ratio | perc.alumni | Expend | Grad.Rate | Elite |\n",
       "|---|---|---|---|---|---|---|---|---|---|---|---|---|---|---|---|---|---|---|---|\n",
       "| Abilene Christian University | Yes   | 1660  | 1232  | 721   | 23    | 52    | 2885  |  537  |  7440 | 3300  | 450   | 2200  | 70    | 78    | 18.1  | 12    |  7041 | 60    | No    |\n",
       "| Adelphi University | Yes   | 2186  | 1924  | 512   | 16    | 29    | 2683  | 1227  | 12280 | 6450  | 750   | 1500  | 29    | 30    | 12.2  | 16    | 10527 | 56    | No    |\n",
       "| Adrian College | Yes   | 1428  | 1097  | 336   | 22    | 50    | 1036  |   99  | 11250 | 3750  | 400   | 1165  | 53    | 66    | 12.9  | 30    |  8735 | 54    | No    |\n",
       "| Agnes Scott College | Yes   |  417  |  349  | 137   | 60    | 89    |  510  |   63  | 12960 | 5450  | 450   |  875  | 92    | 97    |  7.7  | 37    | 19016 | 59    |  Yes  |\n",
       "| Alaska Pacific University | Yes   |  193  |  146  |  55   | 16    | 44    |  249  |  869  |  7560 | 4120  | 800   | 1500  | 76    | 72    | 11.9  |  2    | 10922 | 15    | No    |\n",
       "| Albertson College | Yes   |  587  |  479  | 158   | 38    | 62    |  678  |   41  | 13500 | 3335  | 500   |  675  | 67    | 73    |  9.4  | 11    |  9727 | 55    | No    |\n",
       "\n"
      ],
      "text/plain": [
       "                             Private Apps Accept Enroll Top10perc Top25perc\n",
       "Abilene Christian University Yes     1660 1232   721    23        52       \n",
       "Adelphi University           Yes     2186 1924   512    16        29       \n",
       "Adrian College               Yes     1428 1097   336    22        50       \n",
       "Agnes Scott College          Yes      417  349   137    60        89       \n",
       "Alaska Pacific University    Yes      193  146    55    16        44       \n",
       "Albertson College            Yes      587  479   158    38        62       \n",
       "                             F.Undergrad P.Undergrad Outstate Room.Board Books\n",
       "Abilene Christian University 2885         537         7440    3300       450  \n",
       "Adelphi University           2683        1227        12280    6450       750  \n",
       "Adrian College               1036          99        11250    3750       400  \n",
       "Agnes Scott College           510          63        12960    5450       450  \n",
       "Alaska Pacific University     249         869         7560    4120       800  \n",
       "Albertson College             678          41        13500    3335       500  \n",
       "                             Personal PhD Terminal S.F.Ratio perc.alumni Expend\n",
       "Abilene Christian University 2200     70  78       18.1      12           7041 \n",
       "Adelphi University           1500     29  30       12.2      16          10527 \n",
       "Adrian College               1165     53  66       12.9      30           8735 \n",
       "Agnes Scott College           875     92  97        7.7      37          19016 \n",
       "Alaska Pacific University    1500     76  72       11.9       2          10922 \n",
       "Albertson College             675     67  73        9.4      11           9727 \n",
       "                             Grad.Rate Elite\n",
       "Abilene Christian University 60        No   \n",
       "Adelphi University           56        No   \n",
       "Adrian College               54        No   \n",
       "Agnes Scott College          59         Yes \n",
       "Alaska Pacific University    15        No   \n",
       "Albertson College            55        No   "
      ]
     },
     "metadata": {},
     "output_type": "display_data"
    }
   ],
   "source": [
    "Elite =rep (\"No\",nrow(college))\n",
    "Elite [college$Top10perc >50]= \"Yes\"\n",
    "Elite =as.factor (Elite)\n",
    "college =data.frame(college ,Elite)\n",
    "head(college)"
   ]
  },
  {
   "cell_type": "code",
   "execution_count": 87,
   "metadata": {},
   "outputs": [
    {
     "data": {
      "text/plain": [
       " Private        Apps           Accept          Enroll       Top10perc    \n",
       " No :212   Min.   :   81   Min.   :   72   Min.   :  35   Min.   : 1.00  \n",
       " Yes:565   1st Qu.:  776   1st Qu.:  604   1st Qu.: 242   1st Qu.:15.00  \n",
       "           Median : 1558   Median : 1110   Median : 434   Median :23.00  \n",
       "           Mean   : 3002   Mean   : 2019   Mean   : 780   Mean   :27.56  \n",
       "           3rd Qu.: 3624   3rd Qu.: 2424   3rd Qu.: 902   3rd Qu.:35.00  \n",
       "           Max.   :48094   Max.   :26330   Max.   :6392   Max.   :96.00  \n",
       "   Top25perc      F.Undergrad     P.Undergrad         Outstate    \n",
       " Min.   :  9.0   Min.   :  139   Min.   :    1.0   Min.   : 2340  \n",
       " 1st Qu.: 41.0   1st Qu.:  992   1st Qu.:   95.0   1st Qu.: 7320  \n",
       " Median : 54.0   Median : 1707   Median :  353.0   Median : 9990  \n",
       " Mean   : 55.8   Mean   : 3700   Mean   :  855.3   Mean   :10441  \n",
       " 3rd Qu.: 69.0   3rd Qu.: 4005   3rd Qu.:  967.0   3rd Qu.:12925  \n",
       " Max.   :100.0   Max.   :31643   Max.   :21836.0   Max.   :21700  \n",
       "   Room.Board       Books           Personal         PhD        \n",
       " Min.   :1780   Min.   :  96.0   Min.   : 250   Min.   :  8.00  \n",
       " 1st Qu.:3597   1st Qu.: 470.0   1st Qu.: 850   1st Qu.: 62.00  \n",
       " Median :4200   Median : 500.0   Median :1200   Median : 75.00  \n",
       " Mean   :4358   Mean   : 549.4   Mean   :1341   Mean   : 72.66  \n",
       " 3rd Qu.:5050   3rd Qu.: 600.0   3rd Qu.:1700   3rd Qu.: 85.00  \n",
       " Max.   :8124   Max.   :2340.0   Max.   :6800   Max.   :103.00  \n",
       "    Terminal       S.F.Ratio      perc.alumni        Expend     \n",
       " Min.   : 24.0   Min.   : 2.50   Min.   : 0.00   Min.   : 3186  \n",
       " 1st Qu.: 71.0   1st Qu.:11.50   1st Qu.:13.00   1st Qu.: 6751  \n",
       " Median : 82.0   Median :13.60   Median :21.00   Median : 8377  \n",
       " Mean   : 79.7   Mean   :14.09   Mean   :22.74   Mean   : 9660  \n",
       " 3rd Qu.: 92.0   3rd Qu.:16.50   3rd Qu.:31.00   3rd Qu.:10830  \n",
       " Max.   :100.0   Max.   :39.80   Max.   :64.00   Max.   :56233  \n",
       "   Grad.Rate       Elite    \n",
       " Min.   : 10.00    Yes: 78  \n",
       " 1st Qu.: 53.00   No  :699  \n",
       " Median : 65.00             \n",
       " Mean   : 65.46             \n",
       " 3rd Qu.: 78.00             \n",
       " Max.   :118.00             "
      ]
     },
     "metadata": {},
     "output_type": "display_data"
    }
   ],
   "source": [
    "summary(college)"
   ]
  },
  {
   "cell_type": "code",
   "execution_count": 88,
   "metadata": {},
   "outputs": [
    {
     "data": {
      "image/png": "[encoded data removed]",
      "text/plain": [
       "plot without title"
      ]
     },
     "metadata": {},
     "output_type": "display_data"
    }
   ],
   "source": [
    "plot(Elite, Outstate, xlab = \"Elite\" , ylab =\"Outstate tuition\")"
   ]
  },
  {
   "cell_type": "code",
   "execution_count": 89,
   "metadata": {},
   "outputs": [
    {
     "data": {
      "image/png": "[encoded data removed]",
      "text/plain": [
       "Plot with title \"Student/faculty ratio\""
      ]
     },
     "metadata": {},
     "output_type": "display_data"
    }
   ],
   "source": [
    "par(mfrow = c(2,2))\n",
    "hist(Grad.Rate, xlab = \"Grad.Rate\" , ylab =\"Count\", main = \"Graduation Rate\", breaks=30, col=5, xlim=c(0,100))\n",
    "hist(PhD, xlab = \"PhD\" , ylab =\"Count\", main = \"Percent of faculty with Ph.D's\", breaks=20, col=2)\n",
    "hist(Apps, xlab = \"Apps\" , ylab =\"Count\", main = \"Number of applications received\", breaks=100, col=3, xlim=c(0,25000))\n",
    "hist(S.F.Ratio, xlab = \"S.F.Ratio\" , ylab =\"Count\", main = \"Student/faculty ratio\", breaks=5, col=4)\n"
   ]
  },
  {
   "cell_type": "code",
   "execution_count": 103,
   "metadata": {},
   "outputs": [
    {
     "data": {
      "text/html": [
       "<table>\n",
       "<thead><tr><th></th><th scope=col>Private</th><th scope=col>Apps</th><th scope=col>Accept</th><th scope=col>Enroll</th><th scope=col>Top10perc</th><th scope=col>Top25perc</th><th scope=col>F.Undergrad</th><th scope=col>P.Undergrad</th><th scope=col>Outstate</th><th scope=col>Room.Board</th><th scope=col>Books</th><th scope=col>Personal</th><th scope=col>PhD</th><th scope=col>Terminal</th><th scope=col>S.F.Ratio</th><th scope=col>perc.alumni</th><th scope=col>Expend</th><th scope=col>Grad.Rate</th><th scope=col>Elite</th><th scope=col>numElite</th></tr></thead>\n",
       "<tbody>\n",
       "\t<tr><th scope=row>Abilene Christian University</th><td>Yes  </td><td>1660 </td><td>1232 </td><td>721  </td><td>23   </td><td>52   </td><td>2885 </td><td> 537 </td><td> 7440</td><td>3300 </td><td>450  </td><td>2200 </td><td>70   </td><td>78   </td><td>18.1 </td><td>12   </td><td> 7041</td><td>60   </td><td>No   </td><td>0    </td></tr>\n",
       "\t<tr><th scope=row>Adelphi University</th><td>Yes  </td><td>2186 </td><td>1924 </td><td>512  </td><td>16   </td><td>29   </td><td>2683 </td><td>1227 </td><td>12280</td><td>6450 </td><td>750  </td><td>1500 </td><td>29   </td><td>30   </td><td>12.2 </td><td>16   </td><td>10527</td><td>56   </td><td>No   </td><td>0    </td></tr>\n",
       "\t<tr><th scope=row>Adrian College</th><td>Yes  </td><td>1428 </td><td>1097 </td><td>336  </td><td>22   </td><td>50   </td><td>1036 </td><td>  99 </td><td>11250</td><td>3750 </td><td>400  </td><td>1165 </td><td>53   </td><td>66   </td><td>12.9 </td><td>30   </td><td> 8735</td><td>54   </td><td>No   </td><td>0    </td></tr>\n",
       "\t<tr><th scope=row>Agnes Scott College</th><td>Yes  </td><td> 417 </td><td> 349 </td><td>137  </td><td>60   </td><td>89   </td><td> 510 </td><td>  63 </td><td>12960</td><td>5450 </td><td>450  </td><td> 875 </td><td>92   </td><td>97   </td><td> 7.7 </td><td>37   </td><td>19016</td><td>59   </td><td> Yes </td><td>1    </td></tr>\n",
       "\t<tr><th scope=row>Alaska Pacific University</th><td>Yes  </td><td> 193 </td><td> 146 </td><td> 55  </td><td>16   </td><td>44   </td><td> 249 </td><td> 869 </td><td> 7560</td><td>4120 </td><td>800  </td><td>1500 </td><td>76   </td><td>72   </td><td>11.9 </td><td> 2   </td><td>10922</td><td>15   </td><td>No   </td><td>0    </td></tr>\n",
       "\t<tr><th scope=row>Albertson College</th><td>Yes  </td><td> 587 </td><td> 479 </td><td>158  </td><td>38   </td><td>62   </td><td> 678 </td><td>  41 </td><td>13500</td><td>3335 </td><td>500  </td><td> 675 </td><td>67   </td><td>73   </td><td> 9.4 </td><td>11   </td><td> 9727</td><td>55   </td><td>No   </td><td>0    </td></tr>\n",
       "</tbody>\n",
       "</table>\n"
      ],
      "text/latex": [
       "\\begin{tabular}{r|llllllllllllllllllll}\n",
       "  & Private & Apps & Accept & Enroll & Top10perc & Top25perc & F.Undergrad & P.Undergrad & Outstate & Room.Board & Books & Personal & PhD & Terminal & S.F.Ratio & perc.alumni & Expend & Grad.Rate & Elite & numElite\\\\\n",
       "\\hline\n",
       "\tAbilene Christian University & Yes   & 1660  & 1232  & 721   & 23    & 52    & 2885  &  537  &  7440 & 3300  & 450   & 2200  & 70    & 78    & 18.1  & 12    &  7041 & 60    & No    & 0    \\\\\n",
       "\tAdelphi University & Yes   & 2186  & 1924  & 512   & 16    & 29    & 2683  & 1227  & 12280 & 6450  & 750   & 1500  & 29    & 30    & 12.2  & 16    & 10527 & 56    & No    & 0    \\\\\n",
       "\tAdrian College & Yes   & 1428  & 1097  & 336   & 22    & 50    & 1036  &   99  & 11250 & 3750  & 400   & 1165  & 53    & 66    & 12.9  & 30    &  8735 & 54    & No    & 0    \\\\\n",
       "\tAgnes Scott College & Yes   &  417  &  349  & 137   & 60    & 89    &  510  &   63  & 12960 & 5450  & 450   &  875  & 92    & 97    &  7.7  & 37    & 19016 & 59    &  Yes  & 1    \\\\\n",
       "\tAlaska Pacific University & Yes   &  193  &  146  &  55   & 16    & 44    &  249  &  869  &  7560 & 4120  & 800   & 1500  & 76    & 72    & 11.9  &  2    & 10922 & 15    & No    & 0    \\\\\n",
       "\tAlbertson College & Yes   &  587  &  479  & 158   & 38    & 62    &  678  &   41  & 13500 & 3335  & 500   &  675  & 67    & 73    &  9.4  & 11    &  9727 & 55    & No    & 0    \\\\\n",
       "\\end{tabular}\n"
      ],
      "text/markdown": [
       "\n",
       "| <!--/--> | Private | Apps | Accept | Enroll | Top10perc | Top25perc | F.Undergrad | P.Undergrad | Outstate | Room.Board | Books | Personal | PhD | Terminal | S.F.Ratio | perc.alumni | Expend | Grad.Rate | Elite | numElite |\n",
       "|---|---|---|---|---|---|---|---|---|---|---|---|---|---|---|---|---|---|---|---|---|\n",
       "| Abilene Christian University | Yes   | 1660  | 1232  | 721   | 23    | 52    | 2885  |  537  |  7440 | 3300  | 450   | 2200  | 70    | 78    | 18.1  | 12    |  7041 | 60    | No    | 0     |\n",
       "| Adelphi University | Yes   | 2186  | 1924  | 512   | 16    | 29    | 2683  | 1227  | 12280 | 6450  | 750   | 1500  | 29    | 30    | 12.2  | 16    | 10527 | 56    | No    | 0     |\n",
       "| Adrian College | Yes   | 1428  | 1097  | 336   | 22    | 50    | 1036  |   99  | 11250 | 3750  | 400   | 1165  | 53    | 66    | 12.9  | 30    |  8735 | 54    | No    | 0     |\n",
       "| Agnes Scott College | Yes   |  417  |  349  | 137   | 60    | 89    |  510  |   63  | 12960 | 5450  | 450   |  875  | 92    | 97    |  7.7  | 37    | 19016 | 59    |  Yes  | 1     |\n",
       "| Alaska Pacific University | Yes   |  193  |  146  |  55   | 16    | 44    |  249  |  869  |  7560 | 4120  | 800   | 1500  | 76    | 72    | 11.9  |  2    | 10922 | 15    | No    | 0     |\n",
       "| Albertson College | Yes   |  587  |  479  | 158   | 38    | 62    |  678  |   41  | 13500 | 3335  | 500   |  675  | 67    | 73    |  9.4  | 11    |  9727 | 55    | No    | 0     |\n",
       "\n"
      ],
      "text/plain": [
       "                             Private Apps Accept Enroll Top10perc Top25perc\n",
       "Abilene Christian University Yes     1660 1232   721    23        52       \n",
       "Adelphi University           Yes     2186 1924   512    16        29       \n",
       "Adrian College               Yes     1428 1097   336    22        50       \n",
       "Agnes Scott College          Yes      417  349   137    60        89       \n",
       "Alaska Pacific University    Yes      193  146    55    16        44       \n",
       "Albertson College            Yes      587  479   158    38        62       \n",
       "                             F.Undergrad P.Undergrad Outstate Room.Board Books\n",
       "Abilene Christian University 2885         537         7440    3300       450  \n",
       "Adelphi University           2683        1227        12280    6450       750  \n",
       "Adrian College               1036          99        11250    3750       400  \n",
       "Agnes Scott College           510          63        12960    5450       450  \n",
       "Alaska Pacific University     249         869         7560    4120       800  \n",
       "Albertson College             678          41        13500    3335       500  \n",
       "                             Personal PhD Terminal S.F.Ratio perc.alumni Expend\n",
       "Abilene Christian University 2200     70  78       18.1      12           7041 \n",
       "Adelphi University           1500     29  30       12.2      16          10527 \n",
       "Adrian College               1165     53  66       12.9      30           8735 \n",
       "Agnes Scott College           875     92  97        7.7      37          19016 \n",
       "Alaska Pacific University    1500     76  72       11.9       2          10922 \n",
       "Albertson College             675     67  73        9.4      11           9727 \n",
       "                             Grad.Rate Elite numElite\n",
       "Abilene Christian University 60        No    0       \n",
       "Adelphi University           56        No    0       \n",
       "Adrian College               54        No    0       \n",
       "Agnes Scott College          59         Yes  1       \n",
       "Alaska Pacific University    15        No    0       \n",
       "Albertson College            55        No    0       "
      ]
     },
     "metadata": {},
     "output_type": "display_data"
    }
   ],
   "source": [
    "numElite =rep (1,nrow(college ))\n",
    "numElite[college$Elite == \"No\"]= 0\n",
    "college = data.frame(college, numElite)\n",
    "head(college)"
   ]
  },
  {
   "cell_type": "code",
   "execution_count": 119,
   "metadata": {},
   "outputs": [
    {
     "data": {
      "text/html": [
       "0.0796288617269146"
      ],
      "text/latex": [
       "0.0796288617269146"
      ],
      "text/markdown": [
       "0.0796288617269146"
      ],
      "text/plain": [
       "[1] 0.07962886"
      ]
     },
     "metadata": {},
     "output_type": "display_data"
    },
    {
     "data": {
      "text/html": [
       "<table>\n",
       "<thead><tr><th scope=col>Apps</th><th scope=col>Accept</th><th scope=col>Enroll</th><th scope=col>Top10perc</th><th scope=col>Top25perc</th><th scope=col>F.Undergrad</th><th scope=col>P.Undergrad</th><th scope=col>Outstate</th><th scope=col>Room.Board</th><th scope=col>Books</th><th scope=col>Personal</th><th scope=col>PhD</th><th scope=col>Terminal</th><th scope=col>S.F.Ratio</th><th scope=col>perc.alumni</th><th scope=col>Expend</th><th scope=col>Grad.Rate</th></tr></thead>\n",
       "<tbody>\n",
       "\t<tr><td>0.257285   </td><td>0.1137066  </td><td>0.1009956  </td><td>0.7590272  </td><td>0.5958896  </td><td>0.06083999 </td><td>-0.1164457 </td><td>0.3994768  </td><td>0.2984721  </td><td>0.09217607 </td><td>-0.07526924</td><td>0.3410622  </td><td>0.3266498  </td><td>-0.2934974 </td><td>0.3025909  </td><td>0.5597778  </td><td>0.3487325  </td></tr>\n",
       "</tbody>\n",
       "</table>\n"
      ],
      "text/latex": [
       "\\begin{tabular}{lllllllllllllllll}\n",
       " Apps & Accept & Enroll & Top10perc & Top25perc & F.Undergrad & P.Undergrad & Outstate & Room.Board & Books & Personal & PhD & Terminal & S.F.Ratio & perc.alumni & Expend & Grad.Rate\\\\\n",
       "\\hline\n",
       "\t 0.257285    & 0.1137066   & 0.1009956   & 0.7590272   & 0.5958896   & 0.06083999  & -0.1164457  & 0.3994768   & 0.2984721   & 0.09217607  & -0.07526924 & 0.3410622   & 0.3266498   & -0.2934974  & 0.3025909   & 0.5597778   & 0.3487325  \\\\\n",
       "\\end{tabular}\n"
      ],
      "text/markdown": [
       "\n",
       "| Apps | Accept | Enroll | Top10perc | Top25perc | F.Undergrad | P.Undergrad | Outstate | Room.Board | Books | Personal | PhD | Terminal | S.F.Ratio | perc.alumni | Expend | Grad.Rate |\n",
       "|---|---|---|---|---|---|---|---|---|---|---|---|---|---|---|---|---|\n",
       "| 0.257285    | 0.1137066   | 0.1009956   | 0.7590272   | 0.5958896   | 0.06083999  | -0.1164457  | 0.3994768   | 0.2984721   | 0.09217607  | -0.07526924 | 0.3410622   | 0.3266498   | -0.2934974  | 0.3025909   | 0.5597778   | 0.3487325   |\n",
       "\n"
      ],
      "text/plain": [
       "     Apps     Accept    Enroll    Top10perc Top25perc F.Undergrad P.Undergrad\n",
       "[1,] 0.257285 0.1137066 0.1009956 0.7590272 0.5958896 0.06083999  -0.1164457 \n",
       "     Outstate  Room.Board Books      Personal    PhD       Terminal  S.F.Ratio \n",
       "[1,] 0.3994768 0.2984721  0.09217607 -0.07526924 0.3410622 0.3266498 -0.2934974\n",
       "     perc.alumni Expend    Grad.Rate\n",
       "[1,] 0.3025909   0.5597778 0.3487325"
      ]
     },
     "metadata": {},
     "output_type": "display_data"
    },
    {
     "data": {
      "text/html": [
       "<table>\n",
       "<thead><tr><th></th><th scope=col>Apps</th><th scope=col>Accept</th><th scope=col>Enroll</th><th scope=col>Top10perc</th><th scope=col>Top25perc</th><th scope=col>F.Undergrad</th><th scope=col>P.Undergrad</th><th scope=col>Outstate</th><th scope=col>Room.Board</th><th scope=col>Books</th><th scope=col>Personal</th><th scope=col>PhD</th><th scope=col>Terminal</th><th scope=col>S.F.Ratio</th><th scope=col>perc.alumni</th><th scope=col>Expend</th><th scope=col>Grad.Rate</th></tr></thead>\n",
       "<tbody>\n",
       "\t<tr><th scope=row>Apps</th><td> 1.00000000 </td><td> 0.94345057 </td><td> 0.84682205 </td><td> 0.3388337  </td><td> 0.35163990 </td><td> 0.81449058 </td><td> 0.39826427 </td><td> 0.05015903 </td><td> 0.16493896 </td><td> 0.132558598</td><td> 0.17873085 </td><td> 0.39069733 </td><td> 0.36949147 </td><td> 0.09563303 </td><td>-0.09022589 </td><td> 0.25959198 </td><td> 0.146754600</td></tr>\n",
       "\t<tr><th scope=row>Accept</th><td> 0.94345057 </td><td> 1.00000000 </td><td> 0.91163666 </td><td> 0.1924469  </td><td> 0.24747574 </td><td> 0.87422328 </td><td> 0.44127073 </td><td>-0.02575455 </td><td> 0.09089863 </td><td> 0.113525352</td><td> 0.20098867 </td><td> 0.35575788 </td><td> 0.33758337 </td><td> 0.17622901 </td><td>-0.15998987 </td><td> 0.12471701 </td><td> 0.067312550</td></tr>\n",
       "\t<tr><th scope=row>Enroll</th><td> 0.84682205 </td><td> 0.91163666 </td><td> 1.00000000 </td><td> 0.1812935  </td><td> 0.22674511 </td><td> 0.96463965 </td><td> 0.51306860 </td><td>-0.15547734 </td><td>-0.04023168 </td><td> 0.112710891</td><td> 0.28092946 </td><td> 0.33146914 </td><td> 0.30827407 </td><td> 0.23727131 </td><td>-0.18079413 </td><td> 0.06416923 </td><td>-0.022341039</td></tr>\n",
       "\t<tr><th scope=row>Top10perc</th><td> 0.33883368 </td><td> 0.19244693 </td><td> 0.18129353 </td><td> 1.0000000  </td><td> 0.89199497 </td><td> 0.14128873 </td><td>-0.10535628 </td><td> 0.56233054 </td><td> 0.37148038 </td><td> 0.118858431</td><td>-0.09331640 </td><td> 0.53182802 </td><td> 0.49113502 </td><td>-0.38487451 </td><td> 0.45548526 </td><td> 0.66091341 </td><td> 0.494989235</td></tr>\n",
       "\t<tr><th scope=row>Top25perc</th><td> 0.35163990 </td><td> 0.24747574 </td><td> 0.22674511 </td><td> 0.8919950  </td><td> 1.00000000 </td><td> 0.19944466 </td><td>-0.05357664 </td><td> 0.48939383 </td><td> 0.33148989 </td><td> 0.115527130</td><td>-0.08081027 </td><td> 0.54586221 </td><td> 0.52474884 </td><td>-0.29462884 </td><td> 0.41786429 </td><td> 0.52744743 </td><td> 0.477281164</td></tr>\n",
       "\t<tr><th scope=row>F.Undergrad</th><td> 0.81449058 </td><td> 0.87422328 </td><td> 0.96463965 </td><td> 0.1412887  </td><td> 0.19944466 </td><td> 1.00000000 </td><td> 0.57051219 </td><td>-0.21574200 </td><td>-0.06889039 </td><td> 0.115549761</td><td> 0.31719954 </td><td> 0.31833697 </td><td> 0.30001894 </td><td> 0.27970335 </td><td>-0.22946222 </td><td> 0.01865162 </td><td>-0.078773129</td></tr>\n",
       "\t<tr><th scope=row>P.Undergrad</th><td> 0.39826427 </td><td> 0.44127073 </td><td> 0.51306860 </td><td>-0.1053563  </td><td>-0.05357664 </td><td> 0.57051219 </td><td> 1.00000000 </td><td>-0.25351232 </td><td>-0.06132551 </td><td> 0.081199521</td><td> 0.31988162 </td><td> 0.14911422 </td><td> 0.14190357 </td><td> 0.23253051 </td><td>-0.28079236 </td><td>-0.08356842 </td><td>-0.257000991</td></tr>\n",
       "\t<tr><th scope=row>Outstate</th><td> 0.05015903 </td><td>-0.02575455 </td><td>-0.15547734 </td><td> 0.5623305  </td><td> 0.48939383 </td><td>-0.21574200 </td><td>-0.25351232 </td><td> 1.00000000 </td><td> 0.65425640 </td><td> 0.038854868</td><td>-0.29908690 </td><td> 0.38298241 </td><td> 0.40798320 </td><td>-0.55482128 </td><td> 0.56626242 </td><td> 0.67277862 </td><td> 0.571289928</td></tr>\n",
       "\t<tr><th scope=row>Room.Board</th><td> 0.16493896 </td><td> 0.09089863 </td><td>-0.04023168 </td><td> 0.3714804  </td><td> 0.33148989 </td><td>-0.06889039 </td><td>-0.06132551 </td><td> 0.65425640 </td><td> 1.00000000 </td><td> 0.127962970</td><td>-0.19942818 </td><td> 0.32920228 </td><td> 0.37453955 </td><td>-0.36262774 </td><td> 0.27236345 </td><td> 0.50173942 </td><td> 0.424941541</td></tr>\n",
       "\t<tr><th scope=row>Books</th><td> 0.13255860 </td><td> 0.11352535 </td><td> 0.11271089 </td><td> 0.1188584  </td><td> 0.11552713 </td><td> 0.11554976 </td><td> 0.08119952 </td><td> 0.03885487 </td><td> 0.12796297 </td><td> 1.000000000</td><td> 0.17929476 </td><td> 0.02690573 </td><td> 0.09995470 </td><td>-0.03192927 </td><td>-0.04020774 </td><td> 0.11240908 </td><td> 0.001060894</td></tr>\n",
       "\t<tr><th scope=row>Personal</th><td> 0.17873085 </td><td> 0.20098867 </td><td> 0.28092946 </td><td>-0.0933164  </td><td>-0.08081027 </td><td> 0.31719954 </td><td> 0.31988162 </td><td>-0.29908690 </td><td>-0.19942818 </td><td> 0.179294764</td><td> 1.00000000 </td><td>-0.01093579 </td><td>-0.03061311 </td><td> 0.13634483 </td><td>-0.28596808 </td><td>-0.09789189 </td><td>-0.269343964</td></tr>\n",
       "\t<tr><th scope=row>PhD</th><td> 0.39069733 </td><td> 0.35575788 </td><td> 0.33146914 </td><td> 0.5318280  </td><td> 0.54586221 </td><td> 0.31833697 </td><td> 0.14911422 </td><td> 0.38298241 </td><td> 0.32920228 </td><td> 0.026905731</td><td>-0.01093579 </td><td> 1.00000000 </td><td> 0.84958703 </td><td>-0.13053011 </td><td> 0.24900866 </td><td> 0.43276168 </td><td> 0.305037850</td></tr>\n",
       "\t<tr><th scope=row>Terminal</th><td> 0.36949147 </td><td> 0.33758337 </td><td> 0.30827407 </td><td> 0.4911350  </td><td> 0.52474884 </td><td> 0.30001894 </td><td> 0.14190357 </td><td> 0.40798320 </td><td> 0.37453955 </td><td> 0.099954700</td><td>-0.03061311 </td><td> 0.84958703 </td><td> 1.00000000 </td><td>-0.16010395 </td><td> 0.26713029 </td><td> 0.43879922 </td><td> 0.289527232</td></tr>\n",
       "\t<tr><th scope=row>S.F.Ratio</th><td> 0.09563303 </td><td> 0.17622901 </td><td> 0.23727131 </td><td>-0.3848745  </td><td>-0.29462884 </td><td> 0.27970335 </td><td> 0.23253051 </td><td>-0.55482128 </td><td>-0.36262774 </td><td>-0.031929274</td><td> 0.13634483 </td><td>-0.13053011 </td><td>-0.16010395 </td><td> 1.00000000 </td><td>-0.40292917 </td><td>-0.58383204 </td><td>-0.306710405</td></tr>\n",
       "\t<tr><th scope=row>perc.alumni</th><td>-0.09022589 </td><td>-0.15998987 </td><td>-0.18079413 </td><td> 0.4554853  </td><td> 0.41786429 </td><td>-0.22946222 </td><td>-0.28079236 </td><td> 0.56626242 </td><td> 0.27236345 </td><td>-0.040207736</td><td>-0.28596808 </td><td> 0.24900866 </td><td> 0.26713029 </td><td>-0.40292917 </td><td> 1.00000000 </td><td> 0.41771172 </td><td> 0.490897562</td></tr>\n",
       "\t<tr><th scope=row>Expend</th><td> 0.25959198 </td><td> 0.12471701 </td><td> 0.06416923 </td><td> 0.6609134  </td><td> 0.52744743 </td><td> 0.01865162 </td><td>-0.08356842 </td><td> 0.67277862 </td><td> 0.50173942 </td><td> 0.112409075</td><td>-0.09789189 </td><td> 0.43276168 </td><td> 0.43879922 </td><td>-0.58383204 </td><td> 0.41771172 </td><td> 1.00000000 </td><td> 0.390342696</td></tr>\n",
       "\t<tr><th scope=row>Grad.Rate</th><td> 0.14675460 </td><td> 0.06731255 </td><td>-0.02234104 </td><td> 0.4949892  </td><td> 0.47728116 </td><td>-0.07877313 </td><td>-0.25700099 </td><td> 0.57128993 </td><td> 0.42494154 </td><td> 0.001060894</td><td>-0.26934396 </td><td> 0.30503785 </td><td> 0.28952723 </td><td>-0.30671041 </td><td> 0.49089756 </td><td> 0.39034270 </td><td> 1.000000000</td></tr>\n",
       "</tbody>\n",
       "</table>\n"
      ],
      "text/latex": [
       "\\begin{tabular}{r|lllllllllllllllll}\n",
       "  & Apps & Accept & Enroll & Top10perc & Top25perc & F.Undergrad & P.Undergrad & Outstate & Room.Board & Books & Personal & PhD & Terminal & S.F.Ratio & perc.alumni & Expend & Grad.Rate\\\\\n",
       "\\hline\n",
       "\tApps &  1.00000000  &  0.94345057  &  0.84682205  &  0.3388337   &  0.35163990  &  0.81449058  &  0.39826427  &  0.05015903  &  0.16493896  &  0.132558598 &  0.17873085  &  0.39069733  &  0.36949147  &  0.09563303  & -0.09022589  &  0.25959198  &  0.146754600\\\\\n",
       "\tAccept &  0.94345057  &  1.00000000  &  0.91163666  &  0.1924469   &  0.24747574  &  0.87422328  &  0.44127073  & -0.02575455  &  0.09089863  &  0.113525352 &  0.20098867  &  0.35575788  &  0.33758337  &  0.17622901  & -0.15998987  &  0.12471701  &  0.067312550\\\\\n",
       "\tEnroll &  0.84682205  &  0.91163666  &  1.00000000  &  0.1812935   &  0.22674511  &  0.96463965  &  0.51306860  & -0.15547734  & -0.04023168  &  0.112710891 &  0.28092946  &  0.33146914  &  0.30827407  &  0.23727131  & -0.18079413  &  0.06416923  & -0.022341039\\\\\n",
       "\tTop10perc &  0.33883368  &  0.19244693  &  0.18129353  &  1.0000000   &  0.89199497  &  0.14128873  & -0.10535628  &  0.56233054  &  0.37148038  &  0.118858431 & -0.09331640  &  0.53182802  &  0.49113502  & -0.38487451  &  0.45548526  &  0.66091341  &  0.494989235\\\\\n",
       "\tTop25perc &  0.35163990  &  0.24747574  &  0.22674511  &  0.8919950   &  1.00000000  &  0.19944466  & -0.05357664  &  0.48939383  &  0.33148989  &  0.115527130 & -0.08081027  &  0.54586221  &  0.52474884  & -0.29462884  &  0.41786429  &  0.52744743  &  0.477281164\\\\\n",
       "\tF.Undergrad &  0.81449058  &  0.87422328  &  0.96463965  &  0.1412887   &  0.19944466  &  1.00000000  &  0.57051219  & -0.21574200  & -0.06889039  &  0.115549761 &  0.31719954  &  0.31833697  &  0.30001894  &  0.27970335  & -0.22946222  &  0.01865162  & -0.078773129\\\\\n",
       "\tP.Undergrad &  0.39826427  &  0.44127073  &  0.51306860  & -0.1053563   & -0.05357664  &  0.57051219  &  1.00000000  & -0.25351232  & -0.06132551  &  0.081199521 &  0.31988162  &  0.14911422  &  0.14190357  &  0.23253051  & -0.28079236  & -0.08356842  & -0.257000991\\\\\n",
       "\tOutstate &  0.05015903  & -0.02575455  & -0.15547734  &  0.5623305   &  0.48939383  & -0.21574200  & -0.25351232  &  1.00000000  &  0.65425640  &  0.038854868 & -0.29908690  &  0.38298241  &  0.40798320  & -0.55482128  &  0.56626242  &  0.67277862  &  0.571289928\\\\\n",
       "\tRoom.Board &  0.16493896  &  0.09089863  & -0.04023168  &  0.3714804   &  0.33148989  & -0.06889039  & -0.06132551  &  0.65425640  &  1.00000000  &  0.127962970 & -0.19942818  &  0.32920228  &  0.37453955  & -0.36262774  &  0.27236345  &  0.50173942  &  0.424941541\\\\\n",
       "\tBooks &  0.13255860  &  0.11352535  &  0.11271089  &  0.1188584   &  0.11552713  &  0.11554976  &  0.08119952  &  0.03885487  &  0.12796297  &  1.000000000 &  0.17929476  &  0.02690573  &  0.09995470  & -0.03192927  & -0.04020774  &  0.11240908  &  0.001060894\\\\\n",
       "\tPersonal &  0.17873085  &  0.20098867  &  0.28092946  & -0.0933164   & -0.08081027  &  0.31719954  &  0.31988162  & -0.29908690  & -0.19942818  &  0.179294764 &  1.00000000  & -0.01093579  & -0.03061311  &  0.13634483  & -0.28596808  & -0.09789189  & -0.269343964\\\\\n",
       "\tPhD &  0.39069733  &  0.35575788  &  0.33146914  &  0.5318280   &  0.54586221  &  0.31833697  &  0.14911422  &  0.38298241  &  0.32920228  &  0.026905731 & -0.01093579  &  1.00000000  &  0.84958703  & -0.13053011  &  0.24900866  &  0.43276168  &  0.305037850\\\\\n",
       "\tTerminal &  0.36949147  &  0.33758337  &  0.30827407  &  0.4911350   &  0.52474884  &  0.30001894  &  0.14190357  &  0.40798320  &  0.37453955  &  0.099954700 & -0.03061311  &  0.84958703  &  1.00000000  & -0.16010395  &  0.26713029  &  0.43879922  &  0.289527232\\\\\n",
       "\tS.F.Ratio &  0.09563303  &  0.17622901  &  0.23727131  & -0.3848745   & -0.29462884  &  0.27970335  &  0.23253051  & -0.55482128  & -0.36262774  & -0.031929274 &  0.13634483  & -0.13053011  & -0.16010395  &  1.00000000  & -0.40292917  & -0.58383204  & -0.306710405\\\\\n",
       "\tperc.alumni & -0.09022589  & -0.15998987  & -0.18079413  &  0.4554853   &  0.41786429  & -0.22946222  & -0.28079236  &  0.56626242  &  0.27236345  & -0.040207736 & -0.28596808  &  0.24900866  &  0.26713029  & -0.40292917  &  1.00000000  &  0.41771172  &  0.490897562\\\\\n",
       "\tExpend &  0.25959198  &  0.12471701  &  0.06416923  &  0.6609134   &  0.52744743  &  0.01865162  & -0.08356842  &  0.67277862  &  0.50173942  &  0.112409075 & -0.09789189  &  0.43276168  &  0.43879922  & -0.58383204  &  0.41771172  &  1.00000000  &  0.390342696\\\\\n",
       "\tGrad.Rate &  0.14675460  &  0.06731255  & -0.02234104  &  0.4949892   &  0.47728116  & -0.07877313  & -0.25700099  &  0.57128993  &  0.42494154  &  0.001060894 & -0.26934396  &  0.30503785  &  0.28952723  & -0.30671041  &  0.49089756  &  0.39034270  &  1.000000000\\\\\n",
       "\\end{tabular}\n"
      ],
      "text/markdown": [
       "\n",
       "| <!--/--> | Apps | Accept | Enroll | Top10perc | Top25perc | F.Undergrad | P.Undergrad | Outstate | Room.Board | Books | Personal | PhD | Terminal | S.F.Ratio | perc.alumni | Expend | Grad.Rate |\n",
       "|---|---|---|---|---|---|---|---|---|---|---|---|---|---|---|---|---|---|\n",
       "| Apps |  1.00000000  |  0.94345057  |  0.84682205  |  0.3388337   |  0.35163990  |  0.81449058  |  0.39826427  |  0.05015903  |  0.16493896  |  0.132558598 |  0.17873085  |  0.39069733  |  0.36949147  |  0.09563303  | -0.09022589  |  0.25959198  |  0.146754600 |\n",
       "| Accept |  0.94345057  |  1.00000000  |  0.91163666  |  0.1924469   |  0.24747574  |  0.87422328  |  0.44127073  | -0.02575455  |  0.09089863  |  0.113525352 |  0.20098867  |  0.35575788  |  0.33758337  |  0.17622901  | -0.15998987  |  0.12471701  |  0.067312550 |\n",
       "| Enroll |  0.84682205  |  0.91163666  |  1.00000000  |  0.1812935   |  0.22674511  |  0.96463965  |  0.51306860  | -0.15547734  | -0.04023168  |  0.112710891 |  0.28092946  |  0.33146914  |  0.30827407  |  0.23727131  | -0.18079413  |  0.06416923  | -0.022341039 |\n",
       "| Top10perc |  0.33883368  |  0.19244693  |  0.18129353  |  1.0000000   |  0.89199497  |  0.14128873  | -0.10535628  |  0.56233054  |  0.37148038  |  0.118858431 | -0.09331640  |  0.53182802  |  0.49113502  | -0.38487451  |  0.45548526  |  0.66091341  |  0.494989235 |\n",
       "| Top25perc |  0.35163990  |  0.24747574  |  0.22674511  |  0.8919950   |  1.00000000  |  0.19944466  | -0.05357664  |  0.48939383  |  0.33148989  |  0.115527130 | -0.08081027  |  0.54586221  |  0.52474884  | -0.29462884  |  0.41786429  |  0.52744743  |  0.477281164 |\n",
       "| F.Undergrad |  0.81449058  |  0.87422328  |  0.96463965  |  0.1412887   |  0.19944466  |  1.00000000  |  0.57051219  | -0.21574200  | -0.06889039  |  0.115549761 |  0.31719954  |  0.31833697  |  0.30001894  |  0.27970335  | -0.22946222  |  0.01865162  | -0.078773129 |\n",
       "| P.Undergrad |  0.39826427  |  0.44127073  |  0.51306860  | -0.1053563   | -0.05357664  |  0.57051219  |  1.00000000  | -0.25351232  | -0.06132551  |  0.081199521 |  0.31988162  |  0.14911422  |  0.14190357  |  0.23253051  | -0.28079236  | -0.08356842  | -0.257000991 |\n",
       "| Outstate |  0.05015903  | -0.02575455  | -0.15547734  |  0.5623305   |  0.48939383  | -0.21574200  | -0.25351232  |  1.00000000  |  0.65425640  |  0.038854868 | -0.29908690  |  0.38298241  |  0.40798320  | -0.55482128  |  0.56626242  |  0.67277862  |  0.571289928 |\n",
       "| Room.Board |  0.16493896  |  0.09089863  | -0.04023168  |  0.3714804   |  0.33148989  | -0.06889039  | -0.06132551  |  0.65425640  |  1.00000000  |  0.127962970 | -0.19942818  |  0.32920228  |  0.37453955  | -0.36262774  |  0.27236345  |  0.50173942  |  0.424941541 |\n",
       "| Books |  0.13255860  |  0.11352535  |  0.11271089  |  0.1188584   |  0.11552713  |  0.11554976  |  0.08119952  |  0.03885487  |  0.12796297  |  1.000000000 |  0.17929476  |  0.02690573  |  0.09995470  | -0.03192927  | -0.04020774  |  0.11240908  |  0.001060894 |\n",
       "| Personal |  0.17873085  |  0.20098867  |  0.28092946  | -0.0933164   | -0.08081027  |  0.31719954  |  0.31988162  | -0.29908690  | -0.19942818  |  0.179294764 |  1.00000000  | -0.01093579  | -0.03061311  |  0.13634483  | -0.28596808  | -0.09789189  | -0.269343964 |\n",
       "| PhD |  0.39069733  |  0.35575788  |  0.33146914  |  0.5318280   |  0.54586221  |  0.31833697  |  0.14911422  |  0.38298241  |  0.32920228  |  0.026905731 | -0.01093579  |  1.00000000  |  0.84958703  | -0.13053011  |  0.24900866  |  0.43276168  |  0.305037850 |\n",
       "| Terminal |  0.36949147  |  0.33758337  |  0.30827407  |  0.4911350   |  0.52474884  |  0.30001894  |  0.14190357  |  0.40798320  |  0.37453955  |  0.099954700 | -0.03061311  |  0.84958703  |  1.00000000  | -0.16010395  |  0.26713029  |  0.43879922  |  0.289527232 |\n",
       "| S.F.Ratio |  0.09563303  |  0.17622901  |  0.23727131  | -0.3848745   | -0.29462884  |  0.27970335  |  0.23253051  | -0.55482128  | -0.36262774  | -0.031929274 |  0.13634483  | -0.13053011  | -0.16010395  |  1.00000000  | -0.40292917  | -0.58383204  | -0.306710405 |\n",
       "| perc.alumni | -0.09022589  | -0.15998987  | -0.18079413  |  0.4554853   |  0.41786429  | -0.22946222  | -0.28079236  |  0.56626242  |  0.27236345  | -0.040207736 | -0.28596808  |  0.24900866  |  0.26713029  | -0.40292917  |  1.00000000  |  0.41771172  |  0.490897562 |\n",
       "| Expend |  0.25959198  |  0.12471701  |  0.06416923  |  0.6609134   |  0.52744743  |  0.01865162  | -0.08356842  |  0.67277862  |  0.50173942  |  0.112409075 | -0.09789189  |  0.43276168  |  0.43879922  | -0.58383204  |  0.41771172  |  1.00000000  |  0.390342696 |\n",
       "| Grad.Rate |  0.14675460  |  0.06731255  | -0.02234104  |  0.4949892   |  0.47728116  | -0.07877313  | -0.25700099  |  0.57128993  |  0.42494154  |  0.001060894 | -0.26934396  |  0.30503785  |  0.28952723  | -0.30671041  |  0.49089756  |  0.39034270  |  1.000000000 |\n",
       "\n"
      ],
      "text/plain": [
       "            Apps        Accept      Enroll      Top10perc  Top25perc  \n",
       "Apps         1.00000000  0.94345057  0.84682205  0.3388337  0.35163990\n",
       "Accept       0.94345057  1.00000000  0.91163666  0.1924469  0.24747574\n",
       "Enroll       0.84682205  0.91163666  1.00000000  0.1812935  0.22674511\n",
       "Top10perc    0.33883368  0.19244693  0.18129353  1.0000000  0.89199497\n",
       "Top25perc    0.35163990  0.24747574  0.22674511  0.8919950  1.00000000\n",
       "F.Undergrad  0.81449058  0.87422328  0.96463965  0.1412887  0.19944466\n",
       "P.Undergrad  0.39826427  0.44127073  0.51306860 -0.1053563 -0.05357664\n",
       "Outstate     0.05015903 -0.02575455 -0.15547734  0.5623305  0.48939383\n",
       "Room.Board   0.16493896  0.09089863 -0.04023168  0.3714804  0.33148989\n",
       "Books        0.13255860  0.11352535  0.11271089  0.1188584  0.11552713\n",
       "Personal     0.17873085  0.20098867  0.28092946 -0.0933164 -0.08081027\n",
       "PhD          0.39069733  0.35575788  0.33146914  0.5318280  0.54586221\n",
       "Terminal     0.36949147  0.33758337  0.30827407  0.4911350  0.52474884\n",
       "S.F.Ratio    0.09563303  0.17622901  0.23727131 -0.3848745 -0.29462884\n",
       "perc.alumni -0.09022589 -0.15998987 -0.18079413  0.4554853  0.41786429\n",
       "Expend       0.25959198  0.12471701  0.06416923  0.6609134  0.52744743\n",
       "Grad.Rate    0.14675460  0.06731255 -0.02234104  0.4949892  0.47728116\n",
       "            F.Undergrad P.Undergrad Outstate    Room.Board  Books       \n",
       "Apps         0.81449058  0.39826427  0.05015903  0.16493896  0.132558598\n",
       "Accept       0.87422328  0.44127073 -0.02575455  0.09089863  0.113525352\n",
       "Enroll       0.96463965  0.51306860 -0.15547734 -0.04023168  0.112710891\n",
       "Top10perc    0.14128873 -0.10535628  0.56233054  0.37148038  0.118858431\n",
       "Top25perc    0.19944466 -0.05357664  0.48939383  0.33148989  0.115527130\n",
       "F.Undergrad  1.00000000  0.57051219 -0.21574200 -0.06889039  0.115549761\n",
       "P.Undergrad  0.57051219  1.00000000 -0.25351232 -0.06132551  0.081199521\n",
       "Outstate    -0.21574200 -0.25351232  1.00000000  0.65425640  0.038854868\n",
       "Room.Board  -0.06889039 -0.06132551  0.65425640  1.00000000  0.127962970\n",
       "Books        0.11554976  0.08119952  0.03885487  0.12796297  1.000000000\n",
       "Personal     0.31719954  0.31988162 -0.29908690 -0.19942818  0.179294764\n",
       "PhD          0.31833697  0.14911422  0.38298241  0.32920228  0.026905731\n",
       "Terminal     0.30001894  0.14190357  0.40798320  0.37453955  0.099954700\n",
       "S.F.Ratio    0.27970335  0.23253051 -0.55482128 -0.36262774 -0.031929274\n",
       "perc.alumni -0.22946222 -0.28079236  0.56626242  0.27236345 -0.040207736\n",
       "Expend       0.01865162 -0.08356842  0.67277862  0.50173942  0.112409075\n",
       "Grad.Rate   -0.07877313 -0.25700099  0.57128993  0.42494154  0.001060894\n",
       "            Personal    PhD         Terminal    S.F.Ratio   perc.alumni\n",
       "Apps         0.17873085  0.39069733  0.36949147  0.09563303 -0.09022589\n",
       "Accept       0.20098867  0.35575788  0.33758337  0.17622901 -0.15998987\n",
       "Enroll       0.28092946  0.33146914  0.30827407  0.23727131 -0.18079413\n",
       "Top10perc   -0.09331640  0.53182802  0.49113502 -0.38487451  0.45548526\n",
       "Top25perc   -0.08081027  0.54586221  0.52474884 -0.29462884  0.41786429\n",
       "F.Undergrad  0.31719954  0.31833697  0.30001894  0.27970335 -0.22946222\n",
       "P.Undergrad  0.31988162  0.14911422  0.14190357  0.23253051 -0.28079236\n",
       "Outstate    -0.29908690  0.38298241  0.40798320 -0.55482128  0.56626242\n",
       "Room.Board  -0.19942818  0.32920228  0.37453955 -0.36262774  0.27236345\n",
       "Books        0.17929476  0.02690573  0.09995470 -0.03192927 -0.04020774\n",
       "Personal     1.00000000 -0.01093579 -0.03061311  0.13634483 -0.28596808\n",
       "PhD         -0.01093579  1.00000000  0.84958703 -0.13053011  0.24900866\n",
       "Terminal    -0.03061311  0.84958703  1.00000000 -0.16010395  0.26713029\n",
       "S.F.Ratio    0.13634483 -0.13053011 -0.16010395  1.00000000 -0.40292917\n",
       "perc.alumni -0.28596808  0.24900866  0.26713029 -0.40292917  1.00000000\n",
       "Expend      -0.09789189  0.43276168  0.43879922 -0.58383204  0.41771172\n",
       "Grad.Rate   -0.26934396  0.30503785  0.28952723 -0.30671041  0.49089756\n",
       "            Expend      Grad.Rate   \n",
       "Apps         0.25959198  0.146754600\n",
       "Accept       0.12471701  0.067312550\n",
       "Enroll       0.06416923 -0.022341039\n",
       "Top10perc    0.66091341  0.494989235\n",
       "Top25perc    0.52744743  0.477281164\n",
       "F.Undergrad  0.01865162 -0.078773129\n",
       "P.Undergrad -0.08356842 -0.257000991\n",
       "Outstate     0.67277862  0.571289928\n",
       "Room.Board   0.50173942  0.424941541\n",
       "Books        0.11240908  0.001060894\n",
       "Personal    -0.09789189 -0.269343964\n",
       "PhD          0.43276168  0.305037850\n",
       "Terminal     0.43879922  0.289527232\n",
       "S.F.Ratio   -0.58383204 -0.306710405\n",
       "perc.alumni  0.41771172  0.490897562\n",
       "Expend       1.00000000  0.390342696\n",
       "Grad.Rate    0.39034270  1.000000000"
      ]
     },
     "metadata": {},
     "output_type": "display_data"
    }
   ],
   "source": [
    "numPrivate =rep (1,nrow(college ))\n",
    "numPrivate[Private == \"No\"]= 0\n",
    "cor(numElite, numPrivate)\n",
    "cor(numElite, college[2:18])\n",
    "cor(college[2:18])"
   ]
  },
  {
   "cell_type": "markdown",
   "metadata": {},
   "source": [
    "I wanted to find which features has significant correlation with Elite. The variable that has the highest correlation with elite college was only top10 percent college, which was obvious since the criteria for Elite college was decided upon top10 perc >50. Other variables didn't show strong correlations with the category Elite.<br>\n",
    "Top10perc colleges came out with a relatively high correlation with Outstate and Expend. We may assume that it is more costly for students in high ranked colleges, both in tuition fee and instructional expenditure. However, personal spending didn't have much association with the top10perc colleges. "
   ]
  },
  {
   "cell_type": "markdown",
   "metadata": {},
   "source": [
    "# Q9"
   ]
  },
  {
   "cell_type": "code",
   "execution_count": 128,
   "metadata": {},
   "outputs": [
    {
     "name": "stderr",
     "output_type": "stream",
     "text": [
      "The following objects are masked from Auto (pos = 3):\n",
      "\n",
      "    acceleration, cylinders, displacement, horsepower, mpg, name,\n",
      "    origin, weight, year\n",
      "\n",
      "The following objects are masked from Auto (pos = 4):\n",
      "\n",
      "    acceleration, cylinders, displacement, horsepower, mpg, name,\n",
      "    origin, weight, year\n",
      "\n",
      "The following objects are masked from Auto (pos = 5):\n",
      "\n",
      "    acceleration, cylinders, displacement, horsepower, mpg, name,\n",
      "    origin, weight, year\n",
      "\n",
      "The following objects are masked from Auto (pos = 6):\n",
      "\n",
      "    acceleration, cylinders, displacement, horsepower, mpg, name,\n",
      "    origin, weight, year\n",
      "\n",
      "The following objects are masked from Auto (pos = 7):\n",
      "\n",
      "    acceleration, cylinders, displacement, horsepower, mpg, name,\n",
      "    origin, weight, year\n",
      "\n",
      "The following objects are masked from Auto (pos = 8):\n",
      "\n",
      "    acceleration, cylinders, displacement, horsepower, mpg, name,\n",
      "    origin, weight, year\n",
      "\n",
      "The following object is masked from package:ggplot2:\n",
      "\n",
      "    mpg\n",
      "\n"
     ]
    },
    {
     "data": {
      "text/html": [
       "<ol class=list-inline>\n",
       "\t<li>392</li>\n",
       "\t<li>9</li>\n",
       "</ol>\n"
      ],
      "text/latex": [
       "\\begin{enumerate*}\n",
       "\\item 392\n",
       "\\item 9\n",
       "\\end{enumerate*}\n"
      ],
      "text/markdown": [
       "1. 392\n",
       "2. 9\n",
       "\n",
       "\n"
      ],
      "text/plain": [
       "[1] 392   9"
      ]
     },
     "metadata": {},
     "output_type": "display_data"
    }
   ],
   "source": [
    "library(ISLR)\n",
    "data(Auto)\n",
    "Auto = na.omit(Auto)\n",
    "attach(Auto)\n",
    "dim(Auto)"
   ]
  },
  {
   "cell_type": "markdown",
   "metadata": {},
   "source": [
    "(a) Which of the predictors are quantitative, and which are qualitative?"
   ]
  },
  {
   "cell_type": "code",
   "execution_count": 129,
   "metadata": {},
   "outputs": [
    {
     "name": "stdout",
     "output_type": "stream",
     "text": [
      "'data.frame':\t392 obs. of  9 variables:\n",
      " $ mpg         : num  18 15 18 16 17 15 14 14 14 15 ...\n",
      " $ cylinders   : num  8 8 8 8 8 8 8 8 8 8 ...\n",
      " $ displacement: num  307 350 318 304 302 429 454 440 455 390 ...\n",
      " $ horsepower  : num  130 165 150 150 140 198 220 215 225 190 ...\n",
      " $ weight      : num  3504 3693 3436 3433 3449 ...\n",
      " $ acceleration: num  12 11.5 11 12 10.5 10 9 8.5 10 8.5 ...\n",
      " $ year        : num  70 70 70 70 70 70 70 70 70 70 ...\n",
      " $ origin      : num  1 1 1 1 1 1 1 1 1 1 ...\n",
      " $ name        : Factor w/ 304 levels \"amc ambassador brougham\",..: 49 36 231 14 161 141 54 223 241 2 ...\n"
     ]
    }
   ],
   "source": [
    "str(Auto)"
   ]
  },
  {
   "cell_type": "markdown",
   "metadata": {},
   "source": [
    "Year, origin, name are qualitative variables. <br>\n",
    "mpg, cylinders, displacement, horsepower, weight, acceleration are quantitative variables."
   ]
  },
  {
   "cell_type": "markdown",
   "metadata": {},
   "source": [
    "(b) What is the range of each quantitative predictor? You can answer\n",
    "this using the range() function."
   ]
  },
  {
   "cell_type": "code",
   "execution_count": 132,
   "metadata": {},
   "outputs": [
    {
     "data": {
      "text/plain": [
       "      mpg          cylinders      displacement     horsepower        weight    \n",
       " Min.   : 9.00   Min.   :3.000   Min.   : 68.0   Min.   : 46.0   Min.   :1613  \n",
       " 1st Qu.:17.00   1st Qu.:4.000   1st Qu.:105.0   1st Qu.: 75.0   1st Qu.:2225  \n",
       " Median :22.75   Median :4.000   Median :151.0   Median : 93.5   Median :2804  \n",
       " Mean   :23.45   Mean   :5.472   Mean   :194.4   Mean   :104.5   Mean   :2978  \n",
       " 3rd Qu.:29.00   3rd Qu.:8.000   3rd Qu.:275.8   3rd Qu.:126.0   3rd Qu.:3615  \n",
       " Max.   :46.60   Max.   :8.000   Max.   :455.0   Max.   :230.0   Max.   :5140  \n",
       "  acceleration  \n",
       " Min.   : 8.00  \n",
       " 1st Qu.:13.78  \n",
       " Median :15.50  \n",
       " Mean   :15.54  \n",
       " 3rd Qu.:17.02  \n",
       " Max.   :24.80  "
      ]
     },
     "metadata": {},
     "output_type": "display_data"
    }
   ],
   "source": [
    "summary(Auto[1:6])"
   ]
  },
  {
   "cell_type": "markdown",
   "metadata": {},
   "source": [
    "(c) What is the mean and standard deviation of each quantitative\n",
    "predictor?"
   ]
  },
  {
   "cell_type": "code",
   "execution_count": 140,
   "metadata": {},
   "outputs": [
    {
     "data": {
      "text/html": [
       "<dl class=dl-horizontal>\n",
       "\t<dt>mpg</dt>\n",
       "\t\t<dd>23.4459183673469</dd>\n",
       "\t<dt>cylinders</dt>\n",
       "\t\t<dd>5.4719387755102</dd>\n",
       "\t<dt>displacement</dt>\n",
       "\t\t<dd>194.411989795918</dd>\n",
       "\t<dt>horsepower</dt>\n",
       "\t\t<dd>104.469387755102</dd>\n",
       "\t<dt>weight</dt>\n",
       "\t\t<dd>2977.58418367347</dd>\n",
       "\t<dt>acceleration</dt>\n",
       "\t\t<dd>15.5413265306122</dd>\n",
       "</dl>\n"
      ],
      "text/latex": [
       "\\begin{description*}\n",
       "\\item[mpg] 23.4459183673469\n",
       "\\item[cylinders] 5.4719387755102\n",
       "\\item[displacement] 194.411989795918\n",
       "\\item[horsepower] 104.469387755102\n",
       "\\item[weight] 2977.58418367347\n",
       "\\item[acceleration] 15.5413265306122\n",
       "\\end{description*}\n"
      ],
      "text/markdown": [
       "mpg\n",
       ":   23.4459183673469cylinders\n",
       ":   5.4719387755102displacement\n",
       ":   194.411989795918horsepower\n",
       ":   104.469387755102weight\n",
       ":   2977.58418367347acceleration\n",
       ":   15.5413265306122\n",
       "\n"
      ],
      "text/plain": [
       "         mpg    cylinders displacement   horsepower       weight acceleration \n",
       "   23.445918     5.471939   194.411990   104.469388  2977.584184    15.541327 "
      ]
     },
     "metadata": {},
     "output_type": "display_data"
    },
    {
     "data": {
      "text/html": [
       "<dl class=dl-horizontal>\n",
       "\t<dt>mpg</dt>\n",
       "\t\t<dd>7.8050074865718</dd>\n",
       "\t<dt>cylinders</dt>\n",
       "\t\t<dd>1.70578324745278</dd>\n",
       "\t<dt>displacement</dt>\n",
       "\t\t<dd>104.644003908905</dd>\n",
       "\t<dt>horsepower</dt>\n",
       "\t\t<dd>38.4911599328285</dd>\n",
       "\t<dt>weight</dt>\n",
       "\t\t<dd>849.402560042949</dd>\n",
       "\t<dt>acceleration</dt>\n",
       "\t\t<dd>2.75886411918808</dd>\n",
       "</dl>\n"
      ],
      "text/latex": [
       "\\begin{description*}\n",
       "\\item[mpg] 7.8050074865718\n",
       "\\item[cylinders] 1.70578324745278\n",
       "\\item[displacement] 104.644003908905\n",
       "\\item[horsepower] 38.4911599328285\n",
       "\\item[weight] 849.402560042949\n",
       "\\item[acceleration] 2.75886411918808\n",
       "\\end{description*}\n"
      ],
      "text/markdown": [
       "mpg\n",
       ":   7.8050074865718cylinders\n",
       ":   1.70578324745278displacement\n",
       ":   104.644003908905horsepower\n",
       ":   38.4911599328285weight\n",
       ":   849.402560042949acceleration\n",
       ":   2.75886411918808\n",
       "\n"
      ],
      "text/plain": [
       "         mpg    cylinders displacement   horsepower       weight acceleration \n",
       "    7.805007     1.705783   104.644004    38.491160   849.402560     2.758864 "
      ]
     },
     "metadata": {},
     "output_type": "display_data"
    }
   ],
   "source": [
    "sapply(Auto[1:6],mean)\n",
    "sapply(Auto[1:6],sd)"
   ]
  },
  {
   "cell_type": "markdown",
   "metadata": {},
   "source": [
    "(d) Now remove the 10th through 85th observations. What is the\n",
    "range, mean, and standard deviation of each predictor in the\n",
    "subset of the data that remains?"
   ]
  },
  {
   "cell_type": "code",
   "execution_count": 143,
   "metadata": {},
   "outputs": [
    {
     "data": {
      "text/plain": [
       "      mpg          cylinders      displacement     horsepower        weight    \n",
       " Min.   :11.00   Min.   :3.000   Min.   : 68.0   Min.   : 46.0   Min.   :1649  \n",
       " 1st Qu.:18.00   1st Qu.:4.000   1st Qu.:100.2   1st Qu.: 75.0   1st Qu.:2214  \n",
       " Median :23.95   Median :4.000   Median :145.5   Median : 90.0   Median :2792  \n",
       " Mean   :24.40   Mean   :5.373   Mean   :187.2   Mean   :100.7   Mean   :2936  \n",
       " 3rd Qu.:30.55   3rd Qu.:6.000   3rd Qu.:250.0   3rd Qu.:115.0   3rd Qu.:3508  \n",
       " Max.   :46.60   Max.   :8.000   Max.   :455.0   Max.   :230.0   Max.   :4997  \n",
       "  acceleration  \n",
       " Min.   : 8.50  \n",
       " 1st Qu.:14.00  \n",
       " Median :15.50  \n",
       " Mean   :15.73  \n",
       " 3rd Qu.:17.30  \n",
       " Max.   :24.80  "
      ]
     },
     "metadata": {},
     "output_type": "display_data"
    },
    {
     "data": {
      "text/html": [
       "<dl class=dl-horizontal>\n",
       "\t<dt>mpg</dt>\n",
       "\t\t<dd>24.4044303797468</dd>\n",
       "\t<dt>cylinders</dt>\n",
       "\t\t<dd>5.37341772151899</dd>\n",
       "\t<dt>displacement</dt>\n",
       "\t\t<dd>187.240506329114</dd>\n",
       "\t<dt>horsepower</dt>\n",
       "\t\t<dd>100.721518987342</dd>\n",
       "\t<dt>weight</dt>\n",
       "\t\t<dd>2935.97151898734</dd>\n",
       "\t<dt>acceleration</dt>\n",
       "\t\t<dd>15.7268987341772</dd>\n",
       "</dl>\n"
      ],
      "text/latex": [
       "\\begin{description*}\n",
       "\\item[mpg] 24.4044303797468\n",
       "\\item[cylinders] 5.37341772151899\n",
       "\\item[displacement] 187.240506329114\n",
       "\\item[horsepower] 100.721518987342\n",
       "\\item[weight] 2935.97151898734\n",
       "\\item[acceleration] 15.7268987341772\n",
       "\\end{description*}\n"
      ],
      "text/markdown": [
       "mpg\n",
       ":   24.4044303797468cylinders\n",
       ":   5.37341772151899displacement\n",
       ":   187.240506329114horsepower\n",
       ":   100.721518987342weight\n",
       ":   2935.97151898734acceleration\n",
       ":   15.7268987341772\n",
       "\n"
      ],
      "text/plain": [
       "         mpg    cylinders displacement   horsepower       weight acceleration \n",
       "   24.404430     5.373418   187.240506   100.721519  2935.971519    15.726899 "
      ]
     },
     "metadata": {},
     "output_type": "display_data"
    },
    {
     "data": {
      "text/html": [
       "<dl class=dl-horizontal>\n",
       "\t<dt>mpg</dt>\n",
       "\t\t<dd>7.86728282443069</dd>\n",
       "\t<dt>cylinders</dt>\n",
       "\t\t<dd>1.65417865185607</dd>\n",
       "\t<dt>displacement</dt>\n",
       "\t\t<dd>99.6783672303628</dd>\n",
       "\t<dt>horsepower</dt>\n",
       "\t\t<dd>35.7088532738003</dd>\n",
       "\t<dt>weight</dt>\n",
       "\t\t<dd>811.30020815829</dd>\n",
       "\t<dt>acceleration</dt>\n",
       "\t\t<dd>2.69372071752036</dd>\n",
       "</dl>\n"
      ],
      "text/latex": [
       "\\begin{description*}\n",
       "\\item[mpg] 7.86728282443069\n",
       "\\item[cylinders] 1.65417865185607\n",
       "\\item[displacement] 99.6783672303628\n",
       "\\item[horsepower] 35.7088532738003\n",
       "\\item[weight] 811.30020815829\n",
       "\\item[acceleration] 2.69372071752036\n",
       "\\end{description*}\n"
      ],
      "text/markdown": [
       "mpg\n",
       ":   7.86728282443069cylinders\n",
       ":   1.65417865185607displacement\n",
       ":   99.6783672303628horsepower\n",
       ":   35.7088532738003weight\n",
       ":   811.30020815829acceleration\n",
       ":   2.69372071752036\n",
       "\n"
      ],
      "text/plain": [
       "         mpg    cylinders displacement   horsepower       weight acceleration \n",
       "    7.867283     1.654179    99.678367    35.708853   811.300208     2.693721 "
      ]
     },
     "metadata": {},
     "output_type": "display_data"
    }
   ],
   "source": [
    "summary(Auto[-c(10:85),1:6])\n",
    "sapply(Auto[-c(10:85),1:6], mean)\n",
    "sapply(Auto[-c(10:85),1:6], sd)"
   ]
  },
  {
   "cell_type": "markdown",
   "metadata": {},
   "source": [
    "(e) Using the full data set, investigate the predictors graphically,\n",
    "using scatterplots or other tools of your choice. Create some plots\n",
    "highlighting the relationships among the predictors. Comment\n",
    "on your findings."
   ]
  },
  {
   "cell_type": "code",
   "execution_count": 144,
   "metadata": {},
   "outputs": [
    {
     "data": {
      "image/png": "[encoded data removed]",
      "text/plain": [
       "plot without title"
      ]
     },
     "metadata": {},
     "output_type": "display_data"
    }
   ],
   "source": [
    "plot(Auto)"
   ]
  },
  {
   "cell_type": "markdown",
   "metadata": {},
   "source": [
    "The three variables : dipsplacement, horsepower and weight all seem to have strong negative correlation with mpg(miles per gallon). It is an intuitive result and can be seen in the scatterplot. Cylinder also seems to have negative correlation with mpg. Displacement, horsepower and weight have strong positive correlation between each other. We can also observe that mpg increases as year goes on."
   ]
  },
  {
   "cell_type": "markdown",
   "metadata": {},
   "source": [
    "(f) Suppose that we wish to predict gas mileage (mpg) on the basis\n",
    "of the other variables. Do your plots suggest that any of the\n",
    "other variables might be useful in predicting mpg? Justify your\n",
    "answer."
   ]
  },
  {
   "cell_type": "markdown",
   "metadata": {},
   "source": [
    "It is mentioned in the above question. Let's use a correlation vlaue to verify the assumptions made from observing the scatterplots.\n"
   ]
  },
  {
   "cell_type": "code",
   "execution_count": 145,
   "metadata": {},
   "outputs": [
    {
     "data": {
      "text/html": [
       "<table>\n",
       "<thead><tr><th scope=col>cylinders</th><th scope=col>displacement</th><th scope=col>horsepower</th><th scope=col>weight</th><th scope=col>acceleration</th></tr></thead>\n",
       "<tbody>\n",
       "\t<tr><td>-0.7776175</td><td>-0.8051269</td><td>-0.7784268</td><td>-0.8322442</td><td>0.4233285 </td></tr>\n",
       "</tbody>\n",
       "</table>\n"
      ],
      "text/latex": [
       "\\begin{tabular}{lllll}\n",
       " cylinders & displacement & horsepower & weight & acceleration\\\\\n",
       "\\hline\n",
       "\t -0.7776175 & -0.8051269 & -0.7784268 & -0.8322442 & 0.4233285 \\\\\n",
       "\\end{tabular}\n"
      ],
      "text/markdown": [
       "\n",
       "| cylinders | displacement | horsepower | weight | acceleration |\n",
       "|---|---|---|---|---|\n",
       "| -0.7776175 | -0.8051269 | -0.7784268 | -0.8322442 | 0.4233285  |\n",
       "\n"
      ],
      "text/plain": [
       "     cylinders  displacement horsepower weight     acceleration\n",
       "[1,] -0.7776175 -0.8051269   -0.7784268 -0.8322442 0.4233285   "
      ]
     },
     "metadata": {},
     "output_type": "display_data"
    }
   ],
   "source": [
    "cor(mpg,Auto[2:6])"
   ]
  },
  {
   "cell_type": "markdown",
   "metadata": {},
   "source": [
    "The marginal values of correlations correspond to our obervations. Cylinders, displacement, horsepower and weight features have negative impact on mpg. "
   ]
  },
  {
   "cell_type": "code",
   "execution_count": null,
   "metadata": {},
   "outputs": [],
   "source": []
  }
 ],
 "metadata": {
  "kernelspec": {
   "display_name": "R",
   "language": "R",
   "name": "ir"
  },
  "language_info": {
   "codemirror_mode": "r",
   "file_extension": ".r",
   "mimetype": "text/x-r-source",
   "name": "R",
   "pygments_lexer": "r",
   "version": "3.6.1"
  }
 },
 "nbformat": 4,
 "nbformat_minor": 4
}
