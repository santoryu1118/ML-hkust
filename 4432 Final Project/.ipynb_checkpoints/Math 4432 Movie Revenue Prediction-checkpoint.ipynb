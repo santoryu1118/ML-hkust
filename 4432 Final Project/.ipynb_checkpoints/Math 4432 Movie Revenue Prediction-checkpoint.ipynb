{
 "cells": [
  {
   "cell_type": "code",
   "execution_count": 712,
   "metadata": {},
   "outputs": [],
   "source": [
    "import numpy as np\n",
    "import pandas as pd\n",
    "import json\n",
    "import matplotlib.pyplot as plt\n",
    "\n",
    "from sklearn.preprocessing import MultiLabelBinarizer, StandardScaler\n",
    "from sklearn.linear_model import LinearRegression\n",
    "from sklearn.linear_model import Ridge\n",
    "from sklearn.ensemble import GradientBoostingRegressor\n",
    "from sklearn.model_selection import RandomizedSearchCV\n",
    "from xgboost import XGBRegressor\n",
    "from sklearn.metrics import r2_score, mean_squared_error\n",
    "from math import sqrt\n",
    "\n",
    "import statsmodels.api as sm"
   ]
  },
  {
   "cell_type": "code",
   "execution_count": 704,
   "metadata": {},
   "outputs": [
    {
     "data": {
      "text/html": [
       "<div>\n",
       "<style scoped>\n",
       "    .dataframe tbody tr th:only-of-type {\n",
       "        vertical-align: middle;\n",
       "    }\n",
       "\n",
       "    .dataframe tbody tr th {\n",
       "        vertical-align: top;\n",
       "    }\n",
       "\n",
       "    .dataframe thead th {\n",
       "        text-align: right;\n",
       "    }\n",
       "</style>\n",
       "<table border=\"1\" class=\"dataframe\">\n",
       "  <thead>\n",
       "    <tr style=\"text-align: right;\">\n",
       "      <th></th>\n",
       "      <th>revenue</th>\n",
       "      <th>budget</th>\n",
       "      <th>genres</th>\n",
       "      <th>keywords</th>\n",
       "      <th>production_companies</th>\n",
       "      <th>release_date</th>\n",
       "      <th>cast</th>\n",
       "      <th>crew</th>\n",
       "    </tr>\n",
       "  </thead>\n",
       "  <tbody>\n",
       "    <tr>\n",
       "      <th>0</th>\n",
       "      <td>2787965087</td>\n",
       "      <td>237000000</td>\n",
       "      <td>[{\"id\": 28, \"name\": \"Action\"}, {\"id\": 12, \"nam...</td>\n",
       "      <td>[{\"id\": 1463, \"name\": \"culture clash\"}, {\"id\":...</td>\n",
       "      <td>[{\"name\": \"Ingenious Film Partners\", \"id\": 289...</td>\n",
       "      <td>2009-12-10</td>\n",
       "      <td>[{\"cast_id\": 242, \"character\": \"Jake Sully\", \"...</td>\n",
       "      <td>[{\"credit_id\": \"52fe48009251416c750aca23\", \"de...</td>\n",
       "    </tr>\n",
       "    <tr>\n",
       "      <th>1</th>\n",
       "      <td>961000000</td>\n",
       "      <td>300000000</td>\n",
       "      <td>[{\"id\": 12, \"name\": \"Adventure\"}, {\"id\": 14, \"...</td>\n",
       "      <td>[{\"id\": 270, \"name\": \"ocean\"}, {\"id\": 726, \"na...</td>\n",
       "      <td>[{\"name\": \"Walt Disney Pictures\", \"id\": 2}, {\"...</td>\n",
       "      <td>2007-05-19</td>\n",
       "      <td>[{\"cast_id\": 4, \"character\": \"Captain Jack Spa...</td>\n",
       "      <td>[{\"credit_id\": \"52fe4232c3a36847f800b579\", \"de...</td>\n",
       "    </tr>\n",
       "    <tr>\n",
       "      <th>2</th>\n",
       "      <td>880674609</td>\n",
       "      <td>245000000</td>\n",
       "      <td>[{\"id\": 28, \"name\": \"Action\"}, {\"id\": 12, \"nam...</td>\n",
       "      <td>[{\"id\": 470, \"name\": \"spy\"}, {\"id\": 818, \"name...</td>\n",
       "      <td>[{\"name\": \"Columbia Pictures\", \"id\": 5}, {\"nam...</td>\n",
       "      <td>2015-10-26</td>\n",
       "      <td>[{\"cast_id\": 1, \"character\": \"James Bond\", \"cr...</td>\n",
       "      <td>[{\"credit_id\": \"54805967c3a36829b5002c41\", \"de...</td>\n",
       "    </tr>\n",
       "    <tr>\n",
       "      <th>3</th>\n",
       "      <td>1084939099</td>\n",
       "      <td>250000000</td>\n",
       "      <td>[{\"id\": 28, \"name\": \"Action\"}, {\"id\": 80, \"nam...</td>\n",
       "      <td>[{\"id\": 849, \"name\": \"dc comics\"}, {\"id\": 853,...</td>\n",
       "      <td>[{\"name\": \"Legendary Pictures\", \"id\": 923}, {\"...</td>\n",
       "      <td>2012-07-16</td>\n",
       "      <td>[{\"cast_id\": 2, \"character\": \"Bruce Wayne / Ba...</td>\n",
       "      <td>[{\"credit_id\": \"52fe4781c3a36847f81398c3\", \"de...</td>\n",
       "    </tr>\n",
       "    <tr>\n",
       "      <th>4</th>\n",
       "      <td>284139100</td>\n",
       "      <td>260000000</td>\n",
       "      <td>[{\"id\": 28, \"name\": \"Action\"}, {\"id\": 12, \"nam...</td>\n",
       "      <td>[{\"id\": 818, \"name\": \"based on novel\"}, {\"id\":...</td>\n",
       "      <td>[{\"name\": \"Walt Disney Pictures\", \"id\": 2}]</td>\n",
       "      <td>2012-03-07</td>\n",
       "      <td>[{\"cast_id\": 5, \"character\": \"John Carter\", \"c...</td>\n",
       "      <td>[{\"credit_id\": \"52fe479ac3a36847f813eaa3\", \"de...</td>\n",
       "    </tr>\n",
       "  </tbody>\n",
       "</table>\n",
       "</div>"
      ],
      "text/plain": [
       "      revenue     budget                                             genres  \\\n",
       "0  2787965087  237000000  [{\"id\": 28, \"name\": \"Action\"}, {\"id\": 12, \"nam...   \n",
       "1   961000000  300000000  [{\"id\": 12, \"name\": \"Adventure\"}, {\"id\": 14, \"...   \n",
       "2   880674609  245000000  [{\"id\": 28, \"name\": \"Action\"}, {\"id\": 12, \"nam...   \n",
       "3  1084939099  250000000  [{\"id\": 28, \"name\": \"Action\"}, {\"id\": 80, \"nam...   \n",
       "4   284139100  260000000  [{\"id\": 28, \"name\": \"Action\"}, {\"id\": 12, \"nam...   \n",
       "\n",
       "                                            keywords  \\\n",
       "0  [{\"id\": 1463, \"name\": \"culture clash\"}, {\"id\":...   \n",
       "1  [{\"id\": 270, \"name\": \"ocean\"}, {\"id\": 726, \"na...   \n",
       "2  [{\"id\": 470, \"name\": \"spy\"}, {\"id\": 818, \"name...   \n",
       "3  [{\"id\": 849, \"name\": \"dc comics\"}, {\"id\": 853,...   \n",
       "4  [{\"id\": 818, \"name\": \"based on novel\"}, {\"id\":...   \n",
       "\n",
       "                                production_companies release_date  \\\n",
       "0  [{\"name\": \"Ingenious Film Partners\", \"id\": 289...   2009-12-10   \n",
       "1  [{\"name\": \"Walt Disney Pictures\", \"id\": 2}, {\"...   2007-05-19   \n",
       "2  [{\"name\": \"Columbia Pictures\", \"id\": 5}, {\"nam...   2015-10-26   \n",
       "3  [{\"name\": \"Legendary Pictures\", \"id\": 923}, {\"...   2012-07-16   \n",
       "4        [{\"name\": \"Walt Disney Pictures\", \"id\": 2}]   2012-03-07   \n",
       "\n",
       "                                                cast  \\\n",
       "0  [{\"cast_id\": 242, \"character\": \"Jake Sully\", \"...   \n",
       "1  [{\"cast_id\": 4, \"character\": \"Captain Jack Spa...   \n",
       "2  [{\"cast_id\": 1, \"character\": \"James Bond\", \"cr...   \n",
       "3  [{\"cast_id\": 2, \"character\": \"Bruce Wayne / Ba...   \n",
       "4  [{\"cast_id\": 5, \"character\": \"John Carter\", \"c...   \n",
       "\n",
       "                                                crew  \n",
       "0  [{\"credit_id\": \"52fe48009251416c750aca23\", \"de...  \n",
       "1  [{\"credit_id\": \"52fe4232c3a36847f800b579\", \"de...  \n",
       "2  [{\"credit_id\": \"54805967c3a36829b5002c41\", \"de...  \n",
       "3  [{\"credit_id\": \"52fe4781c3a36847f81398c3\", \"de...  \n",
       "4  [{\"credit_id\": \"52fe479ac3a36847f813eaa3\", \"de...  "
      ]
     },
     "execution_count": 704,
     "metadata": {},
     "output_type": "execute_result"
    }
   ],
   "source": [
    "df = pd.read_csv('data_final.csv')\n",
    "df.head()"
   ]
  },
  {
   "cell_type": "markdown",
   "metadata": {},
   "source": [
    "We can see that except for the revenue and the budget columns, most of the other columns given are objects instead of numeric values. Therefore, we need to perform encoding techniques to make these values numeric for interpretation."
   ]
  },
  {
   "cell_type": "code",
   "execution_count": 639,
   "metadata": {},
   "outputs": [
    {
     "name": "stdout",
     "output_type": "stream",
     "text": [
      "<class 'pandas.core.frame.DataFrame'>\n",
      "RangeIndex: 3376 entries, 0 to 3375\n",
      "Data columns (total 8 columns):\n",
      "revenue                 3376 non-null int64\n",
      "budget                  3376 non-null int64\n",
      "genres                  3376 non-null object\n",
      "keywords                3376 non-null object\n",
      "production_companies    3376 non-null object\n",
      "release_date            3376 non-null object\n",
      "cast                    3376 non-null object\n",
      "crew                    3376 non-null object\n",
      "dtypes: int64(2), object(6)\n",
      "memory usage: 211.1+ KB\n"
     ]
    }
   ],
   "source": [
    "df.info()"
   ]
  },
  {
   "cell_type": "code",
   "execution_count": 640,
   "metadata": {},
   "outputs": [
    {
     "data": {
      "text/plain": [
       "revenue                 0\n",
       "budget                  0\n",
       "genres                  0\n",
       "keywords                0\n",
       "production_companies    0\n",
       "release_date            0\n",
       "cast                    0\n",
       "crew                    0\n",
       "dtype: int64"
      ]
     },
     "execution_count": 640,
     "metadata": {},
     "output_type": "execute_result"
    }
   ],
   "source": [
    "df.isnull().sum()"
   ]
  },
  {
   "cell_type": "code",
   "execution_count": 641,
   "metadata": {},
   "outputs": [
    {
     "data": {
      "text/plain": [
       "count    3.376000e+03\n",
       "mean     3.888424e+07\n",
       "std      4.420490e+07\n",
       "min      0.000000e+00\n",
       "25%      8.500000e+06\n",
       "50%      2.500000e+07\n",
       "75%      5.200000e+07\n",
       "max      3.800000e+08\n",
       "Name: budget, dtype: float64"
      ]
     },
     "execution_count": 641,
     "metadata": {},
     "output_type": "execute_result"
    }
   ],
   "source": [
    "df['budget'].describe()"
   ]
  },
  {
   "cell_type": "code",
   "execution_count": 642,
   "metadata": {},
   "outputs": [
    {
     "data": {
      "text/plain": [
       "173"
      ]
     },
     "execution_count": 642,
     "metadata": {},
     "output_type": "execute_result"
    }
   ],
   "source": [
    "len(df[df['budget'] < 1e+5])"
   ]
  },
  {
   "cell_type": "code",
   "execution_count": 643,
   "metadata": {},
   "outputs": [
    {
     "data": {
      "text/plain": [
       "65"
      ]
     },
     "execution_count": 643,
     "metadata": {},
     "output_type": "execute_result"
    }
   ],
   "source": [
    "len(df[df['revenue'] < 1e+5])"
   ]
  },
  {
   "cell_type": "code",
   "execution_count": 644,
   "metadata": {
    "scrolled": true
   },
   "outputs": [
    {
     "data": {
      "text/plain": [
       "(array([2.168e+03, 7.220e+02, 2.420e+02, 1.410e+02, 5.100e+01, 3.400e+01,\n",
       "        1.400e+01, 3.000e+00, 0.000e+00, 1.000e+00]),\n",
       " array([0.00e+00, 3.80e+07, 7.60e+07, 1.14e+08, 1.52e+08, 1.90e+08,\n",
       "        2.28e+08, 2.66e+08, 3.04e+08, 3.42e+08, 3.80e+08]),\n",
       " <a list of 10 Patch objects>)"
      ]
     },
     "execution_count": 644,
     "metadata": {},
     "output_type": "execute_result"
    },
    {
     "data": {
      "image/png": "[encoded data removed]",
      "text/plain": [
       "<Figure size 432x288 with 1 Axes>"
      ]
     },
     "metadata": {
      "needs_background": "light"
     },
     "output_type": "display_data"
    }
   ],
   "source": [
    "plt.hist(df['budget'])"
   ]
  },
  {
   "cell_type": "code",
   "execution_count": 645,
   "metadata": {},
   "outputs": [
    {
     "data": {
      "text/plain": [
       "5"
      ]
     },
     "execution_count": 645,
     "metadata": {},
     "output_type": "execute_result"
    }
   ],
   "source": [
    "min(df['revenue'])"
   ]
  },
  {
   "cell_type": "markdown",
   "metadata": {},
   "source": [
    "### converting a sting representation of a dictionary to a dictionary using json and then representing it to one-hot encoder using multilabel binarizer"
   ]
  },
  {
   "cell_type": "code",
   "execution_count": 706,
   "metadata": {},
   "outputs": [],
   "source": [
    "def preprocess(column):\n",
    "    a = []\n",
    "    for i in range(len(df[column])):\n",
    "        b = []\n",
    "        movie = json.loads(df[column][i])\n",
    "        for j in range(len(movie)):\n",
    "            b.append(movie[j]['name'])\n",
    "        a.append(b)\n",
    "    temp = pd.DataFrame({column: a})\n",
    "    mlb = MultiLabelBinarizer()\n",
    "    \n",
    "    # creating a multilabel encoder\n",
    "    encoder = pd.DataFrame(mlb.fit_transform(temp[column]), columns = mlb.classes_)\n",
    "    print(\"# columns before constraint: {}\" .format(len(encoder.columns)))\n",
    "    # get only the columns that have a count of above 5 for dimension reduction\n",
    "    encoder = encoder.loc[:,(encoder.astype(bool).sum(axis=0) >5) == True]\n",
    "    print(\"# columns after constraint: {}\" .format(len(encoder.columns)))\n",
    "\n",
    "    return encoder\n",
    "\n",
    "def updatefile(preprocessed_dataframe , originalcol, df):\n",
    "    # drop original json column\n",
    "    df.drop(columns=[originalcol], inplace = True)\n",
    "    \n",
    "    return pd.concat([df, preprocessed_dataframe], axis =1)"
   ]
  },
  {
   "cell_type": "code",
   "execution_count": 707,
   "metadata": {},
   "outputs": [
    {
     "name": "stdout",
     "output_type": "stream",
     "text": [
      "# columns before constraint: 19\n",
      "# columns after constraint: 19\n",
      "# columns before constraint: 3736\n",
      "# columns after constraint: 300\n"
     ]
    }
   ],
   "source": [
    "genres = preprocess(\"genres\")\n",
    "df = updatefile(genres, 'genres', df)\n",
    "production_companies = preprocess(\"production_companies\")\n",
    "df = updatefile(production_companies, 'production_companies', df)\n",
    "df['release_date'] =pd.to_datetime(df['release_date'], format = \"%Y-%m-%d\")\n",
    "df['release_year'] = df['release_date'].dt.year\n",
    "df['release_month'] = df['release_date'].dt.month\n",
    "df['release_day'] = df['release_date'].dt.day\n",
    "# keywords = preprocess(\"keywords\")\n",
    "# df = updatefile(keywords, 'keywords', df)\n",
    "df = df.drop(columns=['release_date', 'keywords', 'cast','crew'])"
   ]
  },
  {
   "cell_type": "code",
   "execution_count": 709,
   "metadata": {},
   "outputs": [
    {
     "data": {
      "text/html": [
       "<div>\n",
       "<style scoped>\n",
       "    .dataframe tbody tr th:only-of-type {\n",
       "        vertical-align: middle;\n",
       "    }\n",
       "\n",
       "    .dataframe tbody tr th {\n",
       "        vertical-align: top;\n",
       "    }\n",
       "\n",
       "    .dataframe thead th {\n",
       "        text-align: right;\n",
       "    }\n",
       "</style>\n",
       "<table border=\"1\" class=\"dataframe\">\n",
       "  <thead>\n",
       "    <tr style=\"text-align: right;\">\n",
       "      <th></th>\n",
       "      <th>revenue</th>\n",
       "      <th>budget</th>\n",
       "      <th>Action</th>\n",
       "      <th>Adventure</th>\n",
       "      <th>Animation</th>\n",
       "      <th>Comedy</th>\n",
       "      <th>Crime</th>\n",
       "      <th>Documentary</th>\n",
       "      <th>Drama</th>\n",
       "      <th>Family</th>\n",
       "      <th>...</th>\n",
       "      <th>Wintergreen_Productions</th>\n",
       "      <th>Wonderland_Sound_and_Vision</th>\n",
       "      <th>Working_Title_Films</th>\n",
       "      <th>Worldview_Entertainment</th>\n",
       "      <th>X-Filme_Creative_Pool</th>\n",
       "      <th>Yari_Film_Group</th>\n",
       "      <th>Zide-Perry_Productions</th>\n",
       "      <th>release_year</th>\n",
       "      <th>release_month</th>\n",
       "      <th>release_day</th>\n",
       "    </tr>\n",
       "  </thead>\n",
       "  <tbody>\n",
       "    <tr>\n",
       "      <th>0</th>\n",
       "      <td>2787965087</td>\n",
       "      <td>237000000</td>\n",
       "      <td>1</td>\n",
       "      <td>1</td>\n",
       "      <td>0</td>\n",
       "      <td>0</td>\n",
       "      <td>0</td>\n",
       "      <td>0</td>\n",
       "      <td>0</td>\n",
       "      <td>0</td>\n",
       "      <td>...</td>\n",
       "      <td>0</td>\n",
       "      <td>0</td>\n",
       "      <td>0</td>\n",
       "      <td>0</td>\n",
       "      <td>0</td>\n",
       "      <td>0</td>\n",
       "      <td>0</td>\n",
       "      <td>2009</td>\n",
       "      <td>12</td>\n",
       "      <td>10</td>\n",
       "    </tr>\n",
       "    <tr>\n",
       "      <th>1</th>\n",
       "      <td>961000000</td>\n",
       "      <td>300000000</td>\n",
       "      <td>1</td>\n",
       "      <td>1</td>\n",
       "      <td>0</td>\n",
       "      <td>0</td>\n",
       "      <td>0</td>\n",
       "      <td>0</td>\n",
       "      <td>0</td>\n",
       "      <td>0</td>\n",
       "      <td>...</td>\n",
       "      <td>0</td>\n",
       "      <td>0</td>\n",
       "      <td>0</td>\n",
       "      <td>0</td>\n",
       "      <td>0</td>\n",
       "      <td>0</td>\n",
       "      <td>0</td>\n",
       "      <td>2007</td>\n",
       "      <td>5</td>\n",
       "      <td>19</td>\n",
       "    </tr>\n",
       "    <tr>\n",
       "      <th>2</th>\n",
       "      <td>880674609</td>\n",
       "      <td>245000000</td>\n",
       "      <td>1</td>\n",
       "      <td>1</td>\n",
       "      <td>0</td>\n",
       "      <td>0</td>\n",
       "      <td>1</td>\n",
       "      <td>0</td>\n",
       "      <td>0</td>\n",
       "      <td>0</td>\n",
       "      <td>...</td>\n",
       "      <td>0</td>\n",
       "      <td>0</td>\n",
       "      <td>0</td>\n",
       "      <td>0</td>\n",
       "      <td>0</td>\n",
       "      <td>0</td>\n",
       "      <td>0</td>\n",
       "      <td>2015</td>\n",
       "      <td>10</td>\n",
       "      <td>26</td>\n",
       "    </tr>\n",
       "    <tr>\n",
       "      <th>3</th>\n",
       "      <td>1084939099</td>\n",
       "      <td>250000000</td>\n",
       "      <td>1</td>\n",
       "      <td>0</td>\n",
       "      <td>0</td>\n",
       "      <td>0</td>\n",
       "      <td>1</td>\n",
       "      <td>0</td>\n",
       "      <td>1</td>\n",
       "      <td>0</td>\n",
       "      <td>...</td>\n",
       "      <td>0</td>\n",
       "      <td>0</td>\n",
       "      <td>0</td>\n",
       "      <td>0</td>\n",
       "      <td>0</td>\n",
       "      <td>0</td>\n",
       "      <td>0</td>\n",
       "      <td>2012</td>\n",
       "      <td>7</td>\n",
       "      <td>16</td>\n",
       "    </tr>\n",
       "    <tr>\n",
       "      <th>4</th>\n",
       "      <td>284139100</td>\n",
       "      <td>260000000</td>\n",
       "      <td>1</td>\n",
       "      <td>1</td>\n",
       "      <td>0</td>\n",
       "      <td>0</td>\n",
       "      <td>0</td>\n",
       "      <td>0</td>\n",
       "      <td>0</td>\n",
       "      <td>0</td>\n",
       "      <td>...</td>\n",
       "      <td>0</td>\n",
       "      <td>0</td>\n",
       "      <td>0</td>\n",
       "      <td>0</td>\n",
       "      <td>0</td>\n",
       "      <td>0</td>\n",
       "      <td>0</td>\n",
       "      <td>2012</td>\n",
       "      <td>3</td>\n",
       "      <td>7</td>\n",
       "    </tr>\n",
       "  </tbody>\n",
       "</table>\n",
       "<p>5 rows × 324 columns</p>\n",
       "</div>"
      ],
      "text/plain": [
       "      revenue     budget  Action  Adventure  Animation  Comedy  Crime  \\\n",
       "0  2787965087  237000000       1          1          0       0      0   \n",
       "1   961000000  300000000       1          1          0       0      0   \n",
       "2   880674609  245000000       1          1          0       0      1   \n",
       "3  1084939099  250000000       1          0          0       0      1   \n",
       "4   284139100  260000000       1          1          0       0      0   \n",
       "\n",
       "   Documentary  Drama  Family  ...  Wintergreen_Productions  \\\n",
       "0            0      0       0  ...                        0   \n",
       "1            0      0       0  ...                        0   \n",
       "2            0      0       0  ...                        0   \n",
       "3            0      1       0  ...                        0   \n",
       "4            0      0       0  ...                        0   \n",
       "\n",
       "   Wonderland_Sound_and_Vision  Working_Title_Films  Worldview_Entertainment  \\\n",
       "0                            0                    0                        0   \n",
       "1                            0                    0                        0   \n",
       "2                            0                    0                        0   \n",
       "3                            0                    0                        0   \n",
       "4                            0                    0                        0   \n",
       "\n",
       "   X-Filme_Creative_Pool  Yari_Film_Group  Zide-Perry_Productions  \\\n",
       "0                      0                0                       0   \n",
       "1                      0                0                       0   \n",
       "2                      0                0                       0   \n",
       "3                      0                0                       0   \n",
       "4                      0                0                       0   \n",
       "\n",
       "   release_year  release_month  release_day  \n",
       "0          2009             12           10  \n",
       "1          2007              5           19  \n",
       "2          2015             10           26  \n",
       "3          2012              7           16  \n",
       "4          2012              3            7  \n",
       "\n",
       "[5 rows x 324 columns]"
      ]
     },
     "execution_count": 709,
     "metadata": {},
     "output_type": "execute_result"
    }
   ],
   "source": [
    "# remove whitespaces in the column names\n",
    "df.columns = df.columns.str.replace(' ', '_')\n",
    "df.head()"
   ]
  },
  {
   "cell_type": "code",
   "execution_count": 710,
   "metadata": {},
   "outputs": [
    {
     "data": {
      "text/plain": [
       "(3376, 324)"
      ]
     },
     "execution_count": 710,
     "metadata": {},
     "output_type": "execute_result"
    }
   ],
   "source": [
    "# check for duplicate columns with same values\n",
    "df = df.loc[:, ~df.columns.duplicated()]\n",
    "df.shape"
   ]
  },
  {
   "cell_type": "code",
   "execution_count": 715,
   "metadata": {},
   "outputs": [],
   "source": [
    "for i in range(len(df)):\n",
    "    if df['budget'][i] == 0:\n",
    "        df['budget'][i] = df['revenue'][i]/3"
   ]
  },
  {
   "cell_type": "code",
   "execution_count": 720,
   "metadata": {},
   "outputs": [
    {
     "name": "stderr",
     "output_type": "stream",
     "text": [
      "C:\\Users\\capjo\\Anaconda3\\lib\\site-packages\\sklearn\\utils\\validation.py:595: DataConversionWarning: Data with input dtype int64 was converted to float64 by StandardScaler.\n",
      "  warnings.warn(msg, DataConversionWarning)\n",
      "C:\\Users\\capjo\\Anaconda3\\lib\\site-packages\\sklearn\\utils\\validation.py:595: DataConversionWarning: Data with input dtype int64 was converted to float64 by StandardScaler.\n",
      "  warnings.warn(msg, DataConversionWarning)\n"
     ]
    }
   ],
   "source": [
    "scaler = StandardScaler()\n",
    "df['budget'] = scaler.fit_transform(df['budget'].values.reshape(-1,1))"
   ]
  },
  {
   "cell_type": "code",
   "execution_count": 721,
   "metadata": {},
   "outputs": [],
   "source": [
    "x = df.drop(columns = 'revenue')\n",
    "y = np.log(df['revenue']+1.0)\n",
    "movies_num = np.shape(x)[0]\n",
    "order = np.arange(movies_num)\n",
    "np.random.shuffle(order)\n",
    "x_train = x.values[order][:3000]\n",
    "x_test = x.values[order][3000:]\n",
    "y_train = y.values[order][:3000]\n",
    "y_test = y.values[order][3000:]"
   ]
  },
  {
   "cell_type": "code",
   "execution_count": 722,
   "metadata": {},
   "outputs": [
    {
     "name": "stdout",
     "output_type": "stream",
     "text": [
      "r2_score: 0.467402\n"
     ]
    }
   ],
   "source": [
    "model_xgb = XGBRegressor()\n",
    "model_xgb.fit(x_train, y_train)\n",
    "print(\"r2_score: %f\" %model_xgb.score(x_test, y_test))"
   ]
  },
  {
   "cell_type": "code",
   "execution_count": 723,
   "metadata": {},
   "outputs": [
    {
     "name": "stdout",
     "output_type": "stream",
     "text": [
      "best parameter r2_score: 0.482268\n"
     ]
    }
   ],
   "source": [
    "model_xgb = XGBRegressor(base_score=0.5, booster='gbtree', colsample_bylevel=1,\n",
    "       colsample_bynode=1, colsample_bytree=1, gamma=0, gpu_id=-1,\n",
    "       importance_type='gain', interaction_constraints='',\n",
    "       learning_rate=0.05, max_delta_step=0, max_depth=6,\n",
    "       min_child_weight=1, monotone_constraints='()',\n",
    "       n_estimators=500, n_jobs=0, num_parallel_tree=1,\n",
    "       objective='reg:squarederror', random_state=0, reg_alpha=0,\n",
    "       reg_lambda=1, scale_pos_weight=1, subsample=1, tree_method='exact',\n",
    "       validate_parameters=1, verbosity=None)\n",
    "\n",
    "model_xgb.fit(x_train, y_train)\n",
    "print(\"best parameter r2_score: %f\" %model_xgb.score(x_test, y_test))"
   ]
  },
  {
   "cell_type": "code",
   "execution_count": 724,
   "metadata": {},
   "outputs": [
    {
     "name": "stdout",
     "output_type": "stream",
     "text": [
      "GBR model r2_score: 0.460370\n"
     ]
    }
   ],
   "source": [
    "params = {'n_estimators' : 500, 'max_depth' :6, 'learning_rate' : 0.05}\n",
    "model_gbr = GradientBoostingRegressor(**params)\n",
    "model_gbr.fit(x_train, y_train)\n",
    "print(\"GBR model r2_score: %f\" %model_gbr.score(x_test, y_test))"
   ]
  },
  {
   "cell_type": "code",
   "execution_count": 725,
   "metadata": {},
   "outputs": [
    {
     "name": "stdout",
     "output_type": "stream",
     "text": [
      "only budget model score: 0.467573\n"
     ]
    }
   ],
   "source": [
    "x = df.drop(columns = 'revenue')\n",
    "x = x['budget']\n",
    "y = np.log(df['revenue']+1.0)\n",
    "movies_num = np.shape(x)[0]\n",
    "order = np.arange(movies_num)\n",
    "np.random.shuffle(order)\n",
    "x_train = x.values[order][:3000].reshape(-1,1)\n",
    "x_test = x.values[order][3000:].reshape(-1,1)\n",
    "y_train = y.values[order][:3000]\n",
    "y_test = y.values[order][3000:]\n",
    "model_xgb = XGBRegressor(base_score=0.5, booster='gbtree', colsample_bylevel=1,\n",
    "       colsample_bynode=1, colsample_bytree=1, gamma=0, gpu_id=-1,\n",
    "       importance_type='gain', interaction_constraints='',\n",
    "       learning_rate=0.05, max_delta_step=0, max_depth=6,\n",
    "       min_child_weight=1, monotone_constraints='()',\n",
    "       n_estimators=500, n_jobs=0, num_parallel_tree=1,\n",
    "       objective='reg:squarederror', random_state=0, reg_alpha=0,\n",
    "       reg_lambda=1, scale_pos_weight=1, subsample=1, tree_method='exact',\n",
    "       validate_parameters=1, verbosity=None)\n",
    "model_xgb.fit(x_train, y_train)\n",
    "y_pred = model_xgb.predict(x_test)\n",
    "\n",
    "print(\"only budget model score: %f\" %model_xgb.score(x_test, y_test))"
   ]
  },
  {
   "cell_type": "markdown",
   "metadata": {},
   "source": [
    "# Now lets take into account all the varaibles"
   ]
  },
  {
   "cell_type": "code",
   "execution_count": 478,
   "metadata": {},
   "outputs": [
    {
     "data": {
      "text/plain": [
       "{'whiskers': [<matplotlib.lines.Line2D at 0x25dd6333518>,\n",
       "  <matplotlib.lines.Line2D at 0x25dd63338d0>],\n",
       " 'caps': [<matplotlib.lines.Line2D at 0x25dd6333c18>,\n",
       "  <matplotlib.lines.Line2D at 0x25dd6333f60>],\n",
       " 'boxes': [<matplotlib.lines.Line2D at 0x25dd6333128>],\n",
       " 'medians': [<matplotlib.lines.Line2D at 0x25dd6333cf8>],\n",
       " 'fliers': [<matplotlib.lines.Line2D at 0x25dd62e99b0>],\n",
       " 'means': []}"
      ]
     },
     "execution_count": 478,
     "metadata": {},
     "output_type": "execute_result"
    },
    {
     "data": {
      "image/png": "[encoded data removed]",
      "text/plain": [
       "<Figure size 432x288 with 1 Axes>"
      ]
     },
     "metadata": {
      "needs_background": "light"
     },
     "output_type": "display_data"
    }
   ],
   "source": [
    "plt.boxplot(y)"
   ]
  },
  {
   "cell_type": "code",
   "execution_count": 481,
   "metadata": {},
   "outputs": [
    {
     "data": {
      "text/plain": [
       "{'whiskers': [<matplotlib.lines.Line2D at 0x25e1f2e0b70>,\n",
       "  <matplotlib.lines.Line2D at 0x25e1f2e03c8>],\n",
       " 'caps': [<matplotlib.lines.Line2D at 0x25e1f2e0518>,\n",
       "  <matplotlib.lines.Line2D at 0x25e1f307588>],\n",
       " 'boxes': [<matplotlib.lines.Line2D at 0x25e1f2e0780>],\n",
       " 'medians': [<matplotlib.lines.Line2D at 0x25e1f3078d0>],\n",
       " 'fliers': [<matplotlib.lines.Line2D at 0x25e1f307c18>],\n",
       " 'means': []}"
      ]
     },
     "execution_count": 481,
     "metadata": {},
     "output_type": "execute_result"
    },
    {
     "data": {
      "image/png": "[encoded data removed]",
      "text/plain": [
       "<Figure size 432x288 with 1 Axes>"
      ]
     },
     "metadata": {
      "needs_background": "light"
     },
     "output_type": "display_data"
    }
   ],
   "source": [
    "plt.boxplot(x['budget'])"
   ]
  },
  {
   "cell_type": "code",
   "execution_count": 525,
   "metadata": {},
   "outputs": [
    {
     "name": "stderr",
     "output_type": "stream",
     "text": [
      "C:\\Users\\capjo\\Anaconda3\\lib\\site-packages\\ipykernel_launcher.py:1: UserWarning: Boolean Series key will be reindexed to match DataFrame index.\n",
      "  \"\"\"Entry point for launching an IPython kernel.\n"
     ]
    }
   ],
   "source": [
    "nonzerodf = df[(df['budget']!=0)][(df['revenue']!=0)]\n",
    "#nonzerodf['revenue'] = np.log(nonzerodf['revenue'])"
   ]
  },
  {
   "cell_type": "code",
   "execution_count": 552,
   "metadata": {},
   "outputs": [
    {
     "data": {
      "text/plain": [
       "array([[2.93961117]])"
      ]
     },
     "execution_count": 552,
     "metadata": {},
     "output_type": "execute_result"
    }
   ],
   "source": [
    "lmodel = LinearRegression().fit(df['budget'].values.reshape(-1,1), df['revenue'].values.reshape(-1,1))\n",
    "lmodel.coef_"
   ]
  },
  {
   "cell_type": "code",
   "execution_count": 551,
   "metadata": {},
   "outputs": [
    {
     "data": {
      "text/plain": [
       "0.7082135509608005"
      ]
     },
     "execution_count": 551,
     "metadata": {},
     "output_type": "execute_result"
    }
   ],
   "source": [
    "df['budget'].corr(df['revenue'])"
   ]
  },
  {
   "cell_type": "markdown",
   "metadata": {},
   "source": [
    "We see that the correlation between budget and revenue isn't trivial. So we obtain the beta1 coefficient to briefly check the slope of their linearality. \n",
    "In order to prevent making a strong correlation between revenue and budget, I just put another constraint "
   ]
  },
  {
   "cell_type": "code",
   "execution_count": 648,
   "metadata": {},
   "outputs": [
    {
     "name": "stderr",
     "output_type": "stream",
     "text": [
      "C:\\Users\\capjo\\Anaconda3\\lib\\site-packages\\ipykernel_launcher.py:3: SettingWithCopyWarning: \n",
      "A value is trying to be set on a copy of a slice from a DataFrame\n",
      "\n",
      "See the caveats in the documentation: http://pandas.pydata.org/pandas-docs/stable/indexing.html#indexing-view-versus-copy\n",
      "  This is separate from the ipykernel package so we can avoid doing imports until\n"
     ]
    },
    {
     "data": {
      "text/html": [
       "<div>\n",
       "<style scoped>\n",
       "    .dataframe tbody tr th:only-of-type {\n",
       "        vertical-align: middle;\n",
       "    }\n",
       "\n",
       "    .dataframe tbody tr th {\n",
       "        vertical-align: top;\n",
       "    }\n",
       "\n",
       "    .dataframe thead th {\n",
       "        text-align: right;\n",
       "    }\n",
       "</style>\n",
       "<table border=\"1\" class=\"dataframe\">\n",
       "  <thead>\n",
       "    <tr style=\"text-align: right;\">\n",
       "      <th></th>\n",
       "      <th>revenue</th>\n",
       "      <th>budget</th>\n",
       "      <th>release_date</th>\n",
       "      <th>cast</th>\n",
       "      <th>crew</th>\n",
       "      <th>Action</th>\n",
       "      <th>Adventure</th>\n",
       "      <th>Animation</th>\n",
       "      <th>Comedy</th>\n",
       "      <th>Crime</th>\n",
       "      <th>...</th>\n",
       "      <th>world war ii</th>\n",
       "      <th>wretch</th>\n",
       "      <th>writer</th>\n",
       "      <th>xenomorph</th>\n",
       "      <th>xenophobia</th>\n",
       "      <th>young adult</th>\n",
       "      <th>young boy</th>\n",
       "      <th>youth</th>\n",
       "      <th>zombie</th>\n",
       "      <th>zombie apocalypse</th>\n",
       "    </tr>\n",
       "  </thead>\n",
       "  <tbody>\n",
       "    <tr>\n",
       "      <th>0</th>\n",
       "      <td>2787965087</td>\n",
       "      <td>237000000</td>\n",
       "      <td>2009-12-10</td>\n",
       "      <td>[{\"cast_id\": 242, \"character\": \"Jake Sully\", \"...</td>\n",
       "      <td>[{\"credit_id\": \"52fe48009251416c750aca23\", \"de...</td>\n",
       "      <td>1</td>\n",
       "      <td>1</td>\n",
       "      <td>0</td>\n",
       "      <td>0</td>\n",
       "      <td>0</td>\n",
       "      <td>...</td>\n",
       "      <td>0</td>\n",
       "      <td>0</td>\n",
       "      <td>0</td>\n",
       "      <td>0</td>\n",
       "      <td>0</td>\n",
       "      <td>0</td>\n",
       "      <td>0</td>\n",
       "      <td>0</td>\n",
       "      <td>0</td>\n",
       "      <td>0</td>\n",
       "    </tr>\n",
       "    <tr>\n",
       "      <th>1</th>\n",
       "      <td>961000000</td>\n",
       "      <td>300000000</td>\n",
       "      <td>2007-05-19</td>\n",
       "      <td>[{\"cast_id\": 4, \"character\": \"Captain Jack Spa...</td>\n",
       "      <td>[{\"credit_id\": \"52fe4232c3a36847f800b579\", \"de...</td>\n",
       "      <td>1</td>\n",
       "      <td>1</td>\n",
       "      <td>0</td>\n",
       "      <td>0</td>\n",
       "      <td>0</td>\n",
       "      <td>...</td>\n",
       "      <td>0</td>\n",
       "      <td>0</td>\n",
       "      <td>0</td>\n",
       "      <td>0</td>\n",
       "      <td>0</td>\n",
       "      <td>0</td>\n",
       "      <td>0</td>\n",
       "      <td>0</td>\n",
       "      <td>0</td>\n",
       "      <td>0</td>\n",
       "    </tr>\n",
       "    <tr>\n",
       "      <th>2</th>\n",
       "      <td>880674609</td>\n",
       "      <td>245000000</td>\n",
       "      <td>2015-10-26</td>\n",
       "      <td>[{\"cast_id\": 1, \"character\": \"James Bond\", \"cr...</td>\n",
       "      <td>[{\"credit_id\": \"54805967c3a36829b5002c41\", \"de...</td>\n",
       "      <td>1</td>\n",
       "      <td>1</td>\n",
       "      <td>0</td>\n",
       "      <td>0</td>\n",
       "      <td>1</td>\n",
       "      <td>...</td>\n",
       "      <td>0</td>\n",
       "      <td>0</td>\n",
       "      <td>0</td>\n",
       "      <td>0</td>\n",
       "      <td>0</td>\n",
       "      <td>0</td>\n",
       "      <td>0</td>\n",
       "      <td>0</td>\n",
       "      <td>0</td>\n",
       "      <td>0</td>\n",
       "    </tr>\n",
       "    <tr>\n",
       "      <th>3</th>\n",
       "      <td>1084939099</td>\n",
       "      <td>250000000</td>\n",
       "      <td>2012-07-16</td>\n",
       "      <td>[{\"cast_id\": 2, \"character\": \"Bruce Wayne / Ba...</td>\n",
       "      <td>[{\"credit_id\": \"52fe4781c3a36847f81398c3\", \"de...</td>\n",
       "      <td>1</td>\n",
       "      <td>0</td>\n",
       "      <td>0</td>\n",
       "      <td>0</td>\n",
       "      <td>1</td>\n",
       "      <td>...</td>\n",
       "      <td>0</td>\n",
       "      <td>0</td>\n",
       "      <td>0</td>\n",
       "      <td>0</td>\n",
       "      <td>0</td>\n",
       "      <td>0</td>\n",
       "      <td>0</td>\n",
       "      <td>0</td>\n",
       "      <td>0</td>\n",
       "      <td>0</td>\n",
       "    </tr>\n",
       "    <tr>\n",
       "      <th>4</th>\n",
       "      <td>284139100</td>\n",
       "      <td>260000000</td>\n",
       "      <td>2012-03-07</td>\n",
       "      <td>[{\"cast_id\": 5, \"character\": \"John Carter\", \"c...</td>\n",
       "      <td>[{\"credit_id\": \"52fe479ac3a36847f813eaa3\", \"de...</td>\n",
       "      <td>1</td>\n",
       "      <td>1</td>\n",
       "      <td>0</td>\n",
       "      <td>0</td>\n",
       "      <td>0</td>\n",
       "      <td>...</td>\n",
       "      <td>0</td>\n",
       "      <td>0</td>\n",
       "      <td>0</td>\n",
       "      <td>0</td>\n",
       "      <td>0</td>\n",
       "      <td>0</td>\n",
       "      <td>0</td>\n",
       "      <td>0</td>\n",
       "      <td>0</td>\n",
       "      <td>0</td>\n",
       "    </tr>\n",
       "  </tbody>\n",
       "</table>\n",
       "<p>5 rows × 1454 columns</p>\n",
       "</div>"
      ],
      "text/plain": [
       "      revenue     budget release_date  \\\n",
       "0  2787965087  237000000   2009-12-10   \n",
       "1   961000000  300000000   2007-05-19   \n",
       "2   880674609  245000000   2015-10-26   \n",
       "3  1084939099  250000000   2012-07-16   \n",
       "4   284139100  260000000   2012-03-07   \n",
       "\n",
       "                                                cast  \\\n",
       "0  [{\"cast_id\": 242, \"character\": \"Jake Sully\", \"...   \n",
       "1  [{\"cast_id\": 4, \"character\": \"Captain Jack Spa...   \n",
       "2  [{\"cast_id\": 1, \"character\": \"James Bond\", \"cr...   \n",
       "3  [{\"cast_id\": 2, \"character\": \"Bruce Wayne / Ba...   \n",
       "4  [{\"cast_id\": 5, \"character\": \"John Carter\", \"c...   \n",
       "\n",
       "                                                crew  Action  Adventure  \\\n",
       "0  [{\"credit_id\": \"52fe48009251416c750aca23\", \"de...       1          1   \n",
       "1  [{\"credit_id\": \"52fe4232c3a36847f800b579\", \"de...       1          1   \n",
       "2  [{\"credit_id\": \"54805967c3a36829b5002c41\", \"de...       1          1   \n",
       "3  [{\"credit_id\": \"52fe4781c3a36847f81398c3\", \"de...       1          0   \n",
       "4  [{\"credit_id\": \"52fe479ac3a36847f813eaa3\", \"de...       1          1   \n",
       "\n",
       "   Animation  Comedy  Crime  ...  world war ii  wretch  writer  xenomorph  \\\n",
       "0          0       0      0  ...             0       0       0          0   \n",
       "1          0       0      0  ...             0       0       0          0   \n",
       "2          0       0      1  ...             0       0       0          0   \n",
       "3          0       0      1  ...             0       0       0          0   \n",
       "4          0       0      0  ...             0       0       0          0   \n",
       "\n",
       "   xenophobia  young adult  young boy  youth  zombie  zombie apocalypse  \n",
       "0           0            0          0      0       0                  0  \n",
       "1           0            0          0      0       0                  0  \n",
       "2           0            0          0      0       0                  0  \n",
       "3           0            0          0      0       0                  0  \n",
       "4           0            0          0      0       0                  0  \n",
       "\n",
       "[5 rows x 1454 columns]"
      ]
     },
     "execution_count": 648,
     "metadata": {},
     "output_type": "execute_result"
    }
   ],
   "source": [
    "for i in range(len(df)):\n",
    "    if df['budget'][i] == 0:\n",
    "        df['budget'][i] = df['revenue'][i]/3\n",
    "df.head()"
   ]
  },
  {
   "cell_type": "code",
   "execution_count": 560,
   "metadata": {},
   "outputs": [
    {
     "data": {
      "text/plain": [
       "0.7103429984038676"
      ]
     },
     "execution_count": 560,
     "metadata": {},
     "output_type": "execute_result"
    }
   ],
   "source": [
    "df['budget'].corr(df['revenue'])"
   ]
  },
  {
   "cell_type": "markdown",
   "metadata": {},
   "source": [
    "Model Hyperparameter tuning is very useful to enhance the performance of a machine learning model. We have discussed both the approaches to do the tuning that is GridSearchCV and RandomizedSeachCV. The only difference between both the approaches is in grid search we define the combinations and do training of the model whereas in RandomizedSearchCV the model selects the combinations randomly. Both are very effective ways of tuning the parameters that increase the model generalizability."
   ]
  },
  {
   "cell_type": "code",
   "execution_count": 566,
   "metadata": {},
   "outputs": [
    {
     "name": "stdout",
     "output_type": "stream",
     "text": [
      "Fitting 5 folds for each of 100 candidates, totalling 500 fits\n"
     ]
    },
    {
     "name": "stderr",
     "output_type": "stream",
     "text": [
      "[Parallel(n_jobs=4)]: Using backend LokyBackend with 4 concurrent workers.\n",
      "[Parallel(n_jobs=4)]: Done  24 tasks      | elapsed: 19.1min\n",
      "[Parallel(n_jobs=4)]: Done 120 tasks      | elapsed: 60.1min\n",
      "[Parallel(n_jobs=4)]: Done 280 tasks      | elapsed: 129.0min\n",
      "[Parallel(n_jobs=4)]: Done 500 out of 500 | elapsed: 220.3min finished\n"
     ]
    },
    {
     "data": {
      "text/plain": [
       "RandomizedSearchCV(cv=5, error_score='raise-deprecating',\n",
       "          estimator=XGBRegressor(base_score=None, booster=None, colsample_bylevel=None,\n",
       "       colsample_bynode=None, colsample_bytree=None, gamma=None,\n",
       "       gpu_id=None, importance_type='gain', interaction_constraints=None,\n",
       "       learning_rate=None, max_delta_step=None, max_depth=None,\n",
       "       min_child_we..._pos_weight=None, subsample=None,\n",
       "       tree_method=None, validate_parameters=None, verbosity=None),\n",
       "          fit_params=None, iid='warn', n_iter=100, n_jobs=4,\n",
       "          param_distributions={'n_estimators': [100, 300, 500, 700, 900], 'max_depth': [3, 6, 9, 12, 15], 'learning_rate': [0.05, 0.1, 0.15, 0.2, 0.25, 0.3, 0.35, 0.4, 0.5], 'min_child_weight': [1, 2, 3, 4], 'reg_lambda': [0, 1, 5, 10]},\n",
       "          pre_dispatch='2*n_jobs', random_state=None, refit=True,\n",
       "          return_train_score=True, scoring=None, verbose=3)"
      ]
     },
     "execution_count": 566,
     "metadata": {},
     "output_type": "execute_result"
    }
   ],
   "source": [
    "n_estimators = [100, 300, 500, 700, 900]\n",
    "max_depth = [3, 6, 9, 12, 15]\n",
    "learning_rate = [0.05, 0.1, 0.15, 0.2, 0.25, 0.3, 0.35, 0.4, 0.5]\n",
    "min_child_weight = [1, 2, 3, 4]\n",
    "reg_lambda = [0, 1, 5, 10]\n",
    "\n",
    "hyperparameter= {\n",
    "    'n_estimators' : n_estimators,\n",
    "    'max_depth' : max_depth,\n",
    "    'learning_rate' : learning_rate,\n",
    "    'min_child_weight': min_child_weight,\n",
    "    'reg_lambda' : reg_lambda,\n",
    "}\n",
    "cv_xgb = XGBRegressor()\n",
    "\n",
    "rscv = RandomizedSearchCV(estimator = cv_xgb, \n",
    "                               param_distributions = hyperparameter, cv =5,\n",
    "                              n_iter = 100, n_jobs =4, verbose =3, \n",
    "                            return_train_score = True)\n",
    "rscv.fit(x_train, y_train)"
   ]
  },
  {
   "cell_type": "code",
   "execution_count": 568,
   "metadata": {},
   "outputs": [
    {
     "data": {
      "text/plain": [
       "XGBRegressor(base_score=0.5, booster='gbtree', colsample_bylevel=1,\n",
       "       colsample_bynode=1, colsample_bytree=1, gamma=0, gpu_id=-1,\n",
       "       importance_type='gain', interaction_constraints='',\n",
       "       learning_rate=0.05, max_delta_step=0, max_depth=3,\n",
       "       min_child_weight=4, missing=nan, monotone_constraints='()',\n",
       "       n_estimators=500, n_jobs=0, num_parallel_tree=1,\n",
       "       objective='reg:squarederror', random_state=0, reg_alpha=0,\n",
       "       reg_lambda=10, scale_pos_weight=1, subsample=1, tree_method='exact',\n",
       "       validate_parameters=1, verbosity=None)"
      ]
     },
     "execution_count": 568,
     "metadata": {},
     "output_type": "execute_result"
    }
   ],
   "source": [
    "best_params = rscv.best_estimator_\n",
    "best_params"
   ]
  },
  {
   "cell_type": "code",
   "execution_count": null,
   "metadata": {},
   "outputs": [],
   "source": [
    "# draw the tree :ballpark\n",
    "#model_xgb = 복붙해와서 n_estimators =1\n",
    "#아님 그냥 model이렇게 불러와도 되는듯?\n",
    "# node_params = {'shape': 'box', 'style': 'filled, rounded','fillcolor': '#78cbe'}\n",
    "# leaf_params = {'shape': 'box', 'style': 'filled', 'fillcolor': '#e48038'}\n",
    "# xgb.to_graphviz(model, num_trees =0, size = \"10,10\", \n",
    "#                 condition_node_params = node_params,\n",
    "#                leaf_node_params = leaf_params)"
   ]
  },
  {
   "cell_type": "code",
   "execution_count": 726,
   "metadata": {},
   "outputs": [
    {
     "name": "stdout",
     "output_type": "stream",
     "text": [
      "# columns before constraint: 19\n",
      "# columns after constraint: 19\n",
      "# columns before constraint: 3736\n",
      "# columns after constraint: 300\n",
      "# columns before constraint: 8828\n",
      "# columns after constraint: 1130\n",
      "# columns before constraint: 46307\n",
      "# columns after constraint: 2283\n",
      "# columns before constraint: 45396\n",
      "# columns after constraint: 3833\n"
     ]
    },
    {
     "name": "stderr",
     "output_type": "stream",
     "text": [
      "C:\\Users\\capjo\\Anaconda3\\lib\\site-packages\\IPython\\core\\interactiveshell.py:3296: SettingWithCopyWarning: \n",
      "A value is trying to be set on a copy of a slice from a DataFrame\n",
      "\n",
      "See the caveats in the documentation: http://pandas.pydata.org/pandas-docs/stable/indexing.html#indexing-view-versus-copy\n",
      "  exec(code_obj, self.user_global_ns, self.user_ns)\n",
      "C:\\Users\\capjo\\Anaconda3\\lib\\site-packages\\sklearn\\utils\\validation.py:595: DataConversionWarning: Data with input dtype int64 was converted to float64 by StandardScaler.\n",
      "  warnings.warn(msg, DataConversionWarning)\n",
      "C:\\Users\\capjo\\Anaconda3\\lib\\site-packages\\sklearn\\utils\\validation.py:595: DataConversionWarning: Data with input dtype int64 was converted to float64 by StandardScaler.\n",
      "  warnings.warn(msg, DataConversionWarning)\n"
     ]
    }
   ],
   "source": [
    "#preprocessing steps for the next experiment\n",
    "df = pd.read_csv('data_final.csv')\n",
    "genres = preprocess(\"genres\")\n",
    "df = updatefile(genres, 'genres', df)\n",
    "production_companies = preprocess(\"production_companies\")\n",
    "df = updatefile(production_companies, 'production_companies', df)\n",
    "df['release_date'] =pd.to_datetime(df['release_date'], format = \"%Y-%m-%d\")\n",
    "df['release_year'] = df['release_date'].dt.year\n",
    "df['release_month'] = df['release_date'].dt.month\n",
    "df['release_day'] = df['release_date'].dt.day\n",
    "df.drop(columns=['release_date'], inplace = True)\n",
    "keywords = preprocess(\"keywords\")\n",
    "df = updatefile(keywords, 'keywords', df)\n",
    "cast = preprocess(\"cast\")\n",
    "df = updatefile(cast, 'cast', df)\n",
    "crew = preprocess('crew')\n",
    "df = updatefile(crew, 'crew', df)\n",
    "df.columns = df.columns.str.replace(' ', '_')\n",
    "for i in range(len(df)):\n",
    "    if df['budget'][i] == 0:\n",
    "        df['budget'][i] = df['revenue'][i]/3\n",
    "scaler = StandardScaler()\n",
    "df['budget'] = scaler.fit_transform(df['budget'].values.reshape(-1,1))\n",
    "df = df.loc[:, ~df.columns.duplicated()]"
   ]
  },
  {
   "cell_type": "code",
   "execution_count": 752,
   "metadata": {},
   "outputs": [
    {
     "name": "stdout",
     "output_type": "stream",
     "text": [
      "best parameter r2_score: 0.393441\n"
     ]
    }
   ],
   "source": [
    "x = df.drop(columns = 'revenue')\n",
    "y = np.log(df['revenue']+1.0)\n",
    "movies_num = np.shape(x)[0]\n",
    "order = np.arange(movies_num)\n",
    "np.random.shuffle(order)\n",
    "x_train = x.values[order][:3000]\n",
    "x_test = x.values[order][3000:]\n",
    "y_train = y.values[order][:3000]\n",
    "y_test = y.values[order][3000:]\n",
    "model_xgb = XGBRegressor(base_score=0.5, booster='gbtree', colsample_bylevel=1,\n",
    "       colsample_bynode=1, colsample_bytree=1, gamma=0, gpu_id=-1,\n",
    "       importance_type='gain', interaction_constraints='',\n",
    "       learning_rate=0.05, max_delta_step=0, max_depth=6,\n",
    "       min_child_weight=1, monotone_constraints='()',\n",
    "       n_estimators=250, n_jobs=0, num_parallel_tree=1,\n",
    "       objective='reg:squarederror', random_state=0, reg_alpha=0,\n",
    "       reg_lambda=1, scale_pos_weight=1, subsample=1, tree_method='exact',\n",
    "       validate_parameters=1, verbosity=None)\n",
    "\n",
    "model_xgb.fit(x_train, y_train)\n",
    "print(\"best parameter r2_score: %f\" %model_xgb.score(x_test, y_test))"
   ]
  },
  {
   "cell_type": "code",
   "execution_count": 728,
   "metadata": {},
   "outputs": [
    {
     "data": {
      "text/plain": [
       "0.4557189183927516"
      ]
     },
     "execution_count": 728,
     "metadata": {},
     "output_type": "execute_result"
    }
   ],
   "source": [
    "model_xgb.score(x_test, y_test)"
   ]
  },
  {
   "cell_type": "code",
   "execution_count": 730,
   "metadata": {},
   "outputs": [
    {
     "name": "stdout",
     "output_type": "stream",
     "text": [
      "GBR model r2_score: 0.415295\n"
     ]
    }
   ],
   "source": [
    "params = {'n_estimators' : 500, 'max_depth' :6, 'learning_rate' : 0.05}\n",
    "model_gbr = GradientBoostingRegressor(**params)\n",
    "model_gbr.fit(x_train, y_train)\n",
    "print(\"GBR model r2_score: %f\" %model_gbr.score(x_test, y_test))"
   ]
  },
  {
   "cell_type": "code",
   "execution_count": 750,
   "metadata": {},
   "outputs": [
    {
     "name": "stdout",
     "output_type": "stream",
     "text": [
      "model score: 0.438907\n"
     ]
    }
   ],
   "source": [
    "x = df.drop(columns = 'revenue')\n",
    "x = x['budget']\n",
    "y = np.log(df['revenue']+1.0)\n",
    "movies_num = np.shape(x)[0]\n",
    "order = np.arange(movies_num)\n",
    "np.random.shuffle(order)\n",
    "x_train = x.values[order][:3000].reshape(-1,1)\n",
    "x_test = x.values[order][3000:].reshape(-1,1)\n",
    "y_train = y.values[order][:3000]\n",
    "y_test = y.values[order][3000:]\n",
    "model_xgb = XGBRegressor(base_score=0.5, booster='gbtree', colsample_bylevel=1,\n",
    "       colsample_bynode=1, colsample_bytree=1, gamma=0, gpu_id=-1,\n",
    "       importance_type='gain', interaction_constraints='',\n",
    "       learning_rate=0.05, max_delta_step=0, max_depth=6,\n",
    "       min_child_weight=1, monotone_constraints='()',\n",
    "       n_estimators=250, n_jobs=0, num_parallel_tree=1,\n",
    "       objective='reg:squarederror', random_state=0, reg_alpha=0,\n",
    "       reg_lambda=1, scale_pos_weight=1, subsample=1, tree_method='exact',\n",
    "       validate_parameters=1, verbosity=None)\n",
    "model_xgb.fit(x_train, y_train)\n",
    "y_pred = model_xgb.predict(x_test)\n",
    "print(\"model score: %f\" %model_xgb.score(x_test, y_test))"
   ]
  },
  {
   "cell_type": "code",
   "execution_count": 751,
   "metadata": {},
   "outputs": [
    {
     "name": "stdout",
     "output_type": "stream",
     "text": [
      "model score: 0.468733\n"
     ]
    }
   ],
   "source": [
    "params = {'n_estimators' : 100, 'max_depth' :6, 'learning_rate' : 0.05}\n",
    "model_gbr = GradientBoostingRegressor(**params)\n",
    "model_gbr.fit(x_train, y_train)\n",
    "print(\"model score: %f\" %model_gbr.score(x_test, y_test))"
   ]
  },
  {
   "cell_type": "markdown",
   "metadata": {},
   "source": [
    "Applying the budget_zero technique instead of replacement"
   ]
  },
  {
   "cell_type": "code",
   "execution_count": 760,
   "metadata": {},
   "outputs": [
    {
     "name": "stdout",
     "output_type": "stream",
     "text": [
      "# columns before constraint: 19\n",
      "# columns after constraint: 19\n",
      "# columns before constraint: 3736\n",
      "# columns after constraint: 300\n",
      "# columns before constraint: 8828\n",
      "# columns after constraint: 1130\n",
      "# columns before constraint: 46307\n",
      "# columns after constraint: 2283\n",
      "# columns before constraint: 45396\n",
      "# columns after constraint: 3833\n"
     ]
    },
    {
     "name": "stderr",
     "output_type": "stream",
     "text": [
      "C:\\Users\\capjo\\Anaconda3\\lib\\site-packages\\sklearn\\utils\\validation.py:595: DataConversionWarning: Data with input dtype int64 was converted to float64 by StandardScaler.\n",
      "  warnings.warn(msg, DataConversionWarning)\n",
      "C:\\Users\\capjo\\Anaconda3\\lib\\site-packages\\sklearn\\utils\\validation.py:595: DataConversionWarning: Data with input dtype int64 was converted to float64 by StandardScaler.\n",
      "  warnings.warn(msg, DataConversionWarning)\n",
      "C:\\Users\\capjo\\Anaconda3\\lib\\site-packages\\pandas\\core\\generic.py:8682: SettingWithCopyWarning: \n",
      "A value is trying to be set on a copy of a slice from a DataFrame\n",
      "\n",
      "See the caveats in the documentation: http://pandas.pydata.org/pandas-docs/stable/indexing.html#indexing-view-versus-copy\n",
      "  self._update_inplace(new_data)\n",
      "C:\\Users\\capjo\\Anaconda3\\lib\\site-packages\\IPython\\core\\interactiveshell.py:3296: SettingWithCopyWarning: \n",
      "A value is trying to be set on a copy of a slice from a DataFrame\n",
      "\n",
      "See the caveats in the documentation: http://pandas.pydata.org/pandas-docs/stable/indexing.html#indexing-view-versus-copy\n",
      "  exec(code_obj, self.user_global_ns, self.user_ns)\n"
     ]
    }
   ],
   "source": [
    "df = pd.read_csv('data_final.csv')\n",
    "genres = preprocess(\"genres\")\n",
    "df = updatefile(genres, 'genres', df)\n",
    "production_companies = preprocess(\"production_companies\")\n",
    "df = updatefile(production_companies, 'production_companies', df)\n",
    "df['release_date'] =pd.to_datetime(df['release_date'], format = \"%Y-%m-%d\")\n",
    "df['release_year'] = df['release_date'].dt.year\n",
    "df['release_month'] = df['release_date'].dt.month\n",
    "df['release_day'] = df['release_date'].dt.day\n",
    "df.drop(columns=['release_date'], inplace = True)\n",
    "keywords = preprocess(\"keywords\")\n",
    "df = updatefile(keywords, 'keywords', df)\n",
    "cast = preprocess(\"cast\")\n",
    "df = updatefile(cast, 'cast', df)\n",
    "crew = preprocess('crew')\n",
    "df = updatefile(crew, 'crew', df)\n",
    "df.columns = df.columns.str.replace(' ', '_')\n",
    "# for i in range(len(df)):\n",
    "#     if df['budget'][i] == 0:\n",
    "#         df['budget'][i] = df['revenue'][i]/3\n",
    "df['budget_zero'] = np.where(df['budget'] == 0,1,0)\n",
    "scaler = StandardScaler()\n",
    "df['budget'][df['budget']>0] = scaler.fit_transform(df['budget'][df['budget'] >0].values.reshape(-1,1))\n",
    "df = df.loc[:, ~df.columns.duplicated()]"
   ]
  },
  {
   "cell_type": "code",
   "execution_count": 763,
   "metadata": {},
   "outputs": [
    {
     "data": {
      "image/png": "[encoded data removed]",
      "text/plain": [
       "<Figure size 432x288 with 1 Axes>"
      ]
     },
     "metadata": {
      "needs_background": "light"
     },
     "output_type": "display_data"
    },
    {
     "name": "stdout",
     "output_type": "stream",
     "text": [
      "The mean is 0.4026412081346432 and the standard deviation is 0.04959996779011843.\n"
     ]
    }
   ],
   "source": [
    "x = df.drop(columns = 'revenue')\n",
    "y = np.log(df['revenue']+1.0)\n",
    "movies_num = np.shape(x)[0]\n",
    "score = [0 for i in range(100)]\n",
    "for i in range(100):\n",
    "    order = np.arange(movies_num)\n",
    "    np.random.shuffle(order)\n",
    "    x_train = x.values[order][:3000]\n",
    "    x_test = x.values[order][3000:]\n",
    "    y_train = y.values[order][:3000]\n",
    "    y_test = y.values[order][3000:]\n",
    "    model_xgb = XGBRegressor(base_score=0.5, booster='gbtree', colsample_bylevel=1,\n",
    "           colsample_bynode=1, colsample_bytree=1, gamma=0, gpu_id=-1,\n",
    "           importance_type='gain', interaction_constraints='',\n",
    "           learning_rate=0.05, max_delta_step=0, max_depth=6,\n",
    "           min_child_weight=1, monotone_constraints='()',\n",
    "           n_estimators=100, n_jobs=0, num_parallel_tree=1,\n",
    "           objective='reg:squarederror', random_state=0, reg_alpha=0,\n",
    "           reg_lambda=1, scale_pos_weight=1, subsample=1, tree_method='exact',\n",
    "           validate_parameters=1, verbosity=None)\n",
    "    model_xgb.fit(x_train, y_train)\n",
    "    score[i] = model_xgb.score(x_test, y_test)\n",
    "\n",
    "fig = plt.figure()  \n",
    "ax = plt.subplot()  \n",
    "ax.boxplot(score)\n",
    "ax.set_xticklabels(['prediction score from XGBoost'])\n",
    "plt.show()\n",
    "print(\"The mean is {} and the standard deviation is {}.\".format(np.mean(score), np.sqrt(np.var(score))))"
   ]
  },
  {
   "cell_type": "code",
   "execution_count": 762,
   "metadata": {},
   "outputs": [
    {
     "data": {
      "text/plain": [
       "(3376, 7513)"
      ]
     },
     "execution_count": 762,
     "metadata": {},
     "output_type": "execute_result"
    }
   ],
   "source": [
    "df.shape"
   ]
  },
  {
   "cell_type": "markdown",
   "metadata": {},
   "source": [
    "# 1. Heading\n",
    "## 2. Title\n",
    "### 3. Third Heading"
   ]
  },
  {
   "cell_type": "markdown",
   "metadata": {},
   "source": [
    "<b> make text bold <b> <br>\n",
    "    fdf\n",
    "    **another method**"
   ]
  },
  {
   "cell_type": "markdown",
   "metadata": {},
   "source": [
    "*italic*"
   ]
  },
  {
   "cell_type": "markdown",
   "metadata": {},
   "source": [
    "- hello\n",
    "* hello \n",
    "    - hello world"
   ]
  },
  {
   "cell_type": "markdown",
   "metadata": {},
   "source": [
    "1. number one\n",
    "2. number two\n",
    "    "
   ]
  },
  {
   "cell_type": "markdown",
   "metadata": {},
   "source": [
    "$alpha$\n",
    "$phi$"
   ]
  },
  {
   "cell_type": "markdown",
   "metadata": {},
   "source": [
    "> indentation <br>\n",
    "> indentation 2"
   ]
  },
  {
   "cell_type": "code",
   "execution_count": null,
   "metadata": {},
   "outputs": [],
   "source": []
  }
 ],
 "metadata": {
  "kernelspec": {
   "display_name": "Python 3",
   "language": "python",
   "name": "python3"
  },
  "language_info": {
   "codemirror_mode": {
    "name": "ipython",
    "version": 3
   },
   "file_extension": ".py",
   "mimetype": "text/x-python",
   "name": "python",
   "nbconvert_exporter": "python",
   "pygments_lexer": "ipython3",
   "version": "3.7.3"
  }
 },
 "nbformat": 4,
 "nbformat_minor": 2
}
